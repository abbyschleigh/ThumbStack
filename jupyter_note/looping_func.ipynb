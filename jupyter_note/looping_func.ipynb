{
 "cells": [
  {
   "cell_type": "code",
   "execution_count": 8,
   "id": "b72300f2-facf-455c-9411-6399bc315794",
   "metadata": {},
   "outputs": [],
   "source": [
    "import sys\n",
    "sys.path.append('../src/')\n",
    "import thumbstack\n",
    "from thumbstack import *\n",
    "from my_functions import cutting, mapping, masking, binning\n",
    "import numpy as np\n",
    "from pixell import enmap\n",
    "import mass_conversion\n",
    "from mass_conversion import *\n",
    "import matplotlib.pyplot as plt"
   ]
  },
  {
   "cell_type": "code",
   "execution_count": null,
   "id": "ea71cee3-4ede-4efb-867c-39db7719af17",
   "metadata": {},
   "outputs": [],
   "source": [
    "#this_map=mapping('act_dr5.01_s08s18_AA_f150_night_map.fits.txt', save=True, save_name='act_test2_map')\n",
    "#this_mask=masking('act_dr5.01_s08s18_AA_f150_night_map.fits.txt', 'gal60_mask.fits', save=True, save_name='act_test2_mask')\n",
    "\n",
    "#my_dict={'LOGM': [6,9], 'LOGSFR': [-10,0]}\n",
    "#my_dict={'LOGM': [6,6.5], 'LOGSFR': [-1.5,0]}\n",
    "my_data='FujiBGSPhysProp_v1.1'\n",
    "\n",
    "mapped = enmap.read_map('act_test2_map')\n",
    "masked = enmap.read_map('act_test2_mask')\n",
    "my_dict={'LOGM': [6,6.5], 'LOGSFR': [-1.5,0]}\n",
    "my_data='FujiBGSPhysProp_v1.1'\n",
    "\n",
    "ts = ThumbStack(cutting(my_data, my_dict), \n",
    "                mapped, \n",
    "                masked, \n",
    "                name='act_test4',\n",
    "                nameLong=None, \n",
    "                save=True, \n",
    "                nProc=32,\n",
    "                filterType='ringring2',\n",
    "                #doMBins=False, \n",
    "                doBootstrap=True,\n",
    "                # doStackedMap=True,\n",
    "                #doVShuffle=False, \n",
    "                #cmbNu=cmap.nu, \n",
    "                #cmbUnitLatex=cmap.unitLatex,\n",
    "                pathOut='') #pathOut goes to my ThumbStack directory"
   ]
  },
  {
   "cell_type": "code",
   "execution_count": null,
   "id": "ee24bbf1-e0e4-4f87-bfa7-f43df7ff0326",
   "metadata": {},
   "outputs": [],
   "source": [
    "def stacked_plot(catalog_name, cmb_map, mask, n_bins, gal_property, name):\n",
    "    \n",
    "    # run binning\n",
    "    boundaries = binning(catalog_name, n_bins, gal_property, tabled=True)\n",
    "\n",
    "    # run thumbstack with \n",
    "    for i in range(n_bins):\n",
    "        outName = name + '_bin' + str(i+1)\n",
    "        this_min = gal_property + '_min'\n",
    "        this_max = gal_property + '_max'\n",
    "        prop_dict = {} # clears dictionary from prev loop\n",
    "        prop_dict = {gal_property: [boundaries[this_min][i], boundaries[this_max][i]}\n",
    "\n",
    "        ThumbStack(cutting(catalog_name, prop_dict), \n",
    "                   cmb_map, \n",
    "                   mask, \n",
    "                   name=outName,\n",
    "                   nameLong=None, \n",
    "                   save=True, \n",
    "                   nProc=32,\n",
    "                   filterTypes='ringring2',\n",
    "                   #doMBins=False, \n",
    "                   doBootstrap=True,\n",
    "                   # doStackedMap=True,\n",
    "                   #doVShuffle=False, \n",
    "                   #cmbNu=cmap.nu, \n",
    "                   #cmbUnitLatex=cmap.unitLatex,\n",
    "                   pathOut='')\n",
    "    \n",
    "    # plotting\n",
    "    plt.figure()\n",
    "    for i in range(n_bins):\n",
    "        fits_name = 'figures/thumbstack/' + name + '_bin' + str(i+1) + '/diskring_tsz_uniformweight.fits'\n",
    "        fits_file = Table.read(fits_name, format='fits')\n",
    "        cap_name = 'bin ' + str(i)\n",
    "        plt.errorbar(fits_file['R'], fits_file['T'], yerr = fits_file['error'], alpha=0.4, label=cap_name)\n",
    "    \n",
    "    plt.xlabel(r'$R$ [arcmin]')\n",
    "    plt.ylabel(r'$T$ [$\\mu K\\cdot\\mathrm{arcmin}^2$]')\n",
    "    plt.legend()\n",
    "    \n",
    "    fig_name=name+'_profile.png'\n",
    "    plt.savefig(fig_name)\n",
    "    \n",
    "    plt.show()\n",
    "    \n",
    "    return"
   ]
  },
  {
   "cell_type": "code",
   "execution_count": 17,
   "id": "f55f80f0-77be-43ba-8ce6-ccbc039abf54",
   "metadata": {},
   "outputs": [
    {
     "data": {
      "image/png": "[encoded data removed]",
      "text/plain": [
       "<Figure size 640x480 with 1 Axes>"
      ]
     },
     "metadata": {},
     "output_type": "display_data"
    }
   ],
   "source": [
    "# ex plot\n",
    "name = 'act_test'\n",
    "plt.figure()\n",
    "for i in range(3,5):\n",
    "    fits_name = 'figures/thumbstack/' + name + str(i) + '/diskring_tsz_uniformweight.fits'\n",
    "    fits_file = Table.read(fits_name, format='fits')\n",
    "    cap_name = 'bin ' + str(i)\n",
    "    plt.errorbar(fits_file['R'], fits_file['T'], yerr = fits_file['error'], alpha=0.4, label=cap_name)\n",
    "\n",
    "plt.xlabel(r'$R$ [arcmin]')\n",
    "plt.ylabel(r'$T$ [$\\mu K\\cdot\\mathrm{arcmin}^2$]')\n",
    "plt.legend()\n",
    "\n",
    "fig_name=name+'_profile.png'\n",
    "plt.savefig(fig_name)\n",
    "\n",
    "plt.show()"
   ]
  }
 ],
 "metadata": {
  "kernelspec": {
   "display_name": "Python 3 (ipykernel)",
   "language": "python",
   "name": "python3"
  },
  "language_info": {
   "codemirror_mode": {
    "name": "ipython",
    "version": 3
   },
   "file_extension": ".py",
   "mimetype": "text/x-python",
   "name": "python",
   "nbconvert_exporter": "python",
   "pygments_lexer": "ipython3",
   "version": "3.8.16"
  }
 },
 "nbformat": 4,
 "nbformat_minor": 5
}
