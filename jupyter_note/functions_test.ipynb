{
 "cells": [
  {
   "cell_type": "code",
   "execution_count": 2,
   "id": "981dd20f",
   "metadata": {},
   "outputs": [],
   "source": [
    "# local import\n",
    "from my_functions import cutting, massage, mapping, masking\n",
    "import my_functions"
   ]
  },
  {
   "cell_type": "code",
   "execution_count": 7,
   "id": "0a7c76f9",
   "metadata": {},
   "outputs": [
    {
     "name": "stderr",
     "output_type": "stream",
     "text": [
      "WARNING: UnitsWarning: 'log(solMass)' did not parse as fits unit: 'log' is not a recognized function If this is meant to be a custom unit, define it with 'u.def_unit'. To have it recognized inside a file reader or other code, enable it with 'u.add_enabled_units'. For details, see https://docs.astropy.org/en/latest/units/combining_and_defining.html [astropy.units.core]\n",
      "WARNING: UnitsWarning: 'log(solMass/yr)' did not parse as fits unit: 'log' is not a recognized function If this is meant to be a custom unit, define it with 'u.def_unit'. To have it recognized inside a file reader or other code, enable it with 'u.add_enabled_units'. For details, see https://docs.astropy.org/en/latest/units/combining_and_defining.html [astropy.units.core]\n",
      "WARNING: UnitsWarning: 'nanomaggy' did not parse as fits unit: At col 0, Unit 'nanomaggy' not supported by the FITS standard.  If this is meant to be a custom unit, define it with 'u.def_unit'. To have it recognized inside a file reader or other code, enable it with 'u.add_enabled_units'. For details, see https://docs.astropy.org/en/latest/units/combining_and_defining.html [astropy.units.core]\n",
      "WARNING: UnitsWarning: 'nanomaggy^-2' did not parse as fits unit: At col 0, Unit 'nanomaggy' not supported by the FITS standard.  If this is meant to be a custom unit, define it with 'u.def_unit'. To have it recognized inside a file reader or other code, enable it with 'u.add_enabled_units'. For details, see https://docs.astropy.org/en/latest/units/combining_and_defining.html [astropy.units.core]\n"
     ]
    },
    {
     "name": "stdout",
     "output_type": "stream",
     "text": [
      "Min:  -9.9658977026794\n",
      "Max:  -0.0008482402851721889\n"
     ]
    }
   ],
   "source": [
    "# test cutting\n",
    "my_dict={'LOGM': [6,9], 'LOGSFR': [-10,0]}\n",
    "my_data='FujiBGSPhysProp_v1.1'\n",
    "#cutting(my_data, my_dict)\n",
    "\n",
    "# check that it worked (you can change the key to whatever param)\n",
    "print('Min: ', cutting(my_data, my_dict)['LOGSFR'].min())\n",
    "print('Max: ', cutting(my_data, my_dict)['LOGSFR'].max())"
   ]
  },
  {
   "cell_type": "code",
   "execution_count": 4,
   "id": "10baa783",
   "metadata": {},
   "outputs": [
    {
     "name": "stderr",
     "output_type": "stream",
     "text": [
      "WARNING: UnitsWarning: 'log(solMass)' did not parse as fits unit: 'log' is not a recognized function If this is meant to be a custom unit, define it with 'u.def_unit'. To have it recognized inside a file reader or other code, enable it with 'u.add_enabled_units'. For details, see https://docs.astropy.org/en/latest/units/combining_and_defining.html [astropy.units.core]\n",
      "WARNING: UnitsWarning: 'log(solMass/yr)' did not parse as fits unit: 'log' is not a recognized function If this is meant to be a custom unit, define it with 'u.def_unit'. To have it recognized inside a file reader or other code, enable it with 'u.add_enabled_units'. For details, see https://docs.astropy.org/en/latest/units/combining_and_defining.html [astropy.units.core]\n",
      "WARNING: UnitsWarning: 'nanomaggy' did not parse as fits unit: At col 0, Unit 'nanomaggy' not supported by the FITS standard.  If this is meant to be a custom unit, define it with 'u.def_unit'. To have it recognized inside a file reader or other code, enable it with 'u.add_enabled_units'. For details, see https://docs.astropy.org/en/latest/units/combining_and_defining.html [astropy.units.core]\n",
      "WARNING: UnitsWarning: 'nanomaggy^-2' did not parse as fits unit: At col 0, Unit 'nanomaggy' not supported by the FITS standard.  If this is meant to be a custom unit, define it with 'u.def_unit'. To have it recognized inside a file reader or other code, enable it with 'u.add_enabled_units'. For details, see https://docs.astropy.org/en/latest/units/combining_and_defining.html [astropy.units.core]\n"
     ]
    },
    {
     "name": "stdout",
     "output_type": "stream",
     "text": [
      "- read input catalog from this_test.txt\n",
      "- add halo masses\n",
      "- add integrated tau\n",
      "- add integrated kSZ\n",
      "- add integrated y\n",
      "- write full catalog to ../output/catalog/this_test/catalog.txt\n",
      "- load full catalog from ../output/catalog/this_test/catalog.txt\n",
      "- load full catalog from ../output/catalog/this_test/catalog.txt\n"
     ]
    }
   ],
   "source": [
    "# test massage\n",
    "item=massage(cutting(my_data, my_dict), 'this_test')"
   ]
  },
  {
   "cell_type": "code",
   "execution_count": 4,
   "id": "17f65080",
   "metadata": {},
   "outputs": [],
   "source": [
    "# test mapping\n",
    "\n",
    "imap=mapping('act_dr5.01_s08s18_AA_f150_night_map.fits.txt')\n",
    "from pixell import enplot\n",
    "def eshow(x,**kwargs): \n",
    "    ''' Define a function to help us plot the maps neatly '''\n",
    "    plots = enplot.get_plots(x, **kwargs)\n",
    "    enplot.show(plots, method = \"ipython\")\n",
    "    \n",
    "# add \"color\", \"min\", \"max\", \"range\" etc keys here to adjust your plot\n",
    "keys = {\"downgrade\": 8, \"ticks\": 10, \"colorbar\": True}  # def color is planck\n",
    "keys_ex = {\"downgrade\": 8, \"ticks\": 10, \"colorbar\": True, 'color': 'planck', \n",
    "           'min': -200, 'max': 100}  \n",
    "\n",
    "eshow(imap, **keys) "
   ]
  },
  {
   "cell_type": "code",
   "execution_count": 2,
   "id": "c12a6e06",
   "metadata": {},
   "outputs": [],
   "source": [
    "# test masking\n",
    "new_map=masking('act_dr5.01_s08s18_AA_f150_night_map.fits.txt')\n",
    "\n",
    "from pixell import enplot\n",
    "def eshow(x,**kwargs): \n",
    "    ''' Define a function to help us plot the maps neatly '''\n",
    "    plots = enplot.get_plots(x, **kwargs)\n",
    "    enplot.show(plots, method = \"ipython\")\n",
    "    \n",
    "# add \"color\", \"min\", \"max\", \"range\" etc keys here to adjust your plot\n",
    "keys = {\"downgrade\": 8, \"ticks\": 10, \"colorbar\": True}  # def color is planck\n",
    "keys_ex = {\"downgrade\": 8, \"ticks\": 10, \"colorbar\": True, 'color': 'planck', \n",
    "           'min': -200, 'max': 100}  \n",
    "\n",
    "eshow(new_map, **keys)"
   ]
  },
  {
   "cell_type": "code",
   "execution_count": 1,
   "id": "7368db05",
   "metadata": {},
   "outputs": [
    {
     "name": "stderr",
     "output_type": "stream",
     "text": [
      "WARNING: UnitsWarning: 'log(solMass)' did not parse as fits unit: 'log' is not a recognized function If this is meant to be a custom unit, define it with 'u.def_unit'. To have it recognized inside a file reader or other code, enable it with 'u.add_enabled_units'. For details, see https://docs.astropy.org/en/latest/units/combining_and_defining.html [astropy.units.core]\n",
      "WARNING: UnitsWarning: 'log(solMass/yr)' did not parse as fits unit: 'log' is not a recognized function If this is meant to be a custom unit, define it with 'u.def_unit'. To have it recognized inside a file reader or other code, enable it with 'u.add_enabled_units'. For details, see https://docs.astropy.org/en/latest/units/combining_and_defining.html [astropy.units.core]\n",
      "WARNING: UnitsWarning: 'nanomaggy' did not parse as fits unit: At col 0, Unit 'nanomaggy' not supported by the FITS standard.  If this is meant to be a custom unit, define it with 'u.def_unit'. To have it recognized inside a file reader or other code, enable it with 'u.add_enabled_units'. For details, see https://docs.astropy.org/en/latest/units/combining_and_defining.html [astropy.units.core]\n",
      "WARNING: UnitsWarning: 'nanomaggy^-2' did not parse as fits unit: At col 0, Unit 'nanomaggy' not supported by the FITS standard.  If this is meant to be a custom unit, define it with 'u.def_unit'. To have it recognized inside a file reader or other code, enable it with 'u.add_enabled_units'. For details, see https://docs.astropy.org/en/latest/units/combining_and_defining.html [astropy.units.core]\n"
     ]
    },
    {
     "name": "stdout",
     "output_type": "stream",
     "text": [
      "- load full table\n"
     ]
    }
   ],
   "source": [
    "# see if thumbstack works given all the new functions:\n",
    "import sys\n",
    "sys.path.append('../src/')\n",
    "import thumbstack\n",
    "from thumbstack import *\n",
    "\n",
    "# note: import my_functions from src (easier than jumping between directories)\n",
    "from my_functions import cutting, mapping, masking\n",
    "\n",
    "#from my_functions import massage\n",
    "import numpy as np\n",
    "\n",
    "imap=mapping('act_dr5.01_s08s18_AA_f150_night_map.fits.txt')\n",
    "\n",
    "new_map=masking('act_dr5.01_s08s18_AA_f150_night_map.fits.txt')\n",
    "'''\n",
    "cmap = cmbMap('act_dr5.01_s08s18_AA_f150_night_map.fits.txt',\n",
    "              pathMask=new_map,\n",
    "              # pathMask=pathMask,\n",
    "              # \"act_dr5.01_s08s18_AA_f150_daynight_ivar.fits\",\n",
    "              pathHit=None,\n",
    "              name='that_test')\n",
    "'''\n",
    "my_dict={'LOGM': [6,9], 'LOGSFR': [-10,0]}\n",
    "my_data='FujiBGSPhysProp_v1.1'\n",
    "\n",
    "#item=massage(cutting(my_data, my_dict), 'this_test')\n",
    "item=TableReader(cutting(my_data, my_dict))"
   ]
  },
  {
   "cell_type": "code",
   "execution_count": 3,
   "id": "bea9d8ba-cc6e-43f8-8fcb-ff2c176707a1",
   "metadata": {},
   "outputs": [
    {
     "name": "stdout",
     "output_type": "stream",
     "text": [
      "20387\n"
     ]
    }
   ],
   "source": [
    "print(item.nObj)"
   ]
  },
  {
   "cell_type": "code",
   "execution_count": 4,
   "id": "cd9f70f7",
   "metadata": {},
   "outputs": [
    {
     "name": "stderr",
     "output_type": "stream",
     "text": [
      "WARNING: UnitsWarning: 'log(solMass)' did not parse as fits unit: 'log' is not a recognized function If this is meant to be a custom unit, define it with 'u.def_unit'. To have it recognized inside a file reader or other code, enable it with 'u.add_enabled_units'. For details, see https://docs.astropy.org/en/latest/units/combining_and_defining.html [astropy.units.core]\n",
      "WARNING: UnitsWarning: 'log(solMass/yr)' did not parse as fits unit: 'log' is not a recognized function If this is meant to be a custom unit, define it with 'u.def_unit'. To have it recognized inside a file reader or other code, enable it with 'u.add_enabled_units'. For details, see https://docs.astropy.org/en/latest/units/combining_and_defining.html [astropy.units.core]\n",
      "WARNING: UnitsWarning: 'nanomaggy' did not parse as fits unit: At col 0, Unit 'nanomaggy' not supported by the FITS standard.  If this is meant to be a custom unit, define it with 'u.def_unit'. To have it recognized inside a file reader or other code, enable it with 'u.add_enabled_units'. For details, see https://docs.astropy.org/en/latest/units/combining_and_defining.html [astropy.units.core]\n",
      "WARNING: UnitsWarning: 'nanomaggy^-2' did not parse as fits unit: At col 0, Unit 'nanomaggy' not supported by the FITS standard.  If this is meant to be a custom unit, define it with 'u.def_unit'. To have it recognized inside a file reader or other code, enable it with 'u.add_enabled_units'. For details, see https://docs.astropy.org/en/latest/units/combining_and_defining.html [astropy.units.core]\n"
     ]
    },
    {
     "name": "stdout",
     "output_type": "stream",
     "text": [
      "- load full table\n",
      "- Thumbstack: test\n"
     ]
    },
    {
     "ename": "AttributeError",
     "evalue": "Can't pickle local object 'ProcessBackend.StorageFactory.<locals>.<lambda>'",
     "output_type": "error",
     "traceback": [
      "\u001b[0;31m---------------------------------------------------------------------------\u001b[0m",
      "\u001b[0;31mAttributeError\u001b[0m                            Traceback (most recent call last)",
      "Cell \u001b[0;32mIn[4], line 27\u001b[0m\n\u001b[1;32m     24\u001b[0m nProc\u001b[38;5;241m=\u001b[39m\u001b[38;5;241m64\u001b[39m\n\u001b[1;32m     25\u001b[0m save\u001b[38;5;241m=\u001b[39m\u001b[38;5;28;01mTrue\u001b[39;00m\n\u001b[0;32m---> 27\u001b[0m ts \u001b[38;5;241m=\u001b[39m \u001b[43mThumbStack\u001b[49m\u001b[43m(\u001b[49m\u001b[43mcutting\u001b[49m\u001b[43m(\u001b[49m\u001b[43mmy_data\u001b[49m\u001b[43m,\u001b[49m\u001b[43m \u001b[49m\u001b[43mmy_dict\u001b[49m\u001b[43m)\u001b[49m\u001b[43m,\u001b[49m\u001b[43m \u001b[49m\n\u001b[1;32m     28\u001b[0m \u001b[43m                \u001b[49m\u001b[43mimap\u001b[49m\u001b[43m,\u001b[49m\u001b[43m \u001b[49m\n\u001b[1;32m     29\u001b[0m \u001b[43m                \u001b[49m\u001b[43mnew_map\u001b[49m\u001b[43m,\u001b[49m\u001b[43m \u001b[49m\n\u001b[1;32m     30\u001b[0m \u001b[43m                \u001b[49m\u001b[38;5;66;43;03m#cmap.hit(), \u001b[39;49;00m\n\u001b[1;32m     31\u001b[0m \u001b[43m                \u001b[49m\u001b[38;5;124;43m'\u001b[39;49m\u001b[38;5;124;43mact_test1\u001b[39;49m\u001b[38;5;124;43m'\u001b[39;49m\u001b[43m,\u001b[49m\n\u001b[1;32m     32\u001b[0m \u001b[43m                \u001b[49m\u001b[43mnameLong\u001b[49m\u001b[38;5;241;43m=\u001b[39;49m\u001b[38;5;28;43;01mNone\u001b[39;49;00m\u001b[43m,\u001b[49m\u001b[43m \u001b[49m\n\u001b[1;32m     33\u001b[0m \u001b[43m                \u001b[49m\u001b[43msave\u001b[49m\u001b[38;5;241;43m=\u001b[39;49m\u001b[43msave\u001b[49m\u001b[43m,\u001b[49m\u001b[43m \u001b[49m\n\u001b[1;32m     34\u001b[0m \u001b[43m                \u001b[49m\u001b[43mnProc\u001b[49m\u001b[38;5;241;43m=\u001b[39;49m\u001b[43mnProc\u001b[49m\u001b[43m,\u001b[49m\n\u001b[1;32m     35\u001b[0m \u001b[43m                \u001b[49m\u001b[43mfilterTypes\u001b[49m\u001b[38;5;241;43m=\u001b[39;49m\u001b[43mfilterType\u001b[49m\u001b[43m,\u001b[49m\n\u001b[1;32m     36\u001b[0m \u001b[43m                \u001b[49m\u001b[38;5;66;43;03m#doMBins=False, \u001b[39;49;00m\n\u001b[1;32m     37\u001b[0m \u001b[43m                \u001b[49m\u001b[43mdoBootstrap\u001b[49m\u001b[38;5;241;43m=\u001b[39;49m\u001b[38;5;28;43;01mTrue\u001b[39;49;00m\u001b[43m,\u001b[49m\n\u001b[1;32m     38\u001b[0m \u001b[43m                \u001b[49m\u001b[38;5;66;43;03m# doStackedMap=True,\u001b[39;49;00m\n\u001b[1;32m     39\u001b[0m \u001b[43m                \u001b[49m\u001b[38;5;66;43;03m#doVShuffle=False, \u001b[39;49;00m\n\u001b[1;32m     40\u001b[0m \u001b[43m                \u001b[49m\u001b[38;5;66;43;03m#cmbNu=cmap.nu, \u001b[39;49;00m\n\u001b[1;32m     41\u001b[0m \u001b[43m                \u001b[49m\u001b[38;5;66;43;03m#cmbUnitLatex=cmap.unitLatex,\u001b[39;49;00m\n\u001b[1;32m     42\u001b[0m \u001b[43m                \u001b[49m\u001b[43mrApMinArcmin\u001b[49m\u001b[38;5;241;43m=\u001b[39;49m\u001b[38;5;241;43m1.\u001b[39;49m\u001b[43m,\u001b[49m\n\u001b[1;32m     43\u001b[0m \u001b[43m                \u001b[49m\u001b[43mpathOut\u001b[49m\u001b[38;5;241;43m=\u001b[39;49m\u001b[38;5;124;43m'\u001b[39;49m\u001b[38;5;124;43m../\u001b[39;49m\u001b[38;5;124;43m'\u001b[39;49m\u001b[43m)\u001b[49m\n",
      "File \u001b[0;32m~/research/ThumbStack/jupyter_note/../src/thumbstack.py:117\u001b[0m, in \u001b[0;36mThumbStack.__init__\u001b[0;34m(self, table, cmbMap, cmbMask, cmbHit, name, nameLong, save, nProc, filterTypes, doStackedMap, doBootstrap, cmbNu, cmbUnitLatex, pathOut, rApMinArcmin, rApMaxArcmin, rApInnerRad)\u001b[0m\n\u001b[1;32m    114\u001b[0m \u001b[38;5;66;03m#self.loadMMaxBins()\u001b[39;00m\n\u001b[1;32m    116\u001b[0m \u001b[38;5;28;01mif\u001b[39;00m save:\n\u001b[0;32m--> 117\u001b[0m     \u001b[38;5;28;43mself\u001b[39;49m\u001b[38;5;241;43m.\u001b[39;49m\u001b[43msaveOverlapFlag\u001b[49m\u001b[43m(\u001b[49m\u001b[43mnProc\u001b[49m\u001b[38;5;241;43m=\u001b[39;49m\u001b[38;5;28;43mself\u001b[39;49m\u001b[38;5;241;43m.\u001b[39;49m\u001b[43mnProc\u001b[49m\u001b[43m)\u001b[49m\n\u001b[1;32m    118\u001b[0m \u001b[38;5;28mself\u001b[39m\u001b[38;5;241m.\u001b[39mloadOverlapFlag()\n\u001b[1;32m    120\u001b[0m \u001b[38;5;28;01mif\u001b[39;00m save:\n",
      "File \u001b[0;32m~/research/ThumbStack/jupyter_note/../src/thumbstack.py:234\u001b[0m, in \u001b[0;36mThumbStack.saveOverlapFlag\u001b[0;34m(self, thresh, nProc)\u001b[0m\n\u001b[1;32m    231\u001b[0m tStart \u001b[38;5;241m=\u001b[39m time()\n\u001b[1;32m    232\u001b[0m \u001b[38;5;28;01mwith\u001b[39;00m sharedmem\u001b[38;5;241m.\u001b[39mMapReduce(np\u001b[38;5;241m=\u001b[39mnProc) \u001b[38;5;28;01mas\u001b[39;00m pool:\n\u001b[1;32m    233\u001b[0m     overlapFlag \u001b[38;5;241m=\u001b[39m np\u001b[38;5;241m.\u001b[39marray(\n\u001b[0;32m--> 234\u001b[0m         \u001b[43mpool\u001b[49m\u001b[38;5;241;43m.\u001b[39;49m\u001b[43mmap\u001b[49m\u001b[43m(\u001b[49m\u001b[43mfoverlap\u001b[49m\u001b[43m,\u001b[49m\u001b[43m \u001b[49m\u001b[38;5;28;43mlist\u001b[39;49m\u001b[43m(\u001b[49m\u001b[38;5;28;43mrange\u001b[39;49m\u001b[43m(\u001b[49m\u001b[38;5;28;43mself\u001b[39;49m\u001b[38;5;241;43m.\u001b[39;49m\u001b[43mCatalog\u001b[49m\u001b[38;5;241;43m.\u001b[39;49m\u001b[43mnObj\u001b[49m\u001b[43m)\u001b[49m\u001b[43m)\u001b[49m\u001b[43m)\u001b[49m)\n\u001b[1;32m    235\u001b[0m tStop \u001b[38;5;241m=\u001b[39m time()\n\u001b[1;32m    236\u001b[0m np\u001b[38;5;241m.\u001b[39msavetxt(\u001b[38;5;28mself\u001b[39m\u001b[38;5;241m.\u001b[39mpathOut\u001b[38;5;241m+\u001b[39m\u001b[38;5;124m\"\u001b[39m\u001b[38;5;124m/overlap_flag.txt\u001b[39m\u001b[38;5;124m\"\u001b[39m, overlapFlag)\n",
      "File \u001b[0;32m~/opt/anaconda3/envs/py3816/lib/python3.8/site-packages/sharedmem-0.3.8-py3.8.egg/sharedmem/sharedmem.py:735\u001b[0m, in \u001b[0;36mMapReduce.map\u001b[0;34m(self, func, sequence, reduce, star, minlength)\u001b[0m\n\u001b[1;32m    729\u001b[0m \u001b[38;5;28mself\u001b[39m\u001b[38;5;241m.\u001b[39mordered\u001b[38;5;241m.\u001b[39mreset()\n\u001b[1;32m    731\u001b[0m pg \u001b[38;5;241m=\u001b[39m ProcessGroup(main\u001b[38;5;241m=\u001b[39m\u001b[38;5;28mself\u001b[39m\u001b[38;5;241m.\u001b[39m_main, np\u001b[38;5;241m=\u001b[39mnp,\n\u001b[1;32m    732\u001b[0m         backend\u001b[38;5;241m=\u001b[39m\u001b[38;5;28mself\u001b[39m\u001b[38;5;241m.\u001b[39mbackend,\n\u001b[1;32m    733\u001b[0m         args\u001b[38;5;241m=\u001b[39m(Q, R, sequence, realfunc))\n\u001b[0;32m--> 735\u001b[0m \u001b[43mpg\u001b[49m\u001b[38;5;241;43m.\u001b[39;49m\u001b[43mstart\u001b[49m\u001b[43m(\u001b[49m\u001b[43m)\u001b[49m\n\u001b[1;32m    737\u001b[0m L \u001b[38;5;241m=\u001b[39m []\n\u001b[1;32m    738\u001b[0m N \u001b[38;5;241m=\u001b[39m []\n",
      "File \u001b[0;32m~/opt/anaconda3/envs/py3816/lib/python3.8/site-packages/sharedmem-0.3.8-py3.8.egg/sharedmem/sharedmem.py:389\u001b[0m, in \u001b[0;36mProcessGroup.start\u001b[0;34m(self)\u001b[0m\n\u001b[1;32m    387\u001b[0m     warnings\u001b[38;5;241m.\u001b[39msimplefilter(\u001b[38;5;124m\"\u001b[39m\u001b[38;5;124mignore\u001b[39m\u001b[38;5;124m\"\u001b[39m)\n\u001b[1;32m    388\u001b[0m     \u001b[38;5;28;01mfor\u001b[39;00m x \u001b[38;5;129;01min\u001b[39;00m \u001b[38;5;28mself\u001b[39m\u001b[38;5;241m.\u001b[39mP:\n\u001b[0;32m--> 389\u001b[0m         \u001b[43mx\u001b[49m\u001b[38;5;241;43m.\u001b[39;49m\u001b[43mstart\u001b[49m\u001b[43m(\u001b[49m\u001b[43m)\u001b[49m\n\u001b[1;32m    391\u001b[0m \u001b[38;5;66;03m# p is alive from the moment start returns.\u001b[39;00m\n\u001b[1;32m    392\u001b[0m \u001b[38;5;66;03m# thus we can join them immediately after start returns.\u001b[39;00m\n\u001b[1;32m    393\u001b[0m \u001b[38;5;66;03m# guardMain will check if the worker has been\u001b[39;00m\n\u001b[1;32m    394\u001b[0m \u001b[38;5;66;03m# killed by the os, and simulate an error if so.\u001b[39;00m\n\u001b[1;32m    395\u001b[0m \u001b[38;5;28;01mfor\u001b[39;00m x \u001b[38;5;129;01min\u001b[39;00m \u001b[38;5;28mself\u001b[39m\u001b[38;5;241m.\u001b[39mN:\n",
      "File \u001b[0;32m~/opt/anaconda3/envs/py3816/lib/python3.8/multiprocessing/process.py:121\u001b[0m, in \u001b[0;36mBaseProcess.start\u001b[0;34m(self)\u001b[0m\n\u001b[1;32m    118\u001b[0m \u001b[38;5;28;01massert\u001b[39;00m \u001b[38;5;129;01mnot\u001b[39;00m _current_process\u001b[38;5;241m.\u001b[39m_config\u001b[38;5;241m.\u001b[39mget(\u001b[38;5;124m'\u001b[39m\u001b[38;5;124mdaemon\u001b[39m\u001b[38;5;124m'\u001b[39m), \\\n\u001b[1;32m    119\u001b[0m        \u001b[38;5;124m'\u001b[39m\u001b[38;5;124mdaemonic processes are not allowed to have children\u001b[39m\u001b[38;5;124m'\u001b[39m\n\u001b[1;32m    120\u001b[0m _cleanup()\n\u001b[0;32m--> 121\u001b[0m \u001b[38;5;28mself\u001b[39m\u001b[38;5;241m.\u001b[39m_popen \u001b[38;5;241m=\u001b[39m \u001b[38;5;28;43mself\u001b[39;49m\u001b[38;5;241;43m.\u001b[39;49m\u001b[43m_Popen\u001b[49m\u001b[43m(\u001b[49m\u001b[38;5;28;43mself\u001b[39;49m\u001b[43m)\u001b[49m\n\u001b[1;32m    122\u001b[0m \u001b[38;5;28mself\u001b[39m\u001b[38;5;241m.\u001b[39m_sentinel \u001b[38;5;241m=\u001b[39m \u001b[38;5;28mself\u001b[39m\u001b[38;5;241m.\u001b[39m_popen\u001b[38;5;241m.\u001b[39msentinel\n\u001b[1;32m    123\u001b[0m \u001b[38;5;66;03m# Avoid a refcycle if the target function holds an indirect\u001b[39;00m\n\u001b[1;32m    124\u001b[0m \u001b[38;5;66;03m# reference to the process object (see bpo-30775)\u001b[39;00m\n",
      "File \u001b[0;32m~/opt/anaconda3/envs/py3816/lib/python3.8/multiprocessing/context.py:224\u001b[0m, in \u001b[0;36mProcess._Popen\u001b[0;34m(process_obj)\u001b[0m\n\u001b[1;32m    222\u001b[0m \u001b[38;5;129m@staticmethod\u001b[39m\n\u001b[1;32m    223\u001b[0m \u001b[38;5;28;01mdef\u001b[39;00m \u001b[38;5;21m_Popen\u001b[39m(process_obj):\n\u001b[0;32m--> 224\u001b[0m     \u001b[38;5;28;01mreturn\u001b[39;00m \u001b[43m_default_context\u001b[49m\u001b[38;5;241;43m.\u001b[39;49m\u001b[43mget_context\u001b[49m\u001b[43m(\u001b[49m\u001b[43m)\u001b[49m\u001b[38;5;241;43m.\u001b[39;49m\u001b[43mProcess\u001b[49m\u001b[38;5;241;43m.\u001b[39;49m\u001b[43m_Popen\u001b[49m\u001b[43m(\u001b[49m\u001b[43mprocess_obj\u001b[49m\u001b[43m)\u001b[49m\n",
      "File \u001b[0;32m~/opt/anaconda3/envs/py3816/lib/python3.8/multiprocessing/context.py:284\u001b[0m, in \u001b[0;36mSpawnProcess._Popen\u001b[0;34m(process_obj)\u001b[0m\n\u001b[1;32m    281\u001b[0m \u001b[38;5;129m@staticmethod\u001b[39m\n\u001b[1;32m    282\u001b[0m \u001b[38;5;28;01mdef\u001b[39;00m \u001b[38;5;21m_Popen\u001b[39m(process_obj):\n\u001b[1;32m    283\u001b[0m     \u001b[38;5;28;01mfrom\u001b[39;00m \u001b[38;5;21;01m.\u001b[39;00m\u001b[38;5;21;01mpopen_spawn_posix\u001b[39;00m \u001b[38;5;28;01mimport\u001b[39;00m Popen\n\u001b[0;32m--> 284\u001b[0m     \u001b[38;5;28;01mreturn\u001b[39;00m \u001b[43mPopen\u001b[49m\u001b[43m(\u001b[49m\u001b[43mprocess_obj\u001b[49m\u001b[43m)\u001b[49m\n",
      "File \u001b[0;32m~/opt/anaconda3/envs/py3816/lib/python3.8/multiprocessing/popen_spawn_posix.py:32\u001b[0m, in \u001b[0;36mPopen.__init__\u001b[0;34m(self, process_obj)\u001b[0m\n\u001b[1;32m     30\u001b[0m \u001b[38;5;28;01mdef\u001b[39;00m \u001b[38;5;21m__init__\u001b[39m(\u001b[38;5;28mself\u001b[39m, process_obj):\n\u001b[1;32m     31\u001b[0m     \u001b[38;5;28mself\u001b[39m\u001b[38;5;241m.\u001b[39m_fds \u001b[38;5;241m=\u001b[39m []\n\u001b[0;32m---> 32\u001b[0m     \u001b[38;5;28;43msuper\u001b[39;49m\u001b[43m(\u001b[49m\u001b[43m)\u001b[49m\u001b[38;5;241;43m.\u001b[39;49m\u001b[38;5;21;43m__init__\u001b[39;49m\u001b[43m(\u001b[49m\u001b[43mprocess_obj\u001b[49m\u001b[43m)\u001b[49m\n",
      "File \u001b[0;32m~/opt/anaconda3/envs/py3816/lib/python3.8/multiprocessing/popen_fork.py:19\u001b[0m, in \u001b[0;36mPopen.__init__\u001b[0;34m(self, process_obj)\u001b[0m\n\u001b[1;32m     17\u001b[0m \u001b[38;5;28mself\u001b[39m\u001b[38;5;241m.\u001b[39mreturncode \u001b[38;5;241m=\u001b[39m \u001b[38;5;28;01mNone\u001b[39;00m\n\u001b[1;32m     18\u001b[0m \u001b[38;5;28mself\u001b[39m\u001b[38;5;241m.\u001b[39mfinalizer \u001b[38;5;241m=\u001b[39m \u001b[38;5;28;01mNone\u001b[39;00m\n\u001b[0;32m---> 19\u001b[0m \u001b[38;5;28;43mself\u001b[39;49m\u001b[38;5;241;43m.\u001b[39;49m\u001b[43m_launch\u001b[49m\u001b[43m(\u001b[49m\u001b[43mprocess_obj\u001b[49m\u001b[43m)\u001b[49m\n",
      "File \u001b[0;32m~/opt/anaconda3/envs/py3816/lib/python3.8/multiprocessing/popen_spawn_posix.py:47\u001b[0m, in \u001b[0;36mPopen._launch\u001b[0;34m(self, process_obj)\u001b[0m\n\u001b[1;32m     45\u001b[0m \u001b[38;5;28;01mtry\u001b[39;00m:\n\u001b[1;32m     46\u001b[0m     reduction\u001b[38;5;241m.\u001b[39mdump(prep_data, fp)\n\u001b[0;32m---> 47\u001b[0m     \u001b[43mreduction\u001b[49m\u001b[38;5;241;43m.\u001b[39;49m\u001b[43mdump\u001b[49m\u001b[43m(\u001b[49m\u001b[43mprocess_obj\u001b[49m\u001b[43m,\u001b[49m\u001b[43m \u001b[49m\u001b[43mfp\u001b[49m\u001b[43m)\u001b[49m\n\u001b[1;32m     48\u001b[0m \u001b[38;5;28;01mfinally\u001b[39;00m:\n\u001b[1;32m     49\u001b[0m     set_spawning_popen(\u001b[38;5;28;01mNone\u001b[39;00m)\n",
      "File \u001b[0;32m~/opt/anaconda3/envs/py3816/lib/python3.8/multiprocessing/reduction.py:60\u001b[0m, in \u001b[0;36mdump\u001b[0;34m(obj, file, protocol)\u001b[0m\n\u001b[1;32m     58\u001b[0m \u001b[38;5;28;01mdef\u001b[39;00m \u001b[38;5;21mdump\u001b[39m(obj, file, protocol\u001b[38;5;241m=\u001b[39m\u001b[38;5;28;01mNone\u001b[39;00m):\n\u001b[1;32m     59\u001b[0m \u001b[38;5;250m    \u001b[39m\u001b[38;5;124;03m'''Replacement for pickle.dump() using ForkingPickler.'''\u001b[39;00m\n\u001b[0;32m---> 60\u001b[0m     \u001b[43mForkingPickler\u001b[49m\u001b[43m(\u001b[49m\u001b[43mfile\u001b[49m\u001b[43m,\u001b[49m\u001b[43m \u001b[49m\u001b[43mprotocol\u001b[49m\u001b[43m)\u001b[49m\u001b[38;5;241;43m.\u001b[39;49m\u001b[43mdump\u001b[49m\u001b[43m(\u001b[49m\u001b[43mobj\u001b[49m\u001b[43m)\u001b[49m\n",
      "\u001b[0;31mAttributeError\u001b[0m: Can't pickle local object 'ProcessBackend.StorageFactory.<locals>.<lambda>'"
     ]
    }
   ],
   "source": [
    "#import sys\n",
    "#sys.path.append('../src/')\n",
    "\n",
    "from importlib import reload\n",
    "#import universe\n",
    "#reload(universe)\n",
    "#from universe import *\n",
    "\n",
    "import mass_conversion\n",
    "reload(mass_conversion)\n",
    "from mass_conversion import *\n",
    "\n",
    "#import catalog\n",
    "#reload(catalog)\n",
    "#from catalog import *\n",
    "\n",
    "import thumbstack\n",
    "#reload(thumbstack)\n",
    "from thumbstack import *\n",
    "\n",
    "catalog = item\n",
    "#u = UnivMariana()\n",
    "filterType = 'diskring'\n",
    "nProc=64\n",
    "save=True\n",
    "\n",
    "ts = ThumbStack(cutting(my_data, my_dict), \n",
    "                imap, \n",
    "                new_map, \n",
    "                #cmap.hit(), \n",
    "                'act_test1',\n",
    "                nameLong=None, \n",
    "                save=save, \n",
    "                nProc=nProc,\n",
    "                filterTypes=filterType,\n",
    "                #doMBins=False, \n",
    "                doBootstrap=True,\n",
    "                # doStackedMap=True,\n",
    "                #doVShuffle=False, \n",
    "                #cmbNu=cmap.nu, \n",
    "                #cmbUnitLatex=cmap.unitLatex,\n",
    "                rApMinArcmin=1.,\n",
    "                pathOut='../') #pathOut goes to my ThumbStack directory"
   ]
  }
 ],
 "metadata": {
  "kernelspec": {
   "display_name": "Python 3 (ipykernel)",
   "language": "python",
   "name": "python3"
  },
  "language_info": {
   "codemirror_mode": {
    "name": "ipython",
    "version": 3
   },
   "file_extension": ".py",
   "mimetype": "text/x-python",
   "name": "python",
   "nbconvert_exporter": "python",
   "pygments_lexer": "ipython3",
   "version": "3.8.16"
  }
 },
 "nbformat": 4,
 "nbformat_minor": 5
}
