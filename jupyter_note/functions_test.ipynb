{
 "cells": [
  {
   "cell_type": "code",
   "execution_count": 2,
   "id": "981dd20f",
   "metadata": {},
   "outputs": [],
   "source": [
    "# local import\n",
    "from my_functions import cutting, massage, mapping, masking\n",
    "import my_functions"
   ]
  },
  {
   "cell_type": "code",
   "execution_count": 7,
   "id": "0a7c76f9",
   "metadata": {},
   "outputs": [
    {
     "name": "stderr",
     "output_type": "stream",
     "text": [
      "WARNING: UnitsWarning: 'log(solMass)' did not parse as fits unit: 'log' is not a recognized function If this is meant to be a custom unit, define it with 'u.def_unit'. To have it recognized inside a file reader or other code, enable it with 'u.add_enabled_units'. For details, see https://docs.astropy.org/en/latest/units/combining_and_defining.html [astropy.units.core]\n",
      "WARNING: UnitsWarning: 'log(solMass/yr)' did not parse as fits unit: 'log' is not a recognized function If this is meant to be a custom unit, define it with 'u.def_unit'. To have it recognized inside a file reader or other code, enable it with 'u.add_enabled_units'. For details, see https://docs.astropy.org/en/latest/units/combining_and_defining.html [astropy.units.core]\n",
      "WARNING: UnitsWarning: 'nanomaggy' did not parse as fits unit: At col 0, Unit 'nanomaggy' not supported by the FITS standard.  If this is meant to be a custom unit, define it with 'u.def_unit'. To have it recognized inside a file reader or other code, enable it with 'u.add_enabled_units'. For details, see https://docs.astropy.org/en/latest/units/combining_and_defining.html [astropy.units.core]\n",
      "WARNING: UnitsWarning: 'nanomaggy^-2' did not parse as fits unit: At col 0, Unit 'nanomaggy' not supported by the FITS standard.  If this is meant to be a custom unit, define it with 'u.def_unit'. To have it recognized inside a file reader or other code, enable it with 'u.add_enabled_units'. For details, see https://docs.astropy.org/en/latest/units/combining_and_defining.html [astropy.units.core]\n"
     ]
    },
    {
     "name": "stdout",
     "output_type": "stream",
     "text": [
      "Min:  -9.9658977026794\n",
      "Max:  -0.0008482402851721889\n"
     ]
    }
   ],
   "source": [
    "# test cutting\n",
    "my_dict={'LOGM': [6,9], 'LOGSFR': [-10,0]}\n",
    "my_data='FujiBGSPhysProp_v1.1'\n",
    "#cutting(my_data, my_dict)\n",
    "\n",
    "# check that it worked (you can change the key to whatever param)\n",
    "print('Min: ', cutting(my_data, my_dict)['LOGSFR'].min())\n",
    "print('Max: ', cutting(my_data, my_dict)['LOGSFR'].max())"
   ]
  },
  {
   "cell_type": "code",
   "execution_count": 4,
   "id": "10baa783",
   "metadata": {},
   "outputs": [
    {
     "name": "stderr",
     "output_type": "stream",
     "text": [
      "WARNING: UnitsWarning: 'log(solMass)' did not parse as fits unit: 'log' is not a recognized function If this is meant to be a custom unit, define it with 'u.def_unit'. To have it recognized inside a file reader or other code, enable it with 'u.add_enabled_units'. For details, see https://docs.astropy.org/en/latest/units/combining_and_defining.html [astropy.units.core]\n",
      "WARNING: UnitsWarning: 'log(solMass/yr)' did not parse as fits unit: 'log' is not a recognized function If this is meant to be a custom unit, define it with 'u.def_unit'. To have it recognized inside a file reader or other code, enable it with 'u.add_enabled_units'. For details, see https://docs.astropy.org/en/latest/units/combining_and_defining.html [astropy.units.core]\n",
      "WARNING: UnitsWarning: 'nanomaggy' did not parse as fits unit: At col 0, Unit 'nanomaggy' not supported by the FITS standard.  If this is meant to be a custom unit, define it with 'u.def_unit'. To have it recognized inside a file reader or other code, enable it with 'u.add_enabled_units'. For details, see https://docs.astropy.org/en/latest/units/combining_and_defining.html [astropy.units.core]\n",
      "WARNING: UnitsWarning: 'nanomaggy^-2' did not parse as fits unit: At col 0, Unit 'nanomaggy' not supported by the FITS standard.  If this is meant to be a custom unit, define it with 'u.def_unit'. To have it recognized inside a file reader or other code, enable it with 'u.add_enabled_units'. For details, see https://docs.astropy.org/en/latest/units/combining_and_defining.html [astropy.units.core]\n"
     ]
    },
    {
     "name": "stdout",
     "output_type": "stream",
     "text": [
      "- read input catalog from this_test.txt\n",
      "- add halo masses\n",
      "- add integrated tau\n",
      "- add integrated kSZ\n",
      "- add integrated y\n",
      "- write full catalog to ../output/catalog/this_test/catalog.txt\n",
      "- load full catalog from ../output/catalog/this_test/catalog.txt\n",
      "- load full catalog from ../output/catalog/this_test/catalog.txt\n"
     ]
    }
   ],
   "source": [
    "# test massage\n",
    "item=massage(cutting(my_data, my_dict), 'this_test')"
   ]
  },
  {
   "cell_type": "code",
   "execution_count": 4,
   "id": "17f65080",
   "metadata": {},
   "outputs": [],
   "source": [
    "# test mapping\n",
    "\n",
    "imap=mapping('act_dr5.01_s08s18_AA_f150_night_map.fits.txt')\n",
    "from pixell import enplot\n",
    "def eshow(x,**kwargs): \n",
    "    ''' Define a function to help us plot the maps neatly '''\n",
    "    plots = enplot.get_plots(x, **kwargs)\n",
    "    enplot.show(plots, method = \"ipython\")\n",
    "    \n",
    "# add \"color\", \"min\", \"max\", \"range\" etc keys here to adjust your plot\n",
    "keys = {\"downgrade\": 8, \"ticks\": 10, \"colorbar\": True}  # def color is planck\n",
    "keys_ex = {\"downgrade\": 8, \"ticks\": 10, \"colorbar\": True, 'color': 'planck', \n",
    "           'min': -200, 'max': 100}  \n",
    "\n",
    "eshow(imap, **keys) "
   ]
  },
  {
   "cell_type": "code",
   "execution_count": 2,
   "id": "c12a6e06",
   "metadata": {},
   "outputs": [],
   "source": [
    "# test masking\n",
    "new_map=masking('act_dr5.01_s08s18_AA_f150_night_map.fits.txt')\n",
    "\n",
    "from pixell import enplot\n",
    "def eshow(x,**kwargs): \n",
    "    ''' Define a function to help us plot the maps neatly '''\n",
    "    plots = enplot.get_plots(x, **kwargs)\n",
    "    enplot.show(plots, method = \"ipython\")\n",
    "    \n",
    "# add \"color\", \"min\", \"max\", \"range\" etc keys here to adjust your plot\n",
    "keys = {\"downgrade\": 8, \"ticks\": 10, \"colorbar\": True}  # def color is planck\n",
    "keys_ex = {\"downgrade\": 8, \"ticks\": 10, \"colorbar\": True, 'color': 'planck', \n",
    "           'min': -200, 'max': 100}  \n",
    "\n",
    "eshow(new_map, **keys)"
   ]
  },
  {
   "cell_type": "code",
   "execution_count": 1,
   "id": "7368db05",
   "metadata": {},
   "outputs": [
    {
     "name": "stdout",
     "output_type": "stream",
     "text": [
      "- Map: Importing CMB map\n",
      "- Map: Remove polarization\n",
      "- Map: Saving map as act_test2_map.fits\n",
      "- Map: Creation Done\n",
      "- Mask: Importing CMB Map\n",
      "- Mask: Remove Polarization and have all int>1 become 1\n",
      "- Mask: Importing Planck mask\n",
      "- Mask: Changing Planck mask to pixell friendly\n",
      "- Mask: Saving mask as act_test2_mask.fits\n",
      "- Mask: Creation Done\n"
     ]
    }
   ],
   "source": [
    "# see if thumbstack works given all the new functions:\n",
    "import sys\n",
    "sys.path.append('../src/')\n",
    "import thumbstack\n",
    "from thumbstack import *\n",
    "\n",
    "# note: import my_functions from src (easier than jumping between directories)\n",
    "from my_functions import cutting, mapping, masking\n",
    "\n",
    "#from my_functions import massage\n",
    "import numpy as np\n",
    "\n",
    "imap=mapping('act_dr5.01_s08s18_AA_f150_night_map.fits.txt', save=True, save_name='act_test2_map')\n",
    "\n",
    "new_map=masking('act_dr5.01_s08s18_AA_f150_night_map.fits.txt', 'gal60_mask.fits', save=True, save_name='act_test2_mask')\n",
    "\n",
    "#my_dict={'LOGM': [6,9], 'LOGSFR': [-10,0]}\n",
    "my_dict={'LOGM': [6,6.5], 'LOGSFR': [-1.5,0]}\n",
    "my_data='FujiBGSPhysProp_v1.1'\n",
    "\n",
    "#item=massage(cutting(my_data, my_dict), 'this_test')\n",
    "#item=TableReader(cutting(my_data, my_dict))"
   ]
  },
  {
   "cell_type": "code",
   "execution_count": 3,
   "id": "cd9f70f7",
   "metadata": {},
   "outputs": [
    {
     "name": "stderr",
     "output_type": "stream",
     "text": [
      "WARNING: UnitsWarning: 'log(solMass)' did not parse as fits unit: 'log' is not a recognized function If this is meant to be a custom unit, define it with 'u.def_unit'. To have it recognized inside a file reader or other code, enable it with 'u.add_enabled_units'. For details, see https://docs.astropy.org/en/latest/units/combining_and_defining.html [astropy.units.core]\n",
      "WARNING: UnitsWarning: 'log(solMass/yr)' did not parse as fits unit: 'log' is not a recognized function If this is meant to be a custom unit, define it with 'u.def_unit'. To have it recognized inside a file reader or other code, enable it with 'u.add_enabled_units'. For details, see https://docs.astropy.org/en/latest/units/combining_and_defining.html [astropy.units.core]\n",
      "WARNING: UnitsWarning: 'nanomaggy' did not parse as fits unit: At col 0, Unit 'nanomaggy' not supported by the FITS standard.  If this is meant to be a custom unit, define it with 'u.def_unit'. To have it recognized inside a file reader or other code, enable it with 'u.add_enabled_units'. For details, see https://docs.astropy.org/en/latest/units/combining_and_defining.html [astropy.units.core]\n",
      "WARNING: UnitsWarning: 'nanomaggy^-2' did not parse as fits unit: At col 0, Unit 'nanomaggy' not supported by the FITS standard.  If this is meant to be a custom unit, define it with 'u.def_unit'. To have it recognized inside a file reader or other code, enable it with 'u.add_enabled_units'. For details, see https://docs.astropy.org/en/latest/units/combining_and_defining.html [astropy.units.core]\n"
     ]
    },
    {
     "name": "stdout",
     "output_type": "stream",
     "text": [
      "- Property boundaries applied\n",
      "- load full table\n",
      "- Thumbstack: act_test5\n",
      "Evaluate all filters on all objects\n"
     ]
    },
    {
     "ename": "KeyboardInterrupt",
     "evalue": "",
     "output_type": "error",
     "traceback": [
      "\u001b[0;31m---------------------------------------------------------------------------\u001b[0m",
      "\u001b[0;31mKeyboardInterrupt\u001b[0m                         Traceback (most recent call last)",
      "Cell \u001b[0;32mIn[3], line 30\u001b[0m\n\u001b[1;32m     27\u001b[0m \u001b[38;5;66;03m#reload(thumbstack)\u001b[39;00m\n\u001b[1;32m     28\u001b[0m \u001b[38;5;28;01mfrom\u001b[39;00m \u001b[38;5;21;01mthumbstack\u001b[39;00m \u001b[38;5;28;01mimport\u001b[39;00m \u001b[38;5;241m*\u001b[39m\n\u001b[0;32m---> 30\u001b[0m \u001b[43mThumbStack\u001b[49m\u001b[43m(\u001b[49m\u001b[43mcutting\u001b[49m\u001b[43m(\u001b[49m\u001b[43mmy_data\u001b[49m\u001b[43m,\u001b[49m\u001b[43m \u001b[49m\u001b[43mmy_dict\u001b[49m\u001b[43m)\u001b[49m\u001b[43m,\u001b[49m\u001b[43m \u001b[49m\n\u001b[1;32m     31\u001b[0m \u001b[43m                \u001b[49m\u001b[43mmapped\u001b[49m\u001b[43m,\u001b[49m\u001b[43m \u001b[49m\n\u001b[1;32m     32\u001b[0m \u001b[43m                \u001b[49m\u001b[43mmasked\u001b[49m\u001b[43m,\u001b[49m\u001b[43m \u001b[49m\n\u001b[1;32m     33\u001b[0m \u001b[43m                \u001b[49m\u001b[43mname\u001b[49m\u001b[38;5;241;43m=\u001b[39;49m\u001b[38;5;124;43m'\u001b[39;49m\u001b[38;5;124;43mact_test5\u001b[39;49m\u001b[38;5;124;43m'\u001b[39;49m\u001b[43m,\u001b[49m\n\u001b[1;32m     34\u001b[0m \u001b[43m                \u001b[49m\u001b[43mnameLong\u001b[49m\u001b[38;5;241;43m=\u001b[39;49m\u001b[38;5;28;43;01mNone\u001b[39;49;00m\u001b[43m,\u001b[49m\u001b[43m \u001b[49m\n\u001b[1;32m     35\u001b[0m \u001b[43m                \u001b[49m\u001b[43msave\u001b[49m\u001b[38;5;241;43m=\u001b[39;49m\u001b[38;5;28;43;01mTrue\u001b[39;49;00m\u001b[43m,\u001b[49m\u001b[43m \u001b[49m\n\u001b[1;32m     36\u001b[0m \u001b[43m                \u001b[49m\u001b[43mnProc\u001b[49m\u001b[38;5;241;43m=\u001b[39;49m\u001b[38;5;241;43m32\u001b[39;49m\u001b[43m,\u001b[49m\n\u001b[1;32m     37\u001b[0m \u001b[43m                \u001b[49m\u001b[43mfilterTypes\u001b[49m\u001b[38;5;241;43m=\u001b[39;49m\u001b[38;5;124;43m'\u001b[39;49m\u001b[38;5;124;43mringring2\u001b[39;49m\u001b[38;5;124;43m'\u001b[39;49m\u001b[43m,\u001b[49m\n\u001b[1;32m     38\u001b[0m \u001b[43m                \u001b[49m\u001b[38;5;66;43;03m#doMBins=False, \u001b[39;49;00m\n\u001b[1;32m     39\u001b[0m \u001b[43m                \u001b[49m\u001b[43mdoBootstrap\u001b[49m\u001b[38;5;241;43m=\u001b[39;49m\u001b[38;5;28;43;01mTrue\u001b[39;49;00m\u001b[43m,\u001b[49m\n\u001b[1;32m     40\u001b[0m \u001b[43m                \u001b[49m\u001b[38;5;66;43;03m# doStackedMap=True,\u001b[39;49;00m\n\u001b[1;32m     41\u001b[0m \u001b[43m                \u001b[49m\u001b[38;5;66;43;03m#doVShuffle=False, \u001b[39;49;00m\n\u001b[1;32m     42\u001b[0m \u001b[43m                \u001b[49m\u001b[38;5;66;43;03m#cmbNu=cmap.nu, \u001b[39;49;00m\n\u001b[1;32m     43\u001b[0m \u001b[43m                \u001b[49m\u001b[38;5;66;43;03m#cmbUnitLatex=cmap.unitLatex,\u001b[39;49;00m\n\u001b[1;32m     44\u001b[0m \u001b[43m                \u001b[49m\u001b[43mpathOut\u001b[49m\u001b[38;5;241;43m=\u001b[39;49m\u001b[38;5;124;43m'\u001b[39;49m\u001b[38;5;124;43m../\u001b[39;49m\u001b[38;5;124;43m'\u001b[39;49m\u001b[43m)\u001b[49m \u001b[38;5;66;03m#pathOut goes to my ThumbStack directory\u001b[39;00m\n",
      "File \u001b[0;32m~/research/ThumbStack/jupyter_note/../src/thumbstack.py:123\u001b[0m, in \u001b[0;36mThumbStack.__init__\u001b[0;34m(self, table, cmbMap, cmbMask, cmbHit, name, nameLong, save, nProc, filterTypes, doStackedMap, doBootstrap, cmbNu, cmbUnitLatex, pathOut, rApMinArcmin, rApMaxArcmin, rApInnerRad)\u001b[0m\n\u001b[1;32m    120\u001b[0m \u001b[38;5;28mself\u001b[39m\u001b[38;5;241m.\u001b[39mloadOverlapFlag()\n\u001b[1;32m    122\u001b[0m \u001b[38;5;28;01mif\u001b[39;00m save:\n\u001b[0;32m--> 123\u001b[0m     \u001b[38;5;28;43mself\u001b[39;49m\u001b[38;5;241;43m.\u001b[39;49m\u001b[43msaveFiltering\u001b[49m\u001b[43m(\u001b[49m\u001b[43mnProc\u001b[49m\u001b[38;5;241;43m=\u001b[39;49m\u001b[38;5;28;43mself\u001b[39;49m\u001b[38;5;241;43m.\u001b[39;49m\u001b[43mnProc\u001b[49m\u001b[43m)\u001b[49m\n\u001b[1;32m    124\u001b[0m \u001b[38;5;28mself\u001b[39m\u001b[38;5;241m.\u001b[39mloadFiltering()\n\u001b[1;32m    126\u001b[0m \u001b[38;5;28mself\u001b[39m\u001b[38;5;241m.\u001b[39mmeasureAllVarFromHitCount(plot\u001b[38;5;241m=\u001b[39msave)\n",
      "File \u001b[0;32m~/research/ThumbStack/jupyter_note/../src/thumbstack.py:553\u001b[0m, in \u001b[0;36mThumbStack.saveFiltering\u001b[0;34m(self, nProc)\u001b[0m\n\u001b[1;32m    551\u001b[0m \u001b[38;5;28;01mwith\u001b[39;00m sharedmem\u001b[38;5;241m.\u001b[39mMapReduceByThread(np\u001b[38;5;241m=\u001b[39mnProc) \u001b[38;5;28;01mas\u001b[39;00m pool:\n\u001b[1;32m    552\u001b[0m     \u001b[38;5;28;01mdef\u001b[39;00m \u001b[38;5;21mf\u001b[39m(iObj): \u001b[38;5;28;01mreturn\u001b[39;00m \u001b[38;5;28mself\u001b[39m\u001b[38;5;241m.\u001b[39manalyzeObject(iObj, test\u001b[38;5;241m=\u001b[39m\u001b[38;5;28;01mFalse\u001b[39;00m)\n\u001b[0;32m--> 553\u001b[0m     result \u001b[38;5;241m=\u001b[39m np\u001b[38;5;241m.\u001b[39marray(\u001b[43mpool\u001b[49m\u001b[38;5;241;43m.\u001b[39;49m\u001b[43mmap\u001b[49m\u001b[43m(\u001b[49m\u001b[43mf\u001b[49m\u001b[43m,\u001b[49m\u001b[43m \u001b[49m\u001b[38;5;28;43mlist\u001b[39;49m\u001b[43m(\u001b[49m\u001b[38;5;28;43mrange\u001b[39;49m\u001b[43m(\u001b[49m\u001b[38;5;28;43mself\u001b[39;49m\u001b[38;5;241;43m.\u001b[39;49m\u001b[43mCatalog\u001b[49m\u001b[38;5;241;43m.\u001b[39;49m\u001b[43mnObj\u001b[49m\u001b[43m)\u001b[49m\u001b[43m)\u001b[49m\u001b[43m)\u001b[49m)\n\u001b[1;32m    554\u001b[0m tStop \u001b[38;5;241m=\u001b[39m time()\n\u001b[1;32m    555\u001b[0m \u001b[38;5;28mprint\u001b[39m(\u001b[38;5;124m\"\u001b[39m\u001b[38;5;124mtook\u001b[39m\u001b[38;5;124m\"\u001b[39m, (tStop\u001b[38;5;241m-\u001b[39mtStart)\u001b[38;5;241m/\u001b[39m\u001b[38;5;241m60.\u001b[39m, \u001b[38;5;124m\"\u001b[39m\u001b[38;5;124mmin\u001b[39m\u001b[38;5;124m\"\u001b[39m)\n",
      "File \u001b[0;32m~/opt/anaconda3/envs/py3816/lib/python3.8/site-packages/sharedmem-0.3.8-py3.8.egg/sharedmem/sharedmem.py:766\u001b[0m, in \u001b[0;36mMapReduce.map\u001b[0;34m(self, func, sequence, reduce, star, minlength)\u001b[0m\n\u001b[1;32m    764\u001b[0m \u001b[38;5;28;01mwhile\u001b[39;00m \u001b[38;5;28;01mTrue\u001b[39;00m:\n\u001b[1;32m    765\u001b[0m     \u001b[38;5;28;01mtry\u001b[39;00m:\n\u001b[0;32m--> 766\u001b[0m         capsule \u001b[38;5;241m=\u001b[39m \u001b[43mpg\u001b[49m\u001b[38;5;241;43m.\u001b[39;49m\u001b[43mget\u001b[49m\u001b[43m(\u001b[49m\u001b[43mR\u001b[49m\u001b[43m)\u001b[49m\n\u001b[1;32m    767\u001b[0m     \u001b[38;5;28;01mexcept\u001b[39;00m queue\u001b[38;5;241m.\u001b[39mEmpty:\n\u001b[1;32m    768\u001b[0m         \u001b[38;5;28;01mcontinue\u001b[39;00m\n",
      "File \u001b[0;32m~/opt/anaconda3/envs/py3816/lib/python3.8/site-packages/sharedmem-0.3.8-py3.8.egg/sharedmem/sharedmem.py:417\u001b[0m, in \u001b[0;36mProcessGroup.get\u001b[0;34m(self, Q)\u001b[0m\n\u001b[1;32m    415\u001b[0m \u001b[38;5;28;01mwhile\u001b[39;00m \u001b[38;5;28mself\u001b[39m\u001b[38;5;241m.\u001b[39mErrors\u001b[38;5;241m.\u001b[39mempty():\n\u001b[1;32m    416\u001b[0m     \u001b[38;5;28;01mtry\u001b[39;00m:\n\u001b[0;32m--> 417\u001b[0m         \u001b[38;5;28;01mreturn\u001b[39;00m \u001b[43mQ\u001b[49m\u001b[38;5;241;43m.\u001b[39;49m\u001b[43mget\u001b[49m\u001b[43m(\u001b[49m\u001b[43mtimeout\u001b[49m\u001b[38;5;241;43m=\u001b[39;49m\u001b[38;5;241;43m1\u001b[39;49m\u001b[43m)\u001b[49m\n\u001b[1;32m    418\u001b[0m     \u001b[38;5;28;01mexcept\u001b[39;00m queue\u001b[38;5;241m.\u001b[39mEmpty:\n\u001b[1;32m    419\u001b[0m         \u001b[38;5;66;03m# check if the process group is dead\u001b[39;00m\n\u001b[1;32m    420\u001b[0m         \u001b[38;5;28;01mif\u001b[39;00m \u001b[38;5;129;01mnot\u001b[39;00m \u001b[38;5;28mself\u001b[39m\u001b[38;5;241m.\u001b[39mis_alive():\n\u001b[1;32m    421\u001b[0m             \u001b[38;5;66;03m# todo : can be graceful, in which\u001b[39;00m\n\u001b[1;32m    422\u001b[0m             \u001b[38;5;66;03m# case the last item shall have been\u001b[39;00m\n\u001b[1;32m    423\u001b[0m             \u001b[38;5;66;03m# flushed to Q.\u001b[39;00m\n",
      "File \u001b[0;32m~/opt/anaconda3/envs/py3816/lib/python3.8/queue.py:179\u001b[0m, in \u001b[0;36mQueue.get\u001b[0;34m(self, block, timeout)\u001b[0m\n\u001b[1;32m    177\u001b[0m         \u001b[38;5;28;01mif\u001b[39;00m remaining \u001b[38;5;241m<\u001b[39m\u001b[38;5;241m=\u001b[39m \u001b[38;5;241m0.0\u001b[39m:\n\u001b[1;32m    178\u001b[0m             \u001b[38;5;28;01mraise\u001b[39;00m Empty\n\u001b[0;32m--> 179\u001b[0m         \u001b[38;5;28;43mself\u001b[39;49m\u001b[38;5;241;43m.\u001b[39;49m\u001b[43mnot_empty\u001b[49m\u001b[38;5;241;43m.\u001b[39;49m\u001b[43mwait\u001b[49m\u001b[43m(\u001b[49m\u001b[43mremaining\u001b[49m\u001b[43m)\u001b[49m\n\u001b[1;32m    180\u001b[0m item \u001b[38;5;241m=\u001b[39m \u001b[38;5;28mself\u001b[39m\u001b[38;5;241m.\u001b[39m_get()\n\u001b[1;32m    181\u001b[0m \u001b[38;5;28mself\u001b[39m\u001b[38;5;241m.\u001b[39mnot_full\u001b[38;5;241m.\u001b[39mnotify()\n",
      "File \u001b[0;32m~/opt/anaconda3/envs/py3816/lib/python3.8/threading.py:306\u001b[0m, in \u001b[0;36mCondition.wait\u001b[0;34m(self, timeout)\u001b[0m\n\u001b[1;32m    304\u001b[0m \u001b[38;5;28;01melse\u001b[39;00m:\n\u001b[1;32m    305\u001b[0m     \u001b[38;5;28;01mif\u001b[39;00m timeout \u001b[38;5;241m>\u001b[39m \u001b[38;5;241m0\u001b[39m:\n\u001b[0;32m--> 306\u001b[0m         gotit \u001b[38;5;241m=\u001b[39m \u001b[43mwaiter\u001b[49m\u001b[38;5;241;43m.\u001b[39;49m\u001b[43macquire\u001b[49m\u001b[43m(\u001b[49m\u001b[38;5;28;43;01mTrue\u001b[39;49;00m\u001b[43m,\u001b[49m\u001b[43m \u001b[49m\u001b[43mtimeout\u001b[49m\u001b[43m)\u001b[49m\n\u001b[1;32m    307\u001b[0m     \u001b[38;5;28;01melse\u001b[39;00m:\n\u001b[1;32m    308\u001b[0m         gotit \u001b[38;5;241m=\u001b[39m waiter\u001b[38;5;241m.\u001b[39macquire(\u001b[38;5;28;01mFalse\u001b[39;00m)\n",
      "\u001b[0;31mKeyboardInterrupt\u001b[0m: "
     ]
    }
   ],
   "source": [
    "import sys\n",
    "sys.path.append('../src/')\n",
    "\n",
    "from pixell import enmap\n",
    "\n",
    "mapped = enmap.read_map('act_test2_map')\n",
    "masked = enmap.read_map('act_test2_mask')\n",
    "my_dict={'LOGM': [6,6.5], 'LOGSFR': [-1.5,0]}\n",
    "my_data='FujiBGSPhysProp_v1.1'\n",
    "\n",
    "from my_functions import cutting\n",
    "\n",
    "from importlib import reload\n",
    "#import universe\n",
    "#reload(universe)\n",
    "#from universe import *\n",
    "\n",
    "import mass_conversion\n",
    "reload(mass_conversion)\n",
    "from mass_conversion import *\n",
    "\n",
    "#import catalog\n",
    "#reload(catalog)\n",
    "#from catalog import *\n",
    "\n",
    "import thumbstack\n",
    "#reload(thumbstack)\n",
    "from thumbstack import *\n",
    "\n",
    "ThumbStack(cutting(my_data, my_dict), \n",
    "                mapped, \n",
    "                masked, \n",
    "                name='act_test5',\n",
    "                nameLong=None, \n",
    "                save=True, \n",
    "                nProc=32,\n",
    "                filterTypes='ringring2',\n",
    "                #doMBins=False, \n",
    "                doBootstrap=True,\n",
    "                # doStackedMap=True,\n",
    "                #doVShuffle=False, \n",
    "                #cmbNu=cmap.nu, \n",
    "                #cmbUnitLatex=cmap.unitLatex,\n",
    "                pathOut='../') #pathOut goes to my ThumbStack directory"
   ]
  },
  {
   "cell_type": "code",
   "execution_count": 3,
   "id": "ff2d3aaa-d339-4e92-a940-f08e0e77c321",
   "metadata": {},
   "outputs": [
    {
     "data": {
      "text/html": [
       "<div><i>Table length=9</i>\n",
       "<table id=\"table140522616811968\" class=\"table-striped table-bordered table-condensed\">\n",
       "<thead><tr><th>R</th><th>T</th><th>error</th></tr></thead>\n",
       "<thead><tr><th>float64</th><th>float64</th><th>float64</th></tr></thead>\n",
       "<tr><td>1.0</td><td>40.57755891226443</td><td>15.54643466882718</td></tr>\n",
       "<tr><td>1.625</td><td>88.14782773840301</td><td>52.53309785282838</td></tr>\n",
       "<tr><td>2.25</td><td>197.7191040283804</td><td>73.86228680142</td></tr>\n",
       "<tr><td>2.875</td><td>195.17939175985055</td><td>119.71389809799777</td></tr>\n",
       "<tr><td>3.5</td><td>195.1132672608994</td><td>168.56708450336578</td></tr>\n",
       "<tr><td>4.125</td><td>141.75359911441367</td><td>209.53056976723326</td></tr>\n",
       "<tr><td>4.75</td><td>11.186512424332578</td><td>228.45930629868667</td></tr>\n",
       "<tr><td>5.375</td><td>-157.52658894272952</td><td>284.13893038660575</td></tr>\n",
       "<tr><td>6.0</td><td>-306.5893292966299</td><td>354.0361314114843</td></tr>\n",
       "</table></div>"
      ],
      "text/plain": [
       "<Table length=9>\n",
       "   R             T                error       \n",
       "float64       float64            float64      \n",
       "------- ------------------- ------------------\n",
       "    1.0   40.57755891226443  15.54643466882718\n",
       "  1.625   88.14782773840301  52.53309785282838\n",
       "   2.25   197.7191040283804     73.86228680142\n",
       "  2.875  195.17939175985055 119.71389809799777\n",
       "    3.5   195.1132672608994 168.56708450336578\n",
       "  4.125  141.75359911441367 209.53056976723326\n",
       "   4.75  11.186512424332578 228.45930629868667\n",
       "  5.375 -157.52658894272952 284.13893038660575\n",
       "    6.0  -306.5893292966299  354.0361314114843"
      ]
     },
     "execution_count": 3,
     "metadata": {},
     "output_type": "execute_result"
    }
   ],
   "source": [
    "data=Table.read('figures/thumbstack/act_test3/diskring_tsz_uniformweight.fits', format='fits')\n",
    "data"
   ]
  },
  {
   "cell_type": "code",
   "execution_count": 2,
   "id": "9974f6fa-4850-4708-9938-8fc2a3bc552e",
   "metadata": {},
   "outputs": [
    {
     "name": "stderr",
     "output_type": "stream",
     "text": [
      "WARNING: UnitsWarning: 'log(solMass)' did not parse as fits unit: 'log' is not a recognized function If this is meant to be a custom unit, define it with 'u.def_unit'. To have it recognized inside a file reader or other code, enable it with 'u.add_enabled_units'. For details, see https://docs.astropy.org/en/latest/units/combining_and_defining.html [astropy.units.core]\n",
      "WARNING: UnitsWarning: 'log(solMass/yr)' did not parse as fits unit: 'log' is not a recognized function If this is meant to be a custom unit, define it with 'u.def_unit'. To have it recognized inside a file reader or other code, enable it with 'u.add_enabled_units'. For details, see https://docs.astropy.org/en/latest/units/combining_and_defining.html [astropy.units.core]\n",
      "WARNING: UnitsWarning: 'nanomaggy' did not parse as fits unit: At col 0, Unit 'nanomaggy' not supported by the FITS standard.  If this is meant to be a custom unit, define it with 'u.def_unit'. To have it recognized inside a file reader or other code, enable it with 'u.add_enabled_units'. For details, see https://docs.astropy.org/en/latest/units/combining_and_defining.html [astropy.units.core]\n",
      "WARNING: UnitsWarning: 'nanomaggy^-2' did not parse as fits unit: At col 0, Unit 'nanomaggy' not supported by the FITS standard.  If this is meant to be a custom unit, define it with 'u.def_unit'. To have it recognized inside a file reader or other code, enable it with 'u.add_enabled_units'. For details, see https://docs.astropy.org/en/latest/units/combining_and_defining.html [astropy.units.core]\n"
     ]
    },
    {
     "data": {
      "text/plain": [
       "426267"
      ]
     },
     "execution_count": 2,
     "metadata": {},
     "output_type": "execute_result"
    }
   ],
   "source": [
    "from astropy.table import Table\n",
    "thing=Table.read('FujiBGSPhysProp_v1.1.fits', format='fits')\n",
    "len(thing)"
   ]
  },
  {
   "cell_type": "code",
   "execution_count": 70,
   "id": "8c67f4bb-8db3-4605-a0ff-7b5a9704ec5d",
   "metadata": {},
   "outputs": [
    {
     "name": "stdout",
     "output_type": "stream",
     "text": [
      "- Property boundaries applied\n"
     ]
    },
    {
     "data": {
      "text/plain": [
       "270.2764778957322"
      ]
     },
     "execution_count": 70,
     "metadata": {},
     "output_type": "execute_result"
    }
   ],
   "source": [
    "from my_functions import cutting\n",
    "\n",
    "my_dict={'LOGM': [6,6.5], 'LOGSFR': [-1.5,0]}\n",
    "my_data='FujiBGSPhysProp_v1.1'\n",
    "cutting(my_data, my_dict)['RA'].max()"
   ]
  },
  {
   "cell_type": "code",
   "execution_count": 68,
   "id": "2e98e76d-f876-4507-9a50-254e2fc568b8",
   "metadata": {},
   "outputs": [
    {
     "name": "stderr",
     "output_type": "stream",
     "text": [
      "WARNING: UnitsWarning: 'log(solMass)' did not parse as fits unit: 'log' is not a recognized function If this is meant to be a custom unit, define it with 'u.def_unit'. To have it recognized inside a file reader or other code, enable it with 'u.add_enabled_units'. For details, see https://docs.astropy.org/en/latest/units/combining_and_defining.html [astropy.units.core]\n",
      "WARNING: UnitsWarning: 'log(solMass/yr)' did not parse as fits unit: 'log' is not a recognized function If this is meant to be a custom unit, define it with 'u.def_unit'. To have it recognized inside a file reader or other code, enable it with 'u.add_enabled_units'. For details, see https://docs.astropy.org/en/latest/units/combining_and_defining.html [astropy.units.core]\n",
      "WARNING: UnitsWarning: 'nanomaggy' did not parse as fits unit: At col 0, Unit 'nanomaggy' not supported by the FITS standard.  If this is meant to be a custom unit, define it with 'u.def_unit'. To have it recognized inside a file reader or other code, enable it with 'u.add_enabled_units'. For details, see https://docs.astropy.org/en/latest/units/combining_and_defining.html [astropy.units.core]\n",
      "WARNING: UnitsWarning: 'nanomaggy^-2' did not parse as fits unit: At col 0, Unit 'nanomaggy' not supported by the FITS standard.  If this is meant to be a custom unit, define it with 'u.def_unit'. To have it recognized inside a file reader or other code, enable it with 'u.add_enabled_units'. For details, see https://docs.astropy.org/en/latest/units/combining_and_defining.html [astropy.units.core]\n"
     ]
    },
    {
     "data": {
      "text/html": [
       "<div><i>Table length=5</i>\n",
       "<table id=\"table140554956693024\" class=\"table-striped table-bordered table-condensed\">\n",
       "<thead><tr><th>n_galaxies</th><th>RA_min</th><th>RA_max</th><th>LOGM_min</th><th>LOGM_max</th><th>LOGSFR_min</th><th>LOGSFR_max</th><th>AGNLUM_min</th><th>AGNLUM_max</th></tr></thead>\n",
       "<thead><tr><th>int64</th><th>float64</th><th>float64</th><th>float64</th><th>float64</th><th>float64</th><th>float64</th><th>float64</th><th>float64</th></tr></thead>\n",
       "<tr><td>85254</td><td>2.4135933394132487</td><td>149.39235452732646</td><td>4.314297592227383</td><td>13.138921044094747</td><td>-25.135321291401723</td><td>3.555474311573235</td><td>1.25916009903467e+21</td><td>8.213239150406978e+40</td></tr>\n",
       "<tr><td>85254</td><td>149.39241037965164</td><td>181.33180714785743</td><td>4.916750173181314</td><td>12.629670889487581</td><td>-24.990578114178568</td><td>4.274934366575584</td><td>3180720932.304336</td><td>9.997376927217544e+40</td></tr>\n",
       "<tr><td>85253</td><td>181.33202201602631</td><td>210.43707551487242</td><td>4.444649764600156</td><td>12.265495598667647</td><td>-26.852317353228255</td><td>4.070663343669675</td><td>3.038670574451414e+19</td><td>1.0111045750143736e+41</td></tr>\n",
       "<tr><td>85253</td><td>210.4374650776045</td><td>235.4572925760824</td><td>4.917915507662218</td><td>12.087313182088096</td><td>-27.2325828217146</td><td>4.083387950135478</td><td>78128090498391.45</td><td>6.579411099158795e+40</td></tr>\n",
       "<tr><td>85253</td><td>235.4573075165681</td><td>357.8065633418584</td><td>5.012098823384374</td><td>12.033564654792158</td><td>-28.223261274806394</td><td>4.089956434890958</td><td>230563.7007796219</td><td>4.390343883668819e+40</td></tr>\n",
       "</table></div>"
      ],
      "text/plain": [
       "<Table length=5>\n",
       "n_galaxies       RA_min       ...       AGNLUM_min            AGNLUM_max      \n",
       "  int64         float64       ...        float64               float64        \n",
       "---------- ------------------ ... --------------------- ----------------------\n",
       "     85254 2.4135933394132487 ...  1.25916009903467e+21  8.213239150406978e+40\n",
       "     85254 149.39241037965164 ...     3180720932.304336  9.997376927217544e+40\n",
       "     85253 181.33202201602631 ... 3.038670574451414e+19 1.0111045750143736e+41\n",
       "     85253  210.4374650776045 ...     78128090498391.45  6.579411099158795e+40\n",
       "     85253  235.4573075165681 ...     230563.7007796219  4.390343883668819e+40"
      ]
     },
     "execution_count": 68,
     "metadata": {},
     "output_type": "execute_result"
    }
   ],
   "source": [
    "import sys\n",
    "sys.path.append('../src/')\n",
    "\n",
    "from my_functions import binning\n",
    "\n",
    "binning('FujiBGSPhysProp_v1.1', 5, 'RA', tabled=True)"
   ]
  }
 ],
 "metadata": {
  "kernelspec": {
   "display_name": "Python 3 (ipykernel)",
   "language": "python",
   "name": "python3"
  },
  "language_info": {
   "codemirror_mode": {
    "name": "ipython",
    "version": 3
   },
   "file_extension": ".py",
   "mimetype": "text/x-python",
   "name": "python",
   "nbconvert_exporter": "python",
   "pygments_lexer": "ipython3",
   "version": "3.8.16"
  }
 },
 "nbformat": 4,
 "nbformat_minor": 5
}
