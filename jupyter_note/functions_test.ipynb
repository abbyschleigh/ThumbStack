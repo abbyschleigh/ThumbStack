{
 "cells": [
  {
   "cell_type": "code",
   "execution_count": 2,
   "id": "981dd20f",
   "metadata": {},
   "outputs": [],
   "source": [
    "# local import\n",
    "from my_functions import cutting, massage, mapping, masking\n",
    "import my_functions"
   ]
  },
  {
   "cell_type": "code",
   "execution_count": 7,
   "id": "0a7c76f9",
   "metadata": {},
   "outputs": [
    {
     "name": "stderr",
     "output_type": "stream",
     "text": [
      "WARNING: UnitsWarning: 'log(solMass)' did not parse as fits unit: 'log' is not a recognized function If this is meant to be a custom unit, define it with 'u.def_unit'. To have it recognized inside a file reader or other code, enable it with 'u.add_enabled_units'. For details, see https://docs.astropy.org/en/latest/units/combining_and_defining.html [astropy.units.core]\n",
      "WARNING: UnitsWarning: 'log(solMass/yr)' did not parse as fits unit: 'log' is not a recognized function If this is meant to be a custom unit, define it with 'u.def_unit'. To have it recognized inside a file reader or other code, enable it with 'u.add_enabled_units'. For details, see https://docs.astropy.org/en/latest/units/combining_and_defining.html [astropy.units.core]\n",
      "WARNING: UnitsWarning: 'nanomaggy' did not parse as fits unit: At col 0, Unit 'nanomaggy' not supported by the FITS standard.  If this is meant to be a custom unit, define it with 'u.def_unit'. To have it recognized inside a file reader or other code, enable it with 'u.add_enabled_units'. For details, see https://docs.astropy.org/en/latest/units/combining_and_defining.html [astropy.units.core]\n",
      "WARNING: UnitsWarning: 'nanomaggy^-2' did not parse as fits unit: At col 0, Unit 'nanomaggy' not supported by the FITS standard.  If this is meant to be a custom unit, define it with 'u.def_unit'. To have it recognized inside a file reader or other code, enable it with 'u.add_enabled_units'. For details, see https://docs.astropy.org/en/latest/units/combining_and_defining.html [astropy.units.core]\n"
     ]
    },
    {
     "name": "stdout",
     "output_type": "stream",
     "text": [
      "Min:  -9.9658977026794\n",
      "Max:  -0.0008482402851721889\n"
     ]
    }
   ],
   "source": [
    "# test cutting\n",
    "my_dict={'LOGM': [6,9], 'LOGSFR': [-10,0]}\n",
    "my_data='FujiBGSPhysProp_v1.1'\n",
    "#cutting(my_data, my_dict)\n",
    "\n",
    "# check that it worked (you can change the key to whatever param)\n",
    "print('Min: ', cutting(my_data, my_dict)['LOGSFR'].min())\n",
    "print('Max: ', cutting(my_data, my_dict)['LOGSFR'].max())"
   ]
  },
  {
   "cell_type": "code",
   "execution_count": 4,
   "id": "10baa783",
   "metadata": {},
   "outputs": [
    {
     "name": "stderr",
     "output_type": "stream",
     "text": [
      "WARNING: UnitsWarning: 'log(solMass)' did not parse as fits unit: 'log' is not a recognized function If this is meant to be a custom unit, define it with 'u.def_unit'. To have it recognized inside a file reader or other code, enable it with 'u.add_enabled_units'. For details, see https://docs.astropy.org/en/latest/units/combining_and_defining.html [astropy.units.core]\n",
      "WARNING: UnitsWarning: 'log(solMass/yr)' did not parse as fits unit: 'log' is not a recognized function If this is meant to be a custom unit, define it with 'u.def_unit'. To have it recognized inside a file reader or other code, enable it with 'u.add_enabled_units'. For details, see https://docs.astropy.org/en/latest/units/combining_and_defining.html [astropy.units.core]\n",
      "WARNING: UnitsWarning: 'nanomaggy' did not parse as fits unit: At col 0, Unit 'nanomaggy' not supported by the FITS standard.  If this is meant to be a custom unit, define it with 'u.def_unit'. To have it recognized inside a file reader or other code, enable it with 'u.add_enabled_units'. For details, see https://docs.astropy.org/en/latest/units/combining_and_defining.html [astropy.units.core]\n",
      "WARNING: UnitsWarning: 'nanomaggy^-2' did not parse as fits unit: At col 0, Unit 'nanomaggy' not supported by the FITS standard.  If this is meant to be a custom unit, define it with 'u.def_unit'. To have it recognized inside a file reader or other code, enable it with 'u.add_enabled_units'. For details, see https://docs.astropy.org/en/latest/units/combining_and_defining.html [astropy.units.core]\n"
     ]
    },
    {
     "name": "stdout",
     "output_type": "stream",
     "text": [
      "- read input catalog from this_test.txt\n",
      "- add halo masses\n",
      "- add integrated tau\n",
      "- add integrated kSZ\n",
      "- add integrated y\n",
      "- write full catalog to ../output/catalog/this_test/catalog.txt\n",
      "- load full catalog from ../output/catalog/this_test/catalog.txt\n",
      "- load full catalog from ../output/catalog/this_test/catalog.txt\n"
     ]
    }
   ],
   "source": [
    "# test massage\n",
    "item=massage(cutting(my_data, my_dict), 'this_test')"
   ]
  },
  {
   "cell_type": "code",
   "execution_count": 4,
   "id": "17f65080",
   "metadata": {},
   "outputs": [],
   "source": [
    "# test mapping\n",
    "\n",
    "imap=mapping('act_dr5.01_s08s18_AA_f150_night_map.fits.txt')\n",
    "from pixell import enplot\n",
    "def eshow(x,**kwargs): \n",
    "    ''' Define a function to help us plot the maps neatly '''\n",
    "    plots = enplot.get_plots(x, **kwargs)\n",
    "    enplot.show(plots, method = \"ipython\")\n",
    "    \n",
    "# add \"color\", \"min\", \"max\", \"range\" etc keys here to adjust your plot\n",
    "keys = {\"downgrade\": 8, \"ticks\": 10, \"colorbar\": True}  # def color is planck\n",
    "keys_ex = {\"downgrade\": 8, \"ticks\": 10, \"colorbar\": True, 'color': 'planck', \n",
    "           'min': -200, 'max': 100}  \n",
    "\n",
    "eshow(imap, **keys) "
   ]
  },
  {
   "cell_type": "code",
   "execution_count": 2,
   "id": "c12a6e06",
   "metadata": {},
   "outputs": [],
   "source": [
    "# test masking\n",
    "new_map=masking('act_dr5.01_s08s18_AA_f150_night_map.fits.txt')\n",
    "\n",
    "from pixell import enplot\n",
    "def eshow(x,**kwargs): \n",
    "    ''' Define a function to help us plot the maps neatly '''\n",
    "    plots = enplot.get_plots(x, **kwargs)\n",
    "    enplot.show(plots, method = \"ipython\")\n",
    "    \n",
    "# add \"color\", \"min\", \"max\", \"range\" etc keys here to adjust your plot\n",
    "keys = {\"downgrade\": 8, \"ticks\": 10, \"colorbar\": True}  # def color is planck\n",
    "keys_ex = {\"downgrade\": 8, \"ticks\": 10, \"colorbar\": True, 'color': 'planck', \n",
    "           'min': -200, 'max': 100}  \n",
    "\n",
    "eshow(new_map, **keys)"
   ]
  },
  {
   "cell_type": "code",
   "execution_count": 1,
   "id": "7368db05",
   "metadata": {},
   "outputs": [],
   "source": [
    "# see if thumbstack works given all the new functions:\n",
    "import sys\n",
    "sys.path.append('../src/')\n",
    "import thumbstack\n",
    "from thumbstack import *\n",
    "\n",
    "# note: import my_functions from src (easier than jumping between directories)\n",
    "from my_functions import cutting, mapping, masking\n",
    "\n",
    "#from my_functions import massage\n",
    "import numpy as np\n",
    "\n",
    "imap=mapping('act_dr5.01_s08s18_AA_f150_night_map.fits.txt')\n",
    "\n",
    "new_map=masking('act_dr5.01_s08s18_AA_f150_night_map.fits.txt')\n",
    "'''\n",
    "cmap = cmbMap('act_dr5.01_s08s18_AA_f150_night_map.fits.txt',\n",
    "              pathMask=new_map,\n",
    "              # pathMask=pathMask,\n",
    "              # \"act_dr5.01_s08s18_AA_f150_daynight_ivar.fits\",\n",
    "              pathHit=None,\n",
    "              name='that_test')\n",
    "'''\n",
    "#my_dict={'LOGM': [6,9], 'LOGSFR': [-10,0]}\n",
    "my_dict={'LOGM': [6,6.5], 'LOGSFR': [-1.5,0]}\n",
    "my_data='FujiBGSPhysProp_v1.1'\n",
    "\n",
    "#item=massage(cutting(my_data, my_dict), 'this_test')\n",
    "#item=TableReader(cutting(my_data, my_dict))"
   ]
  },
  {
   "cell_type": "code",
   "execution_count": 11,
   "id": "bea9d8ba-cc6e-43f8-8fcb-ff2c176707a1",
   "metadata": {
    "collapsed": true,
    "jupyter": {
     "outputs_hidden": true
    },
    "scrolled": true
   },
   "outputs": [
    {
     "data": {
      "text/html": [
       "<div><i>Table length=29</i>\n",
       "<table id=\"table140415778896576\" class=\"table-striped table-bordered table-condensed\">\n",
       "<thead><tr><th>TARGETID</th><th>SURVEY</th><th>PROGRAM</th><th>HEALPIX</th><th>SPECTYPE_1</th><th>RA</th><th>DEC</th><th>RELEASE_1</th><th>Z</th><th>CHI2_1</th><th>LOGM</th><th>LOGM_ERR</th><th>LOGSFR</th><th>LOGSFR_ERR</th><th>AGNLUM</th><th>AGNFRAC</th><th>AGNPSY</th><th>LNU_U</th><th>LNU_G</th><th>LNU_R</th><th>LNU_I</th><th>LNU_Z</th><th>NUVR</th><th>RK</th><th>UV</th><th>VJ</th><th>GR</th><th>LNU_U_ERR</th><th>LNU_G_ERR</th><th>LNU_R_ERR</th><th>LNU_I_ERR</th><th>LNU_Z_ERR</th><th>NUVR_ERR</th><th>RK_ERR</th><th>UV_ERR</th><th>VJ_ERR</th><th>GR_ERR</th><th>FLAG_MASSPDF</th><th>FLAG_SFRPDF</th><th>FLAGOPTICAL</th><th>FLAGINFRARED</th><th>FLUX_G_1</th><th>FLUX_R_1</th><th>FLUX_Z_1</th><th>FLUX_W1_1</th><th>FLUX_W2_1</th><th>FLUX_W3</th><th>FLUX_W4</th><th>FLUX_IVAR_G_1</th><th>FLUX_IVAR_R_1</th><th>FLUX_IVAR_Z_1</th><th>FLUX_IVAR_W1_1</th><th>FLUX_IVAR_W2_1</th><th>FLUX_IVAR_W3</th><th>FLUX_IVAR_W4</th><th>MW_TRANSMISSION_G</th><th>MW_TRANSMISSION_R</th><th>MW_TRANSMISSION_Z</th><th>MW_TRANSMISSION_W1</th><th>MW_TRANSMISSION_W2</th><th>MW_TRANSMISSION_W3</th><th>MW_TRANSMISSION_W4</th><th>SNR_R</th><th>SNR_G</th><th>SNR_Z</th><th>SNR_W1</th><th>SNR_W2</th><th>SNR_W3</th><th>SNR_W4</th><th>SPGRPVAL</th><th>ZERR</th><th>ZWARN</th><th>CHI2_2</th><th>COEFF</th><th>NPIXELS</th><th>SPECTYPE_2</th><th>SUBTYPE</th><th>NCOEFF</th><th>DELTACHI2</th><th>COADD_FIBERSTATUS</th><th>TARGET_RA</th><th>TARGET_DEC</th><th>PMRA</th><th>PMDEC</th><th>REF_EPOCH</th><th>FA_TARGET</th><th>FA_TYPE</th><th>OBJTYPE</th><th>SUBPRIORITY</th><th>OBSCONDITIONS</th><th>RELEASE_2</th><th>BRICKNAME</th><th>BRICKID</th><th>BRICK_OBJID</th><th>MORPHTYPE</th><th>EBV</th><th>FLUX_G_2</th><th>FLUX_R_2</th><th>FLUX_Z_2</th><th>FLUX_W1_2</th><th>FLUX_W2_2</th><th>FLUX_IVAR_G_2</th><th>FLUX_IVAR_R_2</th><th>FLUX_IVAR_Z_2</th><th>FLUX_IVAR_W1_2</th><th>FLUX_IVAR_W2_2</th><th>FIBERFLUX_G</th><th>FIBERFLUX_R</th><th>FIBERFLUX_Z</th><th>FIBERTOTFLUX_G</th><th>FIBERTOTFLUX_R</th><th>FIBERTOTFLUX_Z</th><th>MASKBITS</th><th>SERSIC</th><th>SHAPE_R</th><th>SHAPE_E1</th><th>SHAPE_E2</th><th>REF_ID</th><th>REF_CAT</th><th>GAIA_PHOT_G_MEAN_MAG</th><th>GAIA_PHOT_BP_MEAN_MAG</th><th>GAIA_PHOT_RP_MEAN_MAG</th><th>PARALLAX</th><th>PHOTSYS</th><th>PRIORITY_INIT</th><th>NUMOBS_INIT</th><th>CMX_TARGET</th><th>DESI_TARGET</th><th>BGS_TARGET</th><th>MWS_TARGET</th><th>SCND_TARGET</th><th>SV1_DESI_TARGET</th><th>SV1_BGS_TARGET</th><th>SV1_MWS_TARGET</th><th>SV1_SCND_TARGET</th><th>SV2_DESI_TARGET</th><th>SV2_BGS_TARGET</th><th>SV2_MWS_TARGET</th><th>SV2_SCND_TARGET</th><th>SV3_DESI_TARGET</th><th>SV3_BGS_TARGET</th><th>SV3_MWS_TARGET</th><th>SV3_SCND_TARGET</th><th>PLATE_RA</th><th>PLATE_DEC</th><th>COADD_NUMEXP</th><th>COADD_EXPTIME</th><th>COADD_NUMNIGHT</th><th>COADD_NUMTILE</th><th>MEAN_DELTA_X</th><th>RMS_DELTA_X</th><th>MEAN_DELTA_Y</th><th>RMS_DELTA_Y</th><th>MEAN_FIBER_RA</th><th>STD_FIBER_RA</th><th>MEAN_FIBER_DEC</th><th>STD_FIBER_DEC</th><th>MEAN_PSF_TO_FIBER_SPECFLUX</th><th>TSNR2_GPBDARK_B</th><th>TSNR2_ELG_B</th><th>TSNR2_GPBBRIGHT_B</th><th>TSNR2_LYA_B</th><th>TSNR2_BGS_B</th><th>TSNR2_GPBBACKUP_B</th><th>TSNR2_QSO_B</th><th>TSNR2_LRG_B</th><th>TSNR2_GPBDARK_R</th><th>TSNR2_ELG_R</th><th>TSNR2_GPBBRIGHT_R</th><th>TSNR2_LYA_R</th><th>TSNR2_BGS_R</th><th>TSNR2_GPBBACKUP_R</th><th>TSNR2_QSO_R</th><th>TSNR2_LRG_R</th><th>TSNR2_GPBDARK_Z</th><th>TSNR2_ELG_Z</th><th>TSNR2_GPBBRIGHT_Z</th><th>TSNR2_LYA_Z</th><th>TSNR2_BGS_Z</th><th>TSNR2_GPBBACKUP_Z</th><th>TSNR2_QSO_Z</th><th>TSNR2_LRG_Z</th><th>TSNR2_GPBDARK</th><th>TSNR2_ELG</th><th>TSNR2_GPBBRIGHT</th><th>TSNR2_LYA</th><th>TSNR2_BGS</th><th>TSNR2_GPBBACKUP</th><th>TSNR2_QSO</th><th>TSNR2_LRG</th><th>SV_NSPEC</th><th>SV_PRIMARY</th><th>ZCAT_NSPEC</th><th>ZCAT_PRIMARY</th></tr></thead>\n",
       "<thead><tr><th></th><th></th><th></th><th></th><th></th><th>deg</th><th>deg</th><th></th><th></th><th></th><th>log(solMass)</th><th>log(solMass)</th><th>log(solMass/yr)</th><th>log(solMass/yr)</th><th>W</th><th></th><th>deg</th><th>W / Hz</th><th>W / Hz</th><th>W / Hz</th><th>W / Hz</th><th>W / Hz</th><th>mag</th><th>mag</th><th>mag</th><th>mag</th><th>mag</th><th>W / Hz</th><th>W / Hz</th><th>W / Hz</th><th>W / Hz</th><th>W / Hz</th><th>mag</th><th>mag</th><th>mag</th><th>mag</th><th>mag</th><th></th><th></th><th></th><th></th><th>nanomaggy</th><th>nanomaggy</th><th>nanomaggy</th><th>nanomaggy</th><th>nanomaggy</th><th>nanomaggy</th><th>nanomaggy</th><th>nanomaggy^-2</th><th>nanomaggy^-2</th><th>nanomaggy^-2</th><th>nanomaggy^-2</th><th>nanomaggy^-2</th><th>nanomaggy^-2</th><th>nanomaggy^-2</th><th></th><th></th><th></th><th></th><th></th><th></th><th></th><th></th><th></th><th></th><th></th><th></th><th></th><th></th><th></th><th></th><th></th><th></th><th></th><th></th><th></th><th></th><th></th><th></th><th></th><th></th><th></th><th></th><th></th><th></th><th></th><th></th><th></th><th></th><th></th><th></th><th></th><th></th><th></th><th></th><th></th><th></th><th></th><th></th><th></th><th></th><th></th><th></th><th></th><th></th><th></th><th></th><th></th><th></th><th></th><th></th><th></th><th></th><th></th><th></th><th></th><th></th><th></th><th></th><th></th><th></th><th></th><th></th><th></th><th></th><th></th><th></th><th></th><th></th><th></th><th></th><th></th><th></th><th></th><th></th><th></th><th></th><th></th><th></th><th></th><th></th><th></th><th></th><th></th><th></th><th></th><th></th><th></th><th></th><th></th><th></th><th></th><th></th><th></th><th></th><th></th><th></th><th></th><th></th><th></th><th></th><th></th><th></th><th></th><th></th><th></th><th></th><th></th><th></th><th></th><th></th><th></th><th></th><th></th><th></th><th></th><th></th><th></th><th></th><th></th><th></th><th></th><th></th><th></th><th></th><th></th><th></th><th></th><th></th><th></th><th></th><th></th><th></th><th></th></tr></thead>\n",
       "<thead><tr><th>int64</th><th>bytes7</th><th>bytes7</th><th>int32</th><th>bytes7</th><th>float64</th><th>float64</th><th>int16</th><th>float64</th><th>float64</th><th>float64</th><th>float64</th><th>float64</th><th>float64</th><th>float64</th><th>float64</th><th>float64</th><th>float64</th><th>float64</th><th>float64</th><th>float64</th><th>float64</th><th>float64</th><th>float64</th><th>float64</th><th>float64</th><th>float64</th><th>float64</th><th>float64</th><th>float64</th><th>float64</th><th>float64</th><th>float64</th><th>float64</th><th>float64</th><th>float64</th><th>float64</th><th>float64</th><th>float64</th><th>int64</th><th>int64</th><th>float32</th><th>float32</th><th>float32</th><th>float32</th><th>float32</th><th>float32</th><th>float32</th><th>float32</th><th>float32</th><th>float32</th><th>float32</th><th>float32</th><th>float32</th><th>float32</th><th>float32</th><th>float32</th><th>float32</th><th>float32</th><th>float32</th><th>float32</th><th>float32</th><th>float32</th><th>float32</th><th>float32</th><th>float32</th><th>float32</th><th>float32</th><th>float32</th><th>int32</th><th>float64</th><th>int64</th><th>float64</th><th>float64[10]</th><th>int64</th><th>bytes6</th><th>bytes20</th><th>int64</th><th>float64</th><th>int32</th><th>float64</th><th>float64</th><th>float32</th><th>float32</th><th>float32</th><th>int64</th><th>uint8</th><th>bytes3</th><th>float64</th><th>int32</th><th>int16</th><th>bytes8</th><th>int32</th><th>int32</th><th>bytes4</th><th>float32</th><th>float32</th><th>float32</th><th>float32</th><th>float32</th><th>float32</th><th>float32</th><th>float32</th><th>float32</th><th>float32</th><th>float32</th><th>float32</th><th>float32</th><th>float32</th><th>float32</th><th>float32</th><th>float32</th><th>int16</th><th>float32</th><th>float32</th><th>float32</th><th>float32</th><th>int64</th><th>bytes2</th><th>float32</th><th>float32</th><th>float32</th><th>float32</th><th>bytes1</th><th>int64</th><th>int64</th><th>int64</th><th>int64</th><th>int64</th><th>int64</th><th>int64</th><th>int64</th><th>int64</th><th>int64</th><th>int64</th><th>int64</th><th>int64</th><th>int64</th><th>int64</th><th>int64</th><th>int64</th><th>int64</th><th>int64</th><th>float64</th><th>float64</th><th>int16</th><th>float32</th><th>int16</th><th>int16</th><th>float32</th><th>float32</th><th>float32</th><th>float32</th><th>float64</th><th>float32</th><th>float64</th><th>float32</th><th>float32</th><th>float32</th><th>float32</th><th>float32</th><th>float32</th><th>float32</th><th>float32</th><th>float32</th><th>float32</th><th>float32</th><th>float32</th><th>float32</th><th>float32</th><th>float32</th><th>float32</th><th>float32</th><th>float32</th><th>float32</th><th>float32</th><th>float32</th><th>float32</th><th>float32</th><th>float32</th><th>float32</th><th>float32</th><th>float32</th><th>float32</th><th>float32</th><th>float32</th><th>float32</th><th>float32</th><th>float32</th><th>float32</th><th>int32</th><th>bool</th><th>int64</th><th>bool</th></tr></thead>\n",
       "<tr><td>39627598493384904</td><td>sv1</td><td>bright</td><td>17672</td><td>GALAXY</td><td>32.27123670664832</td><td>-7.68107959399236</td><td>9010</td><td>0.012639264617383668</td><td>9.255473721467174</td><td>6.48276756441403</td><td>0.15400817592469848</td><td>-1.2912483669514414</td><td>0.08349501425550972</td><td>1.25916009903467e+21</td><td>0.35857142855946217</td><td>44.058199999850714</td><td>4.657714069095938e+19</td><td>5.2206800692661805e+19</td><td>5.205431419899662e+19</td><td>4.02754523257671e+19</td><td>4.485924912137017e+19</td><td>-0.025510346905694738</td><td>-0.39526551388257813</td><td>0.013188606801748815</td><td>-0.05948983065730334</td><td>-0.0030563779409882763</td><td>4.0450150764794373e+18</td><td>2.6103400346330906e+18</td><td>2.602715709949831e+18</td><td>2.0137726162883553e+18</td><td>2.2429624560685087e+18</td><td>0.11209539079099747</td><td>0.060480450992928446</td><td>0.08513775445312839</td><td>0.0400194243522977</td><td>0.004748868879330262</td><td>inf</td><td>-0.8842497767959522</td><td>3</td><td>1</td><td>45.97097</td><td>56.83291</td><td>64.40206</td><td>11.46378</td><td>2.9429622</td><td>-73.35905</td><td>-342.2283</td><td>181.89792</td><td>112.83339</td><td>14.7132635</td><td>1.5896474</td><td>0.40494698</td><td>0.0010812015</td><td>1.7266088e-05</td><td>0.9374788</td><td>0.95744276</td><td>0.9759676</td><td>0.9963107</td><td>0.9977327</td><td>0.999516</td><td>0.9998172</td><td>603.69653</td><td>620.00836</td><td>247.03261</td><td>14.453673</td><td>1.8727671</td><td>-2.412165</td><td>-1.4220436</td><td>17672</td><td>3.841186902081976e-06</td><td>0</td><td>8342.034156149253</td><td>745.8501369157802 .. 0.9863083181449995</td><td>7929</td><td>GALAXY</td><td>--</td><td>10</td><td>1191.7862300220877</td><td>0</td><td>32.27123670664832</td><td>-7.68107959399236</td><td>0.0</td><td>0.0</td><td>2021.0034</td><td>1152921504606846976</td><td>1</td><td>TGT</td><td>0.9309051921023381</td><td>4</td><td>9010</td><td>0323m077</td><td>285966</td><td>200</td><td>SER</td><td>0.021809692</td><td>45.97097</td><td>56.83291</td><td>64.40206</td><td>11.46378</td><td>2.9429622</td><td>181.89792</td><td>112.83339</td><td>14.7132635</td><td>1.5896474</td><td>0.40494698</td><td>2.3010898</td><td>2.844787</td><td>3.223663</td><td>2.308881</td><td>2.8522594</td><td>3.2318616</td><td>0</td><td>0.54672456</td><td>4.307885</td><td>-0.25473025</td><td>-0.34537697</td><td>0</td><td>--</td><td>0.0</td><td>0.0</td><td>0.0</td><td>0.0</td><td>S</td><td>2000</td><td>1</td><td>0</td><td>0</td><td>0</td><td>0</td><td>0</td><td>1152921504606846976</td><td>131074</td><td>0</td><td>0</td><td>0</td><td>0</td><td>0</td><td>0</td><td>0</td><td>0</td><td>0</td><td>0</td><td>32.27123670664832</td><td>-7.68107959399236</td><td>7</td><td>2100.2505</td><td>3</td><td>1</td><td>-0.0052857143</td><td>0.009848858</td><td>-0.0012857143</td><td>0.0029519969</td><td>32.27121502457574</td><td>0.12393728</td><td>-7.681074570886682</td><td>0.038501207</td><td>0.7457693</td><td>80.18939</td><td>0.074749336</td><td>15.78005</td><td>68.59226</td><td>405.64954</td><td>132.77005</td><td>2.0502412</td><td>0.6179463</td><td>7008.687</td><td>15.498509</td><td>1339.0828</td><td>0.0356137</td><td>1522.0128</td><td>10286.185</td><td>4.7388906</td><td>22.076015</td><td>1.2599673e-05</td><td>73.3137</td><td>2.4625203e-06</td><td>0.0</td><td>3099.7534</td><td>2.0301533e-05</td><td>14.831296</td><td>31.6623</td><td>7088.8765</td><td>88.886955</td><td>1354.8628</td><td>68.62788</td><td>5027.416</td><td>10418.955</td><td>21.620428</td><td>54.356262</td><td>1</td><td>True</td><td>1</td><td>True</td></tr>\n",
       "<tr><td>39627634476323251</td><td>sv1</td><td>bright</td><td>17697</td><td>GALAXY</td><td>31.55562338267452</td><td>-6.163565384458611</td><td>9010</td><td>0.012845229688741777</td><td>11.472941421605803</td><td>6.367158865471268</td><td>0.16012803017882038</td><td>-1.355750358995552</td><td>0.042417225897923745</td><td>2.3903307321457064e+29</td><td>0.35701235783695906</td><td>44.03921028348367</td><td>3.8446644055894925e+19</td><td>4.217058446037928e+19</td><td>4.2057663948830966e+19</td><td>3.201501543934119e+19</td><td>3.5809936959795356e+19</td><td>-0.06731653179098558</td><td>-0.40782095471962354</td><td>-0.01852826960475527</td><td>-0.06621509017804889</td><td>-0.0027553025428523475</td><td>1.9483263118063642e+18</td><td>2.1085292230189642e+18</td><td>2.1028831974415483e+18</td><td>1.6007507719670597e+18</td><td>1.790496847989768e+18</td><td>0.05506271856666415</td><td>0.05262646082315409</td><td>0.042755619882746704</td><td>0.03891821349589194</td><td>0.006856725360397564</td><td>inf</td><td>-0.8204144408092925</td><td>3</td><td>4</td><td>34.398712</td><td>32.734123</td><td>26.090555</td><td>11.174637</td><td>5.385105</td><td>112.25788</td><td>4713.6006</td><td>471.47284</td><td>413.8813</td><td>84.33349</td><td>2.948929</td><td>0.7177043</td><td>0.0014249759</td><td>1.913261e-05</td><td>0.9346974</td><td>0.9555283</td><td>0.9748755</td><td>0.99614125</td><td>0.99762845</td><td>0.9994937</td><td>0.9998088</td><td>665.9454</td><td>746.9138</td><td>239.5981</td><td>19.189585</td><td>4.562123</td><td>4.2376065</td><td>20.617685</td><td>17697</td><td>3.6771528460462377e-07</td><td>0</td><td>96262.03936076164</td><td>6269.802067115223 .. 61.493412554618665</td><td>7928</td><td>GALAXY</td><td>--</td><td>10</td><td>186247.69411052216</td><td>0</td><td>31.55562338267452</td><td>-6.163565384458611</td><td>0.0</td><td>0.0</td><td>2021.0034</td><td>1152921504606846976</td><td>1</td><td>TGT</td><td>0.9513727157751846</td><td>4</td><td>9010</td><td>0315m062</td><td>294545</td><td>4531</td><td>REX</td><td>0.02281344</td><td>34.398712</td><td>32.734123</td><td>26.090555</td><td>11.174637</td><td>5.385105</td><td>471.47284</td><td>413.8813</td><td>84.33349</td><td>2.948929</td><td>0.7177043</td><td>13.863636</td><td>13.192761</td><td>10.515219</td><td>13.870933</td><td>13.212459</td><td>10.55097</td><td>0</td><td>1.0</td><td>0.6917545</td><td>0.0</td><td>0.0</td><td>0</td><td>--</td><td>0.0</td><td>0.0</td><td>0.0</td><td>0.0</td><td>S</td><td>2000</td><td>1</td><td>0</td><td>0</td><td>0</td><td>0</td><td>0</td><td>1152921504606846976</td><td>131074</td><td>0</td><td>0</td><td>0</td><td>0</td><td>0</td><td>0</td><td>0</td><td>0</td><td>0</td><td>0</td><td>31.55562338267452</td><td>-6.163565384458611</td><td>7</td><td>2100.2505</td><td>3</td><td>1</td><td>0.00014285714</td><td>0.0064031244</td><td>0.0024285715</td><td>0.0061295535</td><td>31.555623855069765</td><td>0.09376308</td><td>-6.1635750209877935</td><td>0.080184825</td><td>0.76613015</td><td>54.50099</td><td>0.068672046</td><td>10.75785</td><td>51.74193</td><td>383.07703</td><td>91.00878</td><td>1.8766084</td><td>0.6772821</td><td>8483.956</td><td>18.659681</td><td>1610.6294</td><td>0.052979115</td><td>1874.3113</td><td>12085.356</td><td>5.752232</td><td>26.703321</td><td>1.0153434e-05</td><td>70.11808</td><td>1.9856896e-06</td><td>0.0</td><td>3218.0767</td><td>1.6297592e-05</td><td>14.630329</td><td>31.85845</td><td>8538.457</td><td>88.846436</td><td>1621.3872</td><td>51.794907</td><td>5475.465</td><td>12176.365</td><td>22.25917</td><td>59.23905</td><td>1</td><td>True</td><td>1</td><td>True</td></tr>\n",
       "<tr><td>39627635067720552</td><td>sv1</td><td>bright</td><td>22734</td><td>GALAXY</td><td>67.07576014200676</td><td>-6.173102615040228</td><td>9010</td><td>0.034071779038160686</td><td>9.143554485786964</td><td>6.4150351441856275</td><td>0.1798276364950921</td><td>-1.305942602837888</td><td>0.029482287760236616</td><td>3.8994308196767466e+34</td><td>0.2974935505483634</td><td>80.50542178522852</td><td>4.442526364233729e+19</td><td>4.979054192932826e+19</td><td>5.132637218744198e+19</td><td>4.240553452241854e+19</td><td>4.748444013890983e+19</td><td>0.07324060234171105</td><td>0.3307800958299773</td><td>0.04138204602915193</td><td>0.11435560560573513</td><td>0.03309155781114306</td><td>2.2212631821168645e+18</td><td>2.489527096466413e+18</td><td>2.566318609372099e+18</td><td>2.120276726120927e+18</td><td>2.3742220069454915e+18</td><td>0.03719034585503043</td><td>0.031890670570687535</td><td>0.025463422043312013</td><td>0.032325582574461074</td><td>0.008413778831521843</td><td>inf</td><td>-0.8611268670021448</td><td>3</td><td>3</td><td>8.17169</td><td>6.211357</td><td>3.5745358</td><td>10.06174</td><td>9.880448</td><td>-15.138236</td><td>2216.2158</td><td>452.50922</td><td>123.197235</td><td>50.61681</td><td>2.609596</td><td>0.6631172</td><td>0.000991198</td><td>1.3238813e-05</td><td>0.86508465</td><td>0.9069883</td><td>0.946857</td><td>0.99173725</td><td>0.9949175</td><td>0.9989139</td><td>0.99958974</td><td>68.9425</td><td>173.83035</td><td>25.431211</td><td>16.25398</td><td>8.045848</td><td>-0.47660157</td><td>8.063742</td><td>22734</td><td>4.4070552968916116e-07</td><td>0</td><td>32013.41754436493</td><td>1963.3702895375222 .. 123.80735781852268</td><td>7929</td><td>GALAXY</td><td>--</td><td>10</td><td>158455.48694890738</td><td>0</td><td>67.07576014200676</td><td>-6.173102615040228</td><td>0.0</td><td>0.0</td><td>2020.9624</td><td>1152922329240568578</td><td>1</td><td>TGT</td><td>0.9494455639327083</td><td>7</td><td>9010</td><td>0669m062</td><td>294686</td><td>4968</td><td>DEV</td><td>0.04895877</td><td>8.17169</td><td>6.211357</td><td>3.5745358</td><td>10.06174</td><td>9.880448</td><td>452.50922</td><td>123.197235</td><td>50.61681</td><td>2.609596</td><td>0.6631172</td><td>2.9958315</td><td>2.277152</td><td>1.3104643</td><td>3.479579</td><td>3.0373464</td><td>2.376703</td><td>0</td><td>4.0</td><td>1.221935</td><td>-0.38670218</td><td>0.19707781</td><td>0</td><td>--</td><td>0.0</td><td>0.0</td><td>0.0</td><td>0.0</td><td>S</td><td>2000</td><td>1</td><td>0</td><td>0</td><td>0</td><td>0</td><td>0</td><td>1152922329240568578</td><td>262148</td><td>0</td><td>0</td><td>0</td><td>0</td><td>0</td><td>0</td><td>0</td><td>0</td><td>0</td><td>0</td><td>67.07576014200676</td><td>-6.173102615040228</td><td>17</td><td>5100.0</td><td>5</td><td>1</td><td>-0.0011764705</td><td>0.0033781303</td><td>0.0017647059</td><td>0.0042008404</td><td>67.07576539699853</td><td>0.04590137</td><td>-6.173101172813879</td><td>0.059508137</td><td>0.7542886</td><td>117.12029</td><td>0.07966719</td><td>23.21112</td><td>55.32382</td><td>468.29468</td><td>200.53806</td><td>2.146449</td><td>0.85309494</td><td>11659.862</td><td>26.68658</td><td>2243.236</td><td>0.05796315</td><td>2522.3877</td><td>17597.168</td><td>8.010042</td><td>37.56197</td><td>2.289149e-05</td><td>138.14061</td><td>4.4681115e-06</td><td>0.0</td><td>5963.2817</td><td>3.671801e-05</td><td>28.23885</td><td>60.355835</td><td>11776.982</td><td>164.90686</td><td>2266.4473</td><td>55.381783</td><td>8953.964</td><td>17797.705</td><td>38.39534</td><td>98.770905</td><td>1</td><td>True</td><td>1</td><td>True</td></tr>\n",
       "<tr><td>39627677195306502</td><td>sv1</td><td>bright</td><td>22768</td><td>GALAXY</td><td>67.2462351114125</td><td>-4.538702195475451</td><td>9010</td><td>0.01163162850511833</td><td>5.753340716023431</td><td>6.373791972794975</td><td>0.2082707636170984</td><td>-1.4463644275734695</td><td>0.0723061198548897</td><td>6.246952464637628e+33</td><td>0.20607597606357259</td><td>22.65774487826713</td><td>2.7382501495112753e+19</td><td>3.1626475176761557e+19</td><td>3.2528032838968484e+19</td><td>2.5939393566581498e+19</td><td>2.9417416609298498e+19</td><td>0.07898459528294403</td><td>-0.2826253357840317</td><td>0.06078279176950884</td><td>0.03833396443304891</td><td>0.030934543715699966</td><td>2.4902139440345723e+18</td><td>1.751478452907137e+18</td><td>1.6264016419484242e+18</td><td>1.296969678329075e+18</td><td>1.470870830464925e+18</td><td>0.10424012196101813</td><td>0.07677265141209956</td><td>0.07455613937599588</td><td>0.059367175582709354</td><td>0.016064438375693258</td><td>inf</td><td>-0.7544239699823733</td><td>3</td><td>3</td><td>34.236195</td><td>30.813154</td><td>23.254864</td><td>13.649402</td><td>20.607382</td><td>45.96153</td><td>3188.7925</td><td>49.875893</td><td>14.419237</td><td>5.687521</td><td>0.8039775</td><td>0.2011402</td><td>0.00032271375</td><td>6.07649e-06</td><td>0.87806135</td><td>0.9161308</td><td>0.9521838</td><td>0.992583</td><td>0.99543846</td><td>0.9990254</td><td>0.9996319</td><td>117.005775</td><td>241.78583</td><td>55.45942</td><td>12.238708</td><td>9.242134</td><td>0.8256637</td><td>7.8605447</td><td>22768</td><td>3.040354591775934e-07</td><td>0</td><td>70374.46417689323</td><td>2185.658227267672 .. 75.94400592013365</td><td>7929</td><td>GALAXY</td><td>--</td><td>10</td><td>244963.66973042488</td><td>0</td><td>67.2462351114125</td><td>-4.538702195475451</td><td>0.0</td><td>0.0</td><td>2020.9624</td><td>1152921504606846976</td><td>1</td><td>TGT</td><td>0.9502633310708668</td><td>4</td><td>9010</td><td>0673m045</td><td>304730</td><td>1542</td><td>SER</td><td>0.043929007</td><td>34.236195</td><td>30.813154</td><td>23.254864</td><td>13.649402</td><td>20.607382</td><td>49.875893</td><td>14.419237</td><td>5.687521</td><td>0.8039775</td><td>0.2011402</td><td>3.713293</td><td>3.3420267</td><td>2.5222468</td><td>3.7970395</td><td>3.4596715</td><td>2.6761334</td><td>0</td><td>6.0</td><td>7.06783</td><td>-0.10564592</td><td>0.014707429</td><td>0</td><td>--</td><td>0.0</td><td>0.0</td><td>0.0</td><td>0.0</td><td>S</td><td>2000</td><td>1</td><td>0</td><td>0</td><td>0</td><td>0</td><td>0</td><td>1152921504606846976</td><td>131074</td><td>0</td><td>0</td><td>0</td><td>0</td><td>0</td><td>0</td><td>0</td><td>0</td><td>0</td><td>0</td><td>67.2462351114125</td><td>-4.538702195475451</td><td>17</td><td>5100.0</td><td>5</td><td>1</td><td>0.002</td><td>0.007428087</td><td>-0.002882353</td><td>0.005995096</td><td>67.24621904685436</td><td>0.09166891</td><td>-4.538706946536644</td><td>0.08476979</td><td>0.74198896</td><td>232.72298</td><td>0.09836925</td><td>45.60947</td><td>61.787605</td><td>595.4287</td><td>376.65286</td><td>2.6125338</td><td>1.1268911</td><td>15624.187</td><td>39.841427</td><td>2968.7908</td><td>0.04909531</td><td>3325.7417</td><td>22309.697</td><td>11.377345</td><td>54.778114</td><td>2.0179712e-05</td><td>138.80428</td><td>3.9019956e-06</td><td>0.0</td><td>6779.5723</td><td>3.099676e-05</td><td>29.822247</td><td>65.61321</td><td>15856.909</td><td>178.74408</td><td>3014.4001</td><td>61.8367</td><td>10700.742</td><td>22686.35</td><td>43.812126</td><td>121.51822</td><td>1</td><td>True</td><td>1</td><td>True</td></tr>\n",
       "<tr><td>39627763644109298</td><td>sv3</td><td>bright</td><td>26273</td><td>GALAXY</td><td>183.47591424414722</td><td>-1.0889754958532158</td><td>9010</td><td>0.006662873195157552</td><td>13.606504638568584</td><td>6.403549709264636</td><td>0.1608413163904004</td><td>-1.3830227877636188</td><td>0.0819035792733493</td><td>3.038670574451414e+19</td><td>0.35857142857080726</td><td>44.05819999999376</td><td>3.787902959129041e+19</td><td>4.257965903716279e+19</td><td>4.24612253371987e+19</td><td>3.2959202933687226e+19</td><td>3.670202653897884e+19</td><td>-0.021046062875631925</td><td>-0.3910721105902048</td><td>0.016871682057772407</td><td>-0.05662763895812415</td><td>-0.0029224936039742642</td><td>3.136919827239318e+18</td><td>2.1289829518581396e+18</td><td>2.123061266859935e+18</td><td>1.6479601466843615e+18</td><td>1.835101326948942e+18</td><td>0.11396063783778222</td><td>0.06147106960229502</td><td>0.08647364553712783</td><td>0.04078236831395355</td><td>0.004949437012432144</td><td>inf</td><td>-0.8053637727008479</td><td>3</td><td>2</td><td>123.00605</td><td>164.5279</td><td>202.04622</td><td>52.62061</td><td>4.8972325</td><td>273.56836</td><td>-2436.3086</td><td>8.653051</td><td>4.6072464</td><td>0.9975878</td><td>0.38193187</td><td>0.09538057</td><td>0.00012816362</td><td>4.2590736e-06</td><td>0.9413015</td><td>0.96007085</td><td>0.97746515</td><td>0.9965429</td><td>0.99787545</td><td>0.9995465</td><td>0.99982876</td><td>353.15088</td><td>361.83545</td><td>201.80238</td><td>32.51987</td><td>1.5124488</td><td>3.0970502</td><td>-5.027938</td><td>26273</td><td>6.902765733781427e-05</td><td>0</td><td>7635.646742489933</td><td>692.1849135905311 .. -13.879024787625745</td><td>7928</td><td>GALAXY</td><td>--</td><td>10</td><td>32.02775200754513</td><td>0</td><td>183.47591424414722</td><td>-1.0889754958532158</td><td>0.0</td><td>0.0</td><td>2015.5</td><td>5764607523034234880</td><td>1</td><td>TGT</td><td>0.5874736705814954</td><td>575</td><td>9010</td><td>1833m010</td><td>325341</td><td>4594</td><td>SER</td><td>0.020435004</td><td>123.00605</td><td>164.5279</td><td>202.04622</td><td>52.62061</td><td>4.8972325</td><td>8.653051</td><td>4.6072464</td><td>0.9975878</td><td>0.38193187</td><td>0.09538057</td><td>1.2442213</td><td>1.6642199</td><td>2.0437224</td><td>1.2516122</td><td>1.6782613</td><td>2.0681164</td><td>4096</td><td>0.90681326</td><td>10.327677</td><td>-0.17996511</td><td>0.20324911</td><td>228678</td><td>L3</td><td>0.0</td><td>0.0</td><td>0.0</td><td>0.0</td><td>S</td><td>102100</td><td>9</td><td>0</td><td>0</td><td>0</td><td>0</td><td>0</td><td>0</td><td>0</td><td>0</td><td>0</td><td>0</td><td>0</td><td>0</td><td>0</td><td>5764607523034234880</td><td>131074</td><td>0</td><td>158329674399744</td><td>183.47591424414722</td><td>-1.0889754958532158</td><td>4</td><td>1672.1373</td><td>4</td><td>3</td><td>0.005</td><td>0.0064420495</td><td>0.00025</td><td>0.004924429</td><td>183.47593423712934</td><td>0.05837643</td><td>-1.0889761766190431</td><td>0.06866587</td><td>0.73637676</td><td>71.501884</td><td>0.058812708</td><td>14.050089</td><td>55.48411</td><td>318.35123</td><td>114.50293</td><td>1.6018907</td><td>0.48598832</td><td>6348.4854</td><td>13.789621</td><td>1207.1295</td><td>0.028860599</td><td>1382.5885</td><td>8889.024</td><td>4.2417927</td><td>19.859224</td><td>1.0276922e-05</td><td>51.608627</td><td>2.0027549e-06</td><td>0.0</td><td>2408.2925</td><td>1.5949128e-05</td><td>10.771288</td><td>23.728317</td><td>6419.9873</td><td>65.45706</td><td>1221.1796</td><td>55.512974</td><td>4109.2324</td><td>9003.527</td><td>16.614971</td><td>44.073532</td><td>1</td><td>True</td><td>1</td><td>True</td></tr>\n",
       "<tr><td>39627776264768264</td><td>sv3</td><td>bright</td><td>25960</td><td>GALAXY</td><td>215.60146683012857</td><td>-0.3979060696774879</td><td>9010</td><td>0.00575319056715382</td><td>6.749537354331905</td><td>6.286497537113401</td><td>0.11384138082572211</td><td>-1.3878722275326798</td><td>0.025149589925948335</td><td>9.344729175431665e+31</td><td>0.003333345186928253</td><td>37.14781811196113</td><td>3.0587447995673854e+19</td><td>3.4389152217157444e+19</td><td>3.5141523209580843e+19</td><td>2.7255880243894088e+19</td><td>3.0880696476274717e+19</td><td>0.021728074695014653</td><td>-0.33387594674971544</td><td>0.01925899704065843</td><td>0.0007924167685269575</td><td>0.023661804952024888</td><td>1.5293723997836928e+18</td><td>1.7194576108578724e+18</td><td>1.7570761604790423e+18</td><td>1.3627940121947044e+18</td><td>1.544034823813736e+18</td><td>0.046638962121513416</td><td>0.042238839468891946</td><td>0.030687562906652716</td><td>0.03218093229144664</td><td>0.006984224000057139</td><td>inf</td><td>-0.7942304813239014</td><td>3</td><td>4</td><td>115.85551</td><td>136.93002</td><td>120.3601</td><td>51.992836</td><td>40.77746</td><td>473.85696</td><td>4892.027</td><td>12.756021</td><td>6.936638</td><td>2.020864</td><td>0.49125934</td><td>0.14375141</td><td>0.00050813117</td><td>1.0457938e-05</td><td>0.89016664</td><td>0.92461956</td><td>0.95710886</td><td>0.99336135</td><td>0.99591774</td><td>0.999128</td><td>0.9996706</td><td>360.6394</td><td>413.78455</td><td>171.10043</td><td>36.441723</td><td>15.460595</td><td>10.681572</td><td>15.820196</td><td>25960</td><td>7.314353633430732e-07</td><td>0</td><td>13375.610664770007</td><td>4914.2960079813165 .. 57.00559366921923</td><td>7927</td><td>GALAXY</td><td>--</td><td>10</td><td>40789.55246885121</td><td>0</td><td>215.60146683012857</td><td>-0.3979060696774879</td><td>0.0</td><td>0.0</td><td>2015.5</td><td>1152921504606846976</td><td>1</td><td>TGT</td><td>0.9980044332518634</td><td>516</td><td>9010</td><td>2156m005</td><td>328350</td><td>2824</td><td>SER</td><td>0.03930359</td><td>115.85551</td><td>136.93002</td><td>120.3601</td><td>51.992836</td><td>40.77746</td><td>12.756021</td><td>6.936638</td><td>2.020864</td><td>0.49125934</td><td>0.14375141</td><td>2.5899878</td><td>3.0611155</td><td>2.6906896</td><td>4.313865</td><td>5.713008</td><td>6.456159</td><td>4096</td><td>1.1080276</td><td>9.6416</td><td>-0.24444343</td><td>-0.44423124</td><td>0</td><td>--</td><td>0.0</td><td>0.0</td><td>0.0</td><td>0.0</td><td>S</td><td>102100</td><td>9</td><td>0</td><td>0</td><td>0</td><td>0</td><td>0</td><td>0</td><td>0</td><td>0</td><td>0</td><td>0</td><td>0</td><td>0</td><td>0</td><td>1152921504606846976</td><td>131074</td><td>0</td><td>0</td><td>215.60146683012857</td><td>-0.3979060696774879</td><td>2</td><td>1303.4927</td><td>2</td><td>1</td><td>0.0</td><td>0.003</td><td>0.003</td><td>0.005</td><td>215.60146678472512</td><td>0.043941833</td><td>-0.3979183242706805</td><td>0.058863495</td><td>0.75608957</td><td>49.429516</td><td>0.03250725</td><td>9.645092</td><td>18.734413</td><td>189.40706</td><td>73.98742</td><td>0.8134088</td><td>0.37466</td><td>3814.9304</td><td>8.408296</td><td>723.1198</td><td>0.018578377</td><td>811.81854</td><td>5072.6885</td><td>2.3997924</td><td>12.177325</td><td>9.03307e-06</td><td>30.2568</td><td>1.7429608e-06</td><td>0.0</td><td>1475.7971</td><td>1.2954358e-05</td><td>6.0426154</td><td>14.672531</td><td>3864.3599</td><td>38.6976</td><td>732.7649</td><td>18.75299</td><td>2477.0227</td><td>5146.676</td><td>9.255816</td><td>27.224516</td><td>1</td><td>True</td><td>1</td><td>True</td></tr>\n",
       "<tr><td>...</td><td>...</td><td>...</td><td>...</td><td>...</td><td>...</td><td>...</td><td>...</td><td>...</td><td>...</td><td>...</td><td>...</td><td>...</td><td>...</td><td>...</td><td>...</td><td>...</td><td>...</td><td>...</td><td>...</td><td>...</td><td>...</td><td>...</td><td>...</td><td>...</td><td>...</td><td>...</td><td>...</td><td>...</td><td>...</td><td>...</td><td>...</td><td>...</td><td>...</td><td>...</td><td>...</td><td>...</td><td>...</td><td>...</td><td>...</td><td>...</td><td>...</td><td>...</td><td>...</td><td>...</td><td>...</td><td>...</td><td>...</td><td>...</td><td>...</td><td>...</td><td>...</td><td>...</td><td>...</td><td>...</td><td>...</td><td>...</td><td>...</td><td>...</td><td>...</td><td>...</td><td>...</td><td>...</td><td>...</td><td>...</td><td>...</td><td>...</td><td>...</td><td>...</td><td>...</td><td>...</td><td>...</td><td>...</td><td>...</td><td>...</td><td>...</td><td>...</td><td>...</td><td>...</td><td>...</td><td>...</td><td>...</td><td>...</td><td>...</td><td>...</td><td>...</td><td>...</td><td>...</td><td>...</td><td>...</td><td>...</td><td>...</td><td>...</td><td>...</td><td>...</td><td>...</td><td>...</td><td>...</td><td>...</td><td>...</td><td>...</td><td>...</td><td>...</td><td>...</td><td>...</td><td>...</td><td>...</td><td>...</td><td>...</td><td>...</td><td>...</td><td>...</td><td>...</td><td>...</td><td>...</td><td>...</td><td>...</td><td>...</td><td>...</td><td>...</td><td>...</td><td>...</td><td>...</td><td>...</td><td>...</td><td>...</td><td>...</td><td>...</td><td>...</td><td>...</td><td>...</td><td>...</td><td>...</td><td>...</td><td>...</td><td>...</td><td>...</td><td>...</td><td>...</td><td>...</td><td>...</td><td>...</td><td>...</td><td>...</td><td>...</td><td>...</td><td>...</td><td>...</td><td>...</td><td>...</td><td>...</td><td>...</td><td>...</td><td>...</td><td>...</td><td>...</td><td>...</td><td>...</td><td>...</td><td>...</td><td>...</td><td>...</td><td>...</td><td>...</td><td>...</td><td>...</td><td>...</td><td>...</td><td>...</td><td>...</td><td>...</td><td>...</td><td>...</td><td>...</td><td>...</td><td>...</td><td>...</td><td>...</td><td>...</td><td>...</td><td>...</td><td>...</td><td>...</td><td>...</td><td>...</td><td>...</td><td>...</td><td>...</td><td>...</td><td>...</td><td>...</td><td>...</td><td>...</td><td>...</td></tr>\n",
       "<tr><td>39633334921334915</td><td>sv1</td><td>dark</td><td>7022</td><td>GALAXY</td><td>106.01596299157303</td><td>55.916564947990636</td><td>9011</td><td>0.025936999263633173</td><td>7.499901406212207</td><td>6.391139026296371</td><td>0.23624560713513285</td><td>-1.4495957770628403</td><td>0.05868208215549446</td><td>5.556781078942727e+30</td><td>0.3562399739799395</td><td>44.00690919614102</td><td>3.152397406871794e+19</td><td>3.499826374888208e+19</td><td>3.504368486603281e+19</td><td>2.710743602902911e+19</td><td>3.037105523563368e+19</td><td>-0.042703401379680185</td><td>-0.3749330305040016</td><td>0.0011879549620950796</td><td>-0.04157443826411506</td><td>0.0016683701572761324</td><td>2.1043842044396864e+18</td><td>1.7499131874441042e+18</td><td>1.7521842433016407e+18</td><td>1.3553718014514555e+18</td><td>1.5185527617816842e+18</td><td>0.08457289131877105</td><td>0.07539458533583027</td><td>0.06458646445004226</td><td>0.05700171169456967</td><td>0.011709913920818724</td><td>inf</td><td>-0.7540605502886326</td><td>3</td><td>2</td><td>6.723</td><td>6.4203777</td><td>4.6604233</td><td>1.877799</td><td>3.5865777</td><td>-82.56295</td><td>-2210.8513</td><td>208.48567</td><td>94.3194</td><td>33.599476</td><td>2.9168615</td><td>0.77870023</td><td>0.0010364288</td><td>1.4503971e-05</td><td>0.86766404</td><td>0.9088091</td><td>0.9479197</td><td>0.99190634</td><td>0.99502164</td><td>0.9989362</td><td>0.99959815</td><td>62.35354</td><td>97.073616</td><td>27.01417</td><td>3.2070594</td><td>3.1649392</td><td>-2.658</td><td>-8.419824</td><td>7022</td><td>3.738410151841082e-07</td><td>0</td><td>72201.38772773743</td><td>1651.6387192055824 .. 0.12366441408257907</td><td>7929</td><td>GALAXY</td><td>--</td><td>10</td><td>202008.21523857117</td><td>0</td><td>106.01596299157303</td><td>55.916564947990636</td><td>0.0</td><td>0.0</td><td>2020.9487</td><td>1152921505412154114</td><td>1</td><td>TGT</td><td>0.8450762115627747</td><td>7</td><td>9011</td><td>--</td><td>605061</td><td>4227</td><td>SER</td><td>0.047953025</td><td>6.723</td><td>6.4203777</td><td>4.6604233</td><td>1.877799</td><td>3.5865777</td><td>208.48567</td><td>94.3194</td><td>33.599476</td><td>2.9168615</td><td>0.77870023</td><td>2.0515602</td><td>1.9592134</td><td>1.4221537</td><td>3.6920252</td><td>4.032368</td><td>3.7599435</td><td>0</td><td>0.5</td><td>1.6548345</td><td>-0.8060513</td><td>0.18122454</td><td>0</td><td>--</td><td>0.0</td><td>0.0</td><td>0.0</td><td>0.0</td><td>N</td><td>3000</td><td>1</td><td>0</td><td>0</td><td>0</td><td>0</td><td>0</td><td>1152921505412154114</td><td>1028</td><td>0</td><td>0</td><td>0</td><td>0</td><td>0</td><td>0</td><td>0</td><td>0</td><td>0</td><td>0</td><td>106.01596299157303</td><td>55.916564947990636</td><td>23</td><td>20700.0</td><td>8</td><td>1</td><td>-4.347826e-05</td><td>0.008893085</td><td>-0.0009565217</td><td>0.007558468</td><td>106.01596329708454</td><td>0.417489</td><td>55.91656530393907</td><td>0.1110414</td><td>0.75121534</td><td>4293.143</td><td>2.1765056</td><td>769.7084</td><td>1783.3103</td><td>11099.282</td><td>5072.6084</td><td>58.785732</td><td>21.360039</td><td>122558.016</td><td>338.23187</td><td>22073.578</td><td>0.33139223</td><td>22066.104</td><td>148968.03</td><td>89.10426</td><td>443.1464</td><td>0.00046597875</td><td>1633.0758</td><td>8.387091e-05</td><td>0.0</td><td>66001.0</td><td>0.0005623918</td><td>336.07623</td><td>733.3696</td><td>126851.16</td><td>1973.4841</td><td>22843.287</td><td>1783.6417</td><td>99166.39</td><td>154040.64</td><td>483.96625</td><td>1197.8761</td><td>1</td><td>True</td><td>1</td><td>True</td></tr>\n",
       "<tr><td>39633368484151805</td><td>sv2</td><td>bright</td><td>11191</td><td>GALAXY</td><td>184.3493841740721</td><td>58.40980303320048</td><td>9011</td><td>0.010135017227073096</td><td>3.7606476942809794</td><td>6.499992526952924</td><td>0.19594863590858572</td><td>-1.3475391367430494</td><td>0.08435833799743682</td><td>4.199475714740826e+23</td><td>0.35857142546618265</td><td>44.05819995899871</td><td>4.135258253630237e+19</td><td>4.672815319093735e+19</td><td>4.669965244459085e+19</td><td>3.650397371765519e+19</td><td>4.069630607429278e+19</td><td>-0.01033159565392703</td><td>-0.3742043962839994</td><td>0.025689539263486015</td><td>-0.04398009696535353</td><td>-0.0004168048517421759</td><td>3.7875097692799555e+18</td><td>2.336407659546867e+18</td><td>2.3349826222295424e+18</td><td>1.8251986858827597e+18</td><td>2.034815303714639e+18</td><td>0.11751744252859855</td><td>0.07009546471431978</td><td>0.0890589377372084</td><td>0.0489419209951128</td><td>0.008494451635826837</td><td>inf</td><td>-0.8364662691465752</td><td>3</td><td>2</td><td>58.861526</td><td>61.64291</td><td>58.140102</td><td>18.534336</td><td>12.238255</td><td>29.902723</td><td>-1121.4738</td><td>48.19502</td><td>14.43834</td><td>8.68184</td><td>2.3735888</td><td>0.7063743</td><td>0.0010653645</td><td>1.5488524e-05</td><td>0.9556661</td><td>0.9699156</td><td>0.98305905</td><td>0.9974073</td><td>0.99840695</td><td>0.99966</td><td>0.9998716</td><td>234.2296</td><td>408.6322</td><td>171.3096</td><td>28.554844</td><td>10.285773</td><td>0.97602254</td><td>-4.413612</td><td>11191</td><td>6.295291928883133e-07</td><td>0</td><td>19262.200794816017</td><td>8622.38635961598 .. 280.8667381253108</td><td>7926</td><td>GALAXY</td><td>--</td><td>10</td><td>58084.35685098171</td><td>0</td><td>184.3493841740721</td><td>58.40980303320048</td><td>0.0</td><td>0.0</td><td>2015.5</td><td>1152921504606846976</td><td>1</td><td>TGT</td><td>0.46921561613848684</td><td>516</td><td>9011</td><td>1845p585</td><td>613063</td><td>509</td><td>SER</td><td>0.015318759</td><td>58.861526</td><td>61.64291</td><td>58.140102</td><td>18.534336</td><td>12.238255</td><td>48.19502</td><td>14.43834</td><td>8.68184</td><td>2.3735888</td><td>0.7063743</td><td>6.564096</td><td>6.874269</td><td>6.4836445</td><td>6.7141604</td><td>7.087298</td><td>6.684464</td><td>0</td><td>1.3344386</td><td>2.9220753</td><td>-0.21227194</td><td>-0.17898528</td><td>1575097720149029504</td><td>G2</td><td>20.701317</td><td>0.0</td><td>0.0</td><td>0.0</td><td>N</td><td>2100</td><td>1</td><td>0</td><td>0</td><td>0</td><td>0</td><td>0</td><td>0</td><td>0</td><td>0</td><td>0</td><td>1152921504606846976</td><td>514</td><td>0</td><td>0</td><td>0</td><td>0</td><td>0</td><td>0</td><td>184.3493841740721</td><td>58.40980303320048</td><td>2</td><td>2341.2634</td><td>1</td><td>1</td><td>0.0015</td><td>0.0047434163</td><td>0.009</td><td>0.01029563</td><td>184.34939515105432</td><td>0.23437293</td><td>58.40977011421427</td><td>0.067010924</td><td>0.714155</td><td>9.118599</td><td>0.005480006</td><td>1.8772581</td><td>3.8156257</td><td>33.472404</td><td>16.641</td><td>0.14336076</td><td>0.05967348</td><td>397.27554</td><td>0.85459685</td><td>81.85157</td><td>0.002292137</td><td>94.91018</td><td>727.89087</td><td>0.25966206</td><td>1.240276</td><td>1.0309801e-06</td><td>4.348738</td><td>2.1274413e-07</td><td>0.0</td><td>195.69437</td><td>1.904243e-06</td><td>0.85350823</td><td>1.9137185</td><td>406.39413</td><td>5.208815</td><td>83.72883</td><td>3.8179178</td><td>324.07697</td><td>744.53186</td><td>1.256531</td><td>3.2136679</td><td>1</td><td>True</td><td>1</td><td>True</td></tr>\n",
       "<tr><td>39633405565996758</td><td>sv3</td><td>bright</td><td>10204</td><td>GALAXY</td><td>267.5940033897175</td><td>61.56414044526832</td><td>9011</td><td>0.019894759468445076</td><td>8.610410169320211</td><td>6.387329808069711</td><td>0.16705381738307892</td><td>-1.3315576956936295</td><td>0.03423386353432253</td><td>2.085156406276719e+32</td><td>0.005579169676617884</td><td>39.59995032047107</td><td>3.5076950769535853e+19</td><td>3.9615982044128305e+19</td><td>4.053552983594781e+19</td><td>3.1647093916283253e+19</td><td>3.588730907632806e+19</td><td>0.030082099617189113</td><td>-0.30008752957207924</td><td>0.026269471172591315</td><td>0.019296365085164833</td><td>0.025067193053293527</td><td>1.7538475384767928e+18</td><td>1.9807991022064154e+18</td><td>2.0267764917973906e+18</td><td>1.5823546958141627e+18</td><td>1.794365453816403e+18</td><td>0.05035527876042312</td><td>0.052669336422299706</td><td>0.03730621268648395</td><td>0.04045355585827685</td><td>0.008672167256557345</td><td>inf</td><td>-0.8399979962358101</td><td>3</td><td>4</td><td>13.283515</td><td>15.782682</td><td>8.967254</td><td>7.731453</td><td>3.8685806</td><td>74.66606</td><td>1486.8333</td><td>49.858116</td><td>15.341221</td><td>3.7449107</td><td>3.3017995</td><td>1.5470619</td><td>0.004141559</td><td>5.8738064e-05</td><td>0.89548814</td><td>0.92833936</td><td>0.95926076</td><td>0.9937004</td><td>0.9961265</td><td>0.9991726</td><td>0.9996875</td><td>61.81741</td><td>93.79527</td><td>17.353226</td><td>14.048711</td><td>4.811777</td><td>4.80513</td><td>11.395204</td><td>10204</td><td>3.219247540945646e-06</td><td>0</td><td>8915.525967873633</td><td>615.5026701571775 .. -14.727570849588036</td><td>7929</td><td>GALAXY</td><td>--</td><td>10</td><td>3756.759011231363</td><td>0</td><td>267.5940033897175</td><td>61.56414044526832</td><td>0.0</td><td>0.0</td><td>2015.5</td><td>1152921504606846976</td><td>1</td><td>TGT</td><td>0.7670040023604651</td><td>516</td><td>9011</td><td>2673p615</td><td>621904</td><td>3798</td><td>EXP</td><td>0.037290107</td><td>13.283515</td><td>15.782682</td><td>8.967254</td><td>7.731453</td><td>3.8685806</td><td>49.858116</td><td>15.341221</td><td>3.7449107</td><td>3.3017995</td><td>1.5470619</td><td>1.0548806</td><td>1.2533464</td><td>0.7121144</td><td>1.498808</td><td>2.0140586</td><td>1.5654554</td><td>4096</td><td>1.0</td><td>3.5632</td><td>0.045902677</td><td>-0.34254962</td><td>0</td><td>--</td><td>0.0</td><td>0.0</td><td>0.0</td><td>0.0</td><td>N</td><td>102100</td><td>9</td><td>0</td><td>0</td><td>0</td><td>0</td><td>0</td><td>0</td><td>0</td><td>0</td><td>0</td><td>0</td><td>0</td><td>0</td><td>0</td><td>1152921504606846976</td><td>514</td><td>0</td><td>0</td><td>267.5940033897175</td><td>61.56414044526832</td><td>3</td><td>1250.0593</td><td>1</td><td>1</td><td>0.004</td><td>0.007788881</td><td>-0.0056666667</td><td>0.007047458</td><td>267.5940324731056</td><td>0.4227518</td><td>61.56416203726732</td><td>0.05822601</td><td>0.7178731</td><td>71.49255</td><td>0.023682592</td><td>14.338359</td><td>11.827893</td><td>152.26378</td><td>118.03064</td><td>0.61206037</td><td>0.3077837</td><td>4367.203</td><td>9.690515</td><td>843.5249</td><td>0.01451761</td><td>961.0991</td><td>6168.8276</td><td>2.9005795</td><td>13.941975</td><td>8.515985e-06</td><td>35.934753</td><td>1.6847407e-06</td><td>0.0</td><td>1756.0289</td><td>1.326962e-05</td><td>7.4423075</td><td>16.968817</td><td>4438.696</td><td>45.64895</td><td>857.8633</td><td>11.842411</td><td>2869.3918</td><td>6286.8584</td><td>10.954947</td><td>31.218575</td><td>1</td><td>True</td><td>1</td><td>True</td></tr>\n",
       "<tr><td>39633416966115551</td><td>sv3</td><td>bright</td><td>10205</td><td>GALAXY</td><td>269.97809141835535</td><td>62.47061322038715</td><td>9011</td><td>0.020453476092835862</td><td>7.616768144767519</td><td>6.35317380613544</td><td>0.11135259252430758</td><td>-1.3449189351983253</td><td>0.052261019540756744</td><td>4.23941685293926e+22</td><td>0.35857142815162785</td><td>44.05819999507344</td><td>3.970473843038828e+19</td><td>4.367791146955874e+19</td><td>4.350723441496548e+19</td><td>3.311652672093432e+19</td><td>3.697167789500153e+19</td><td>-0.06232633448014566</td><td>-0.415027378977367</td><td>-0.015052762682924296</td><td>-0.07238362389185017</td><td>-0.004197688836486298</td><td>2.1145758906345075e+18</td><td>2.1838955734779372e+18</td><td>2.1753617207482742e+18</td><td>1.655826336046716e+18</td><td>1.8485838947500767e+18</td><td>0.06976510719593132</td><td>0.04364107485599784</td><td>0.05366611414625237</td><td>0.029499256192210492</td><td>0.0035599657173585185</td><td>inf</td><td>-0.8297313282334102</td><td>3</td><td>1</td><td>13.751646</td><td>15.688642</td><td>14.59224</td><td>3.453574</td><td>-0.24469028</td><td>15.44999</td><td>-299.585</td><td>43.25904</td><td>18.022064</td><td>5.991928</td><td>4.630903</td><td>2.3804889</td><td>0.009702636</td><td>0.00013257016</td><td>0.8971601</td><td>0.9295066</td><td>0.9599352</td><td>0.9938065</td><td>0.9961918</td><td>0.9991866</td><td>0.9996928</td><td>66.60205</td><td>90.446785</td><td>35.71949</td><td>7.4319296</td><td>-0.37752855</td><td>1.5218543</td><td>-3.449395</td><td>10205</td><td>8.104378421172843e-06</td><td>0</td><td>7520.372342126444</td><td>419.51573932398725 .. -1.1930496687090564</td><td>7897</td><td>GALAXY</td><td>--</td><td>10</td><td>327.71824954263866</td><td>0</td><td>269.97809141835535</td><td>62.47061322038715</td><td>0.0</td><td>0.0</td><td>2015.5</td><td>1152921504606846976</td><td>1</td><td>TGT</td><td>0.6499886343164123</td><td>516</td><td>9011</td><td>2697p625</td><td>624622</td><td>4319</td><td>SER</td><td>0.036659952</td><td>13.751646</td><td>15.688642</td><td>14.59224</td><td>3.453574</td><td>-0.24469028</td><td>43.25904</td><td>18.022064</td><td>5.991928</td><td>4.630903</td><td>2.3804889</td><td>1.3089937</td><td>1.4933727</td><td>1.3890083</td><td>1.8340951</td><td>2.2398624</td><td>2.2966208</td><td>0</td><td>0.5</td><td>3.1680734</td><td>-0.094898105</td><td>0.4869208</td><td>0</td><td>--</td><td>0.0</td><td>0.0</td><td>0.0</td><td>0.0</td><td>N</td><td>102100</td><td>9</td><td>0</td><td>0</td><td>0</td><td>0</td><td>0</td><td>0</td><td>0</td><td>0</td><td>0</td><td>0</td><td>0</td><td>0</td><td>0</td><td>1152921504606846976</td><td>514</td><td>0</td><td>0</td><td>269.97809141835535</td><td>62.47061322038715</td><td>1</td><td>261.0316</td><td>1</td><td>1</td><td>0.008</td><td>0.008</td><td>-0.01</td><td>0.01</td><td>269.97816324975776</td><td>0.0</td><td>62.47065400802256</td><td>0.0</td><td>0.74867296</td><td>28.162388</td><td>0.022700299</td><td>5.4171295</td><td>20.368856</td><td>120.85154</td><td>42.59714</td><td>0.62097365</td><td>0.2026505</td><td>2406.0356</td><td>5.3104787</td><td>445.59827</td><td>0.012196891</td><td>509.02545</td><td>3136.0476</td><td>1.6305393</td><td>7.55797</td><td>4.583388e-06</td><td>25.44766</td><td>8.6891566e-07</td><td>0.0</td><td>1076.4331</td><td>6.5518498e-06</td><td>5.2318196</td><td>11.251905</td><td>2434.198</td><td>30.78084</td><td>451.01538</td><td>20.381054</td><td>1706.31</td><td>3178.6448</td><td>7.4833326</td><td>19.012526</td><td>1</td><td>True</td><td>1</td><td>True</td></tr>\n",
       "<tr><td>39633443780300623</td><td>sv3</td><td>bright</td><td>10237</td><td>GALAXY</td><td>269.3266508197693</td><td>64.93768936372227</td><td>9011</td><td>0.02551333552353647</td><td>16.927354738141258</td><td>6.411181627299976</td><td>0.06101067963071896</td><td>-1.2356860450550615</td><td>0.02</td><td>3.062518886614476e+35</td><td>0.7001102976153217</td><td>26.181633167119795</td><td>2.168689833393087e+19</td><td>2.8144720566738137e+19</td><td>3.2377119255508074e+19</td><td>2.8415543605777256e+19</td><td>3.432631305749217e+19</td><td>0.49544783967761025</td><td>0.18751959708608693</td><td>0.24032865031784206</td><td>0.40934159312530277</td><td>0.1521328449282113</td><td>1.0843449166965435e+18</td><td>1.407236028336907e+18</td><td>1.6188559627754038e+18</td><td>1.420777180288863e+18</td><td>1.7163156528746086e+18</td><td>0.018144923717885085</td><td>0.025182028768184168</td><td>0.009889456136556245</td><td>0.018441235789690605</td><td>0.005003818696974553</td><td>inf</td><td>-0.9256731652380445</td><td>3</td><td>4</td><td>7.1283274</td><td>7.829485</td><td>4.3573923</td><td>133.66594</td><td>94.90039</td><td>870.54</td><td>1567.2701</td><td>241.23885</td><td>119.10782</td><td>67.60281</td><td>1.3536078</td><td>0.7992076</td><td>0.033312414</td><td>0.00039047556</td><td>0.8861096</td><td>0.9217788</td><td>0.95546293</td><td>0.9931016</td><td>0.9957578</td><td>0.9990937</td><td>0.9996577</td><td>85.44828</td><td>110.71622</td><td>35.82688</td><td>155.51317</td><td>84.83945</td><td>158.88824</td><td>30.969969</td><td>10237</td><td>2.7215224910906885e-06</td><td>0</td><td>9078.724357157946</td><td>2283.414798790828 .. 13.612665257191017</td><td>7922</td><td>GALAXY</td><td>--</td><td>10</td><td>5011.591713675061</td><td>0</td><td>269.3266508197693</td><td>64.93768936372227</td><td>0.0</td><td>0.0</td><td>2015.5</td><td>1152921504606846976</td><td>1</td><td>TGT</td><td>0.9830316484538486</td><td>516</td><td>9011</td><td>2691p650</td><td>631015</td><td>3919</td><td>PSF</td><td>0.04084675</td><td>7.1283274</td><td>7.829485</td><td>4.3573923</td><td>133.66594</td><td>94.90039</td><td>241.23885</td><td>119.10782</td><td>67.60281</td><td>1.3536078</td><td>0.7992076</td><td>5.5490875</td><td>6.094908</td><td>3.3920374</td><td>7.472229</td><td>9.743933</td><td>9.06688</td><td>4096</td><td>0.0</td><td>0.0</td><td>0.0</td><td>0.0</td><td>0</td><td>--</td><td>0.0</td><td>0.0</td><td>0.0</td><td>0.0</td><td>N</td><td>102000</td><td>9</td><td>0</td><td>0</td><td>0</td><td>0</td><td>0</td><td>0</td><td>0</td><td>0</td><td>0</td><td>0</td><td>0</td><td>0</td><td>0</td><td>1152921504606846976</td><td>257</td><td>0</td><td>0</td><td>269.3266508197693</td><td>64.93768936372227</td><td>2</td><td>1433.4854</td><td>1</td><td>1</td><td>0.002</td><td>0.002</td><td>0.003</td><td>0.003</td><td>269.3266700705973</td><td>0.0</td><td>64.93767751526946</td><td>0.0</td><td>0.789</td><td>30.445719</td><td>0.016670475</td><td>6.0154204</td><td>12.831164</td><td>97.20521</td><td>51.649067</td><td>0.44689712</td><td>0.16653106</td><td>2585.349</td><td>5.842046</td><td>499.09094</td><td>0.009200185</td><td>557.0565</td><td>3969.0513</td><td>1.767588</td><td>8.319095</td><td>4.5513366e-06</td><td>21.592438</td><td>8.966238e-07</td><td>0.0</td><td>985.2169</td><td>7.630142e-06</td><td>4.4925137</td><td>9.754331</td><td>2615.795</td><td>27.451155</td><td>505.10635</td><td>12.840364</td><td>1639.4786</td><td>4020.7004</td><td>6.706999</td><td>18.239956</td><td>1</td><td>True</td><td>1</td><td>True</td></tr>\n",
       "<tr><td>39633468207926730</td><td>sv3</td><td>bright</td><td>16043</td><td>GALAXY</td><td>270.2764778957322</td><td>67.42506078040186</td><td>9011</td><td>0.012195995976176231</td><td>4.977658394569917</td><td>6.302090369446474</td><td>0.2130175990881113</td><td>-1.4391489593616156</td><td>0.020160047684725985</td><td>3.736720284949978e+34</td><td>0.10000028441293596</td><td>79.91997193228734</td><td>9.850209436614232e+18</td><td>1.2646006946905453e+19</td><td>1.5598731516489384e+19</td><td>1.7372721444371247e+19</td><td>2.1476217485132042e+19</td><td>0.7578430094236615</td><td>1.4380371981610398</td><td>0.33874097077306015</td><td>0.8944329721365556</td><td>0.22793436989319696</td><td>5.803354102120252e+17</td><td>9.14116421101798e+17</td><td>1.1043080855211968e+18</td><td>8.686360722185624e+17</td><td>1.0738108742566021e+18</td><td>0.0355700670113007</td><td>0.12224031931914221</td><td>0.0177981291381697</td><td>0.0722152944971552</td><td>0.008728364257885231</td><td>inf</td><td>-0.7549338127348506</td><td>3</td><td>4</td><td>11.895352</td><td>17.235504</td><td>12.798023</td><td>108.95973</td><td>82.55242</td><td>545.1285</td><td>1350.6703</td><td>203.97781</td><td>89.3739</td><td>100.3634</td><td>0.8561344</td><td>0.514783</td><td>0.063313656</td><td>0.0007443444</td><td>0.853433</td><td>0.89874125</td><td>0.94203144</td><td>0.9909677</td><td>0.99444324</td><td>0.9988123</td><td>0.99955136</td><td>162.94061</td><td>169.89037</td><td>128.21257</td><td>100.81775</td><td>59.230026</td><td>137.16635</td><td>36.8499</td><td>16043</td><td>1.3765525178931438e-06</td><td>0</td><td>10234.578271359205</td><td>3851.271255394625 .. -55.91854297903837</td><td>7884</td><td>GALAXY</td><td>--</td><td>10</td><td>18550.738676577806</td><td>0</td><td>270.2764778957322</td><td>67.42506078040186</td><td>0.0</td><td>0.0</td><td>2015.5</td><td>1152921504606846976</td><td>1</td><td>TGT</td><td>0.8614543792939723</td><td>516</td><td>9011</td><td>2700p675</td><td>636839</td><td>3530</td><td>PSF</td><td>0.05353964</td><td>11.895352</td><td>17.235504</td><td>12.798023</td><td>108.95973</td><td>82.55242</td><td>203.97781</td><td>89.3739</td><td>100.3634</td><td>0.8561344</td><td>0.514783</td><td>9.266131</td><td>13.425954</td><td>9.969286</td><td>13.815107</td><td>21.404243</td><td>21.718834</td><td>4096</td><td>0.0</td><td>0.0</td><td>0.0</td><td>0.0</td><td>0</td><td>--</td><td>0.0</td><td>0.0</td><td>0.0</td><td>0.0</td><td>N</td><td>102100</td><td>9</td><td>0</td><td>0</td><td>0</td><td>0</td><td>0</td><td>0</td><td>0</td><td>0</td><td>0</td><td>0</td><td>0</td><td>0</td><td>0</td><td>1152921504606846976</td><td>514</td><td>0</td><td>0</td><td>270.2764778957322</td><td>67.42506078040186</td><td>1</td><td>543.9329</td><td>1</td><td>1</td><td>-0.01</td><td>0.01</td><td>0.006</td><td>0.006</td><td>270.2763742549324</td><td>0.0</td><td>67.4250391455938</td><td>0.0</td><td>0.789</td><td>24.625942</td><td>0.016720366</td><td>4.8659434</td><td>9.723346</td><td>98.37997</td><td>38.00343</td><td>0.43541867</td><td>0.19321543</td><td>1733.6888</td><td>4.1810102</td><td>333.8092</td><td>0.007843278</td><td>366.66254</td><td>2405.4907</td><td>1.186794</td><td>5.846323</td><td>4.457076e-06</td><td>22.33181</td><td>8.6619906e-07</td><td>0.0</td><td>948.09607</td><td>6.43152e-06</td><td>4.422239</td><td>9.846799</td><td>1758.3148</td><td>26.529541</td><td>338.67514</td><td>9.731189</td><td>1413.1385</td><td>2443.4941</td><td>6.0444517</td><td>15.886337</td><td>1</td><td>True</td><td>1</td><td>True</td></tr>\n",
       "</table></div>"
      ],
      "text/plain": [
       "<Table length=29>\n",
       "     TARGETID     SURVEY PROGRAM HEALPIX ... SV_PRIMARY ZCAT_NSPEC ZCAT_PRIMARY\n",
       "                                         ...                                   \n",
       "      int64       bytes7  bytes7  int32  ...    bool      int64        bool    \n",
       "----------------- ------ ------- ------- ... ---------- ---------- ------------\n",
       "39627598493384904    sv1  bright   17672 ...       True          1         True\n",
       "39627634476323251    sv1  bright   17697 ...       True          1         True\n",
       "39627635067720552    sv1  bright   22734 ...       True          1         True\n",
       "39627677195306502    sv1  bright   22768 ...       True          1         True\n",
       "39627763644109298    sv3  bright   26273 ...       True          1         True\n",
       "39627776264768264    sv3  bright   25960 ...       True          1         True\n",
       "              ...    ...     ...     ... ...        ...        ...          ...\n",
       "39633334921334915    sv1    dark    7022 ...       True          1         True\n",
       "39633368484151805    sv2  bright   11191 ...       True          1         True\n",
       "39633405565996758    sv3  bright   10204 ...       True          1         True\n",
       "39633416966115551    sv3  bright   10205 ...       True          1         True\n",
       "39633443780300623    sv3  bright   10237 ...       True          1         True\n",
       "39633468207926730    sv3  bright   16043 ...       True          1         True"
      ]
     },
     "execution_count": 11,
     "metadata": {},
     "output_type": "execute_result"
    }
   ],
   "source": [
    "from my_functions import cutting\n",
    "my_dict={'LOGM': [6,6.5], 'LOGSFR': [-1.5,0]}\n",
    "my_data='FujiBGSPhysProp_v1.1'\n",
    "cutting(my_data, my_dict)"
   ]
  },
  {
   "cell_type": "code",
   "execution_count": 2,
   "id": "cd9f70f7",
   "metadata": {},
   "outputs": [
    {
     "name": "stderr",
     "output_type": "stream",
     "text": [
      "WARNING: UnitsWarning: 'log(solMass)' did not parse as fits unit: 'log' is not a recognized function If this is meant to be a custom unit, define it with 'u.def_unit'. To have it recognized inside a file reader or other code, enable it with 'u.add_enabled_units'. For details, see https://docs.astropy.org/en/latest/units/combining_and_defining.html [astropy.units.core]\n",
      "WARNING: UnitsWarning: 'log(solMass/yr)' did not parse as fits unit: 'log' is not a recognized function If this is meant to be a custom unit, define it with 'u.def_unit'. To have it recognized inside a file reader or other code, enable it with 'u.add_enabled_units'. For details, see https://docs.astropy.org/en/latest/units/combining_and_defining.html [astropy.units.core]\n",
      "WARNING: UnitsWarning: 'nanomaggy' did not parse as fits unit: At col 0, Unit 'nanomaggy' not supported by the FITS standard.  If this is meant to be a custom unit, define it with 'u.def_unit'. To have it recognized inside a file reader or other code, enable it with 'u.add_enabled_units'. For details, see https://docs.astropy.org/en/latest/units/combining_and_defining.html [astropy.units.core]\n",
      "WARNING: UnitsWarning: 'nanomaggy^-2' did not parse as fits unit: At col 0, Unit 'nanomaggy' not supported by the FITS standard.  If this is meant to be a custom unit, define it with 'u.def_unit'. To have it recognized inside a file reader or other code, enable it with 'u.add_enabled_units'. For details, see https://docs.astropy.org/en/latest/units/combining_and_defining.html [astropy.units.core]\n"
     ]
    },
    {
     "name": "stdout",
     "output_type": "stream",
     "text": [
      "- load full table\n",
      "- Thumbstack: act_test1\n",
      "Evaluate all filters on all objects\n",
      "took 0.2588531335194906 min\n",
      "- compute all stacked profiles and their cov\n",
      "Computing all stacked profiles (and cov) took 0.8072460333506266 min\n",
      "- load stacked profiles and their cov\n",
      "- plot all stacked profiles\n",
      "- plot all covariances\n",
      "- compute all SNR and significances\n",
      "- compute SNR and significances for diskring tsz_uniformweight \n"
     ]
    },
    {
     "data": {
      "text/plain": [
       "<Figure size 640x480 with 0 Axes>"
      ]
     },
     "metadata": {},
     "output_type": "display_data"
    },
    {
     "data": {
      "text/plain": [
       "<Figure size 640x480 with 0 Axes>"
      ]
     },
     "metadata": {},
     "output_type": "display_data"
    }
   ],
   "source": [
    "#import sys\n",
    "#sys.path.append('../src/')\n",
    "\n",
    "from importlib import reload\n",
    "#import universe\n",
    "#reload(universe)\n",
    "#from universe import *\n",
    "\n",
    "import mass_conversion\n",
    "reload(mass_conversion)\n",
    "from mass_conversion import *\n",
    "\n",
    "#import catalog\n",
    "#reload(catalog)\n",
    "#from catalog import *\n",
    "\n",
    "import thumbstack\n",
    "#reload(thumbstack)\n",
    "from thumbstack import *\n",
    "\n",
    "#catalog = item\n",
    "#u = UnivMariana()\n",
    "filterType = 'diskring'\n",
    "nProc=64\n",
    "save=True\n",
    "\n",
    "ts = ThumbStack(cutting(my_data, my_dict), \n",
    "                imap, \n",
    "                new_map, \n",
    "                #cmap.hit(), \n",
    "                name='act_test1',\n",
    "                nameLong=None, \n",
    "                save=save, \n",
    "                nProc=nProc,\n",
    "                filterTypes=filterType,\n",
    "                #doMBins=False, \n",
    "                doBootstrap=True,\n",
    "                # doStackedMap=True,\n",
    "                #doVShuffle=False, \n",
    "                #cmbNu=cmap.nu, \n",
    "                #cmbUnitLatex=cmap.unitLatex,\n",
    "                rApMinArcmin=1.,\n",
    "                pathOut='../') #pathOut goes to my ThumbStack directory"
   ]
  }
 ],
 "metadata": {
  "kernelspec": {
   "display_name": "Python 3 (ipykernel)",
   "language": "python",
   "name": "python3"
  },
  "language_info": {
   "codemirror_mode": {
    "name": "ipython",
    "version": 3
   },
   "file_extension": ".py",
   "mimetype": "text/x-python",
   "name": "python",
   "nbconvert_exporter": "python",
   "pygments_lexer": "ipython3",
   "version": "3.8.16"
  }
 },
 "nbformat": 4,
 "nbformat_minor": 5
}
