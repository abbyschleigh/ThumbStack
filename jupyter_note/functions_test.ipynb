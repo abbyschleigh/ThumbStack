{
 "cells": [
  {
   "cell_type": "code",
   "execution_count": 2,
   "id": "981dd20f",
   "metadata": {},
   "outputs": [],
   "source": [
    "# local import\n",
    "from my_functions import cutting, massage, mapping, masking\n",
    "import my_functions"
   ]
  },
  {
   "cell_type": "code",
   "execution_count": 7,
   "id": "0a7c76f9",
   "metadata": {},
   "outputs": [
    {
     "name": "stderr",
     "output_type": "stream",
     "text": [
      "WARNING: UnitsWarning: 'log(solMass)' did not parse as fits unit: 'log' is not a recognized function If this is meant to be a custom unit, define it with 'u.def_unit'. To have it recognized inside a file reader or other code, enable it with 'u.add_enabled_units'. For details, see https://docs.astropy.org/en/latest/units/combining_and_defining.html [astropy.units.core]\n",
      "WARNING: UnitsWarning: 'log(solMass/yr)' did not parse as fits unit: 'log' is not a recognized function If this is meant to be a custom unit, define it with 'u.def_unit'. To have it recognized inside a file reader or other code, enable it with 'u.add_enabled_units'. For details, see https://docs.astropy.org/en/latest/units/combining_and_defining.html [astropy.units.core]\n",
      "WARNING: UnitsWarning: 'nanomaggy' did not parse as fits unit: At col 0, Unit 'nanomaggy' not supported by the FITS standard.  If this is meant to be a custom unit, define it with 'u.def_unit'. To have it recognized inside a file reader or other code, enable it with 'u.add_enabled_units'. For details, see https://docs.astropy.org/en/latest/units/combining_and_defining.html [astropy.units.core]\n",
      "WARNING: UnitsWarning: 'nanomaggy^-2' did not parse as fits unit: At col 0, Unit 'nanomaggy' not supported by the FITS standard.  If this is meant to be a custom unit, define it with 'u.def_unit'. To have it recognized inside a file reader or other code, enable it with 'u.add_enabled_units'. For details, see https://docs.astropy.org/en/latest/units/combining_and_defining.html [astropy.units.core]\n"
     ]
    },
    {
     "name": "stdout",
     "output_type": "stream",
     "text": [
      "Min:  -9.9658977026794\n",
      "Max:  -0.0008482402851721889\n"
     ]
    }
   ],
   "source": [
    "# test cutting\n",
    "my_dict={'LOGM': [6,9], 'LOGSFR': [-10,0]}\n",
    "my_data='FujiBGSPhysProp_v1.1'\n",
    "#cutting(my_data, my_dict)\n",
    "\n",
    "# check that it worked (you can change the key to whatever param)\n",
    "print('Min: ', cutting(my_data, my_dict)['LOGSFR'].min())\n",
    "print('Max: ', cutting(my_data, my_dict)['LOGSFR'].max())"
   ]
  },
  {
   "cell_type": "code",
   "execution_count": 4,
   "id": "10baa783",
   "metadata": {},
   "outputs": [
    {
     "name": "stderr",
     "output_type": "stream",
     "text": [
      "WARNING: UnitsWarning: 'log(solMass)' did not parse as fits unit: 'log' is not a recognized function If this is meant to be a custom unit, define it with 'u.def_unit'. To have it recognized inside a file reader or other code, enable it with 'u.add_enabled_units'. For details, see https://docs.astropy.org/en/latest/units/combining_and_defining.html [astropy.units.core]\n",
      "WARNING: UnitsWarning: 'log(solMass/yr)' did not parse as fits unit: 'log' is not a recognized function If this is meant to be a custom unit, define it with 'u.def_unit'. To have it recognized inside a file reader or other code, enable it with 'u.add_enabled_units'. For details, see https://docs.astropy.org/en/latest/units/combining_and_defining.html [astropy.units.core]\n",
      "WARNING: UnitsWarning: 'nanomaggy' did not parse as fits unit: At col 0, Unit 'nanomaggy' not supported by the FITS standard.  If this is meant to be a custom unit, define it with 'u.def_unit'. To have it recognized inside a file reader or other code, enable it with 'u.add_enabled_units'. For details, see https://docs.astropy.org/en/latest/units/combining_and_defining.html [astropy.units.core]\n",
      "WARNING: UnitsWarning: 'nanomaggy^-2' did not parse as fits unit: At col 0, Unit 'nanomaggy' not supported by the FITS standard.  If this is meant to be a custom unit, define it with 'u.def_unit'. To have it recognized inside a file reader or other code, enable it with 'u.add_enabled_units'. For details, see https://docs.astropy.org/en/latest/units/combining_and_defining.html [astropy.units.core]\n"
     ]
    },
    {
     "name": "stdout",
     "output_type": "stream",
     "text": [
      "- read input catalog from this_test.txt\n",
      "- add halo masses\n",
      "- add integrated tau\n",
      "- add integrated kSZ\n",
      "- add integrated y\n",
      "- write full catalog to ../output/catalog/this_test/catalog.txt\n",
      "- load full catalog from ../output/catalog/this_test/catalog.txt\n",
      "- load full catalog from ../output/catalog/this_test/catalog.txt\n"
     ]
    }
   ],
   "source": [
    "# test massage\n",
    "item=massage(cutting(my_data, my_dict), 'this_test')"
   ]
  },
  {
   "cell_type": "code",
   "execution_count": 4,
   "id": "17f65080",
   "metadata": {},
   "outputs": [],
   "source": [
    "# test mapping\n",
    "\n",
    "imap=mapping('act_dr5.01_s08s18_AA_f150_night_map.fits.txt')\n",
    "from pixell import enplot\n",
    "def eshow(x,**kwargs): \n",
    "    ''' Define a function to help us plot the maps neatly '''\n",
    "    plots = enplot.get_plots(x, **kwargs)\n",
    "    enplot.show(plots, method = \"ipython\")\n",
    "    \n",
    "# add \"color\", \"min\", \"max\", \"range\" etc keys here to adjust your plot\n",
    "keys = {\"downgrade\": 8, \"ticks\": 10, \"colorbar\": True}  # def color is planck\n",
    "keys_ex = {\"downgrade\": 8, \"ticks\": 10, \"colorbar\": True, 'color': 'planck', \n",
    "           'min': -200, 'max': 100}  \n",
    "\n",
    "eshow(imap, **keys) "
   ]
  },
  {
   "cell_type": "code",
   "execution_count": 2,
   "id": "c12a6e06",
   "metadata": {},
   "outputs": [],
   "source": [
    "# test masking\n",
    "new_map=masking('act_dr5.01_s08s18_AA_f150_night_map.fits.txt')\n",
    "\n",
    "from pixell import enplot\n",
    "def eshow(x,**kwargs): \n",
    "    ''' Define a function to help us plot the maps neatly '''\n",
    "    plots = enplot.get_plots(x, **kwargs)\n",
    "    enplot.show(plots, method = \"ipython\")\n",
    "    \n",
    "# add \"color\", \"min\", \"max\", \"range\" etc keys here to adjust your plot\n",
    "keys = {\"downgrade\": 8, \"ticks\": 10, \"colorbar\": True}  # def color is planck\n",
    "keys_ex = {\"downgrade\": 8, \"ticks\": 10, \"colorbar\": True, 'color': 'planck', \n",
    "           'min': -200, 'max': 100}  \n",
    "\n",
    "eshow(new_map, **keys)"
   ]
  },
  {
   "cell_type": "code",
   "execution_count": 1,
   "id": "7368db05",
   "metadata": {},
   "outputs": [
    {
     "name": "stderr",
     "output_type": "stream",
     "text": [
      "WARNING: UnitsWarning: 'log(solMass)' did not parse as fits unit: 'log' is not a recognized function If this is meant to be a custom unit, define it with 'u.def_unit'. To have it recognized inside a file reader or other code, enable it with 'u.add_enabled_units'. For details, see https://docs.astropy.org/en/latest/units/combining_and_defining.html [astropy.units.core]\n",
      "WARNING: UnitsWarning: 'log(solMass/yr)' did not parse as fits unit: 'log' is not a recognized function If this is meant to be a custom unit, define it with 'u.def_unit'. To have it recognized inside a file reader or other code, enable it with 'u.add_enabled_units'. For details, see https://docs.astropy.org/en/latest/units/combining_and_defining.html [astropy.units.core]\n",
      "WARNING: UnitsWarning: 'nanomaggy' did not parse as fits unit: At col 0, Unit 'nanomaggy' not supported by the FITS standard.  If this is meant to be a custom unit, define it with 'u.def_unit'. To have it recognized inside a file reader or other code, enable it with 'u.add_enabled_units'. For details, see https://docs.astropy.org/en/latest/units/combining_and_defining.html [astropy.units.core]\n",
      "WARNING: UnitsWarning: 'nanomaggy^-2' did not parse as fits unit: At col 0, Unit 'nanomaggy' not supported by the FITS standard.  If this is meant to be a custom unit, define it with 'u.def_unit'. To have it recognized inside a file reader or other code, enable it with 'u.add_enabled_units'. For details, see https://docs.astropy.org/en/latest/units/combining_and_defining.html [astropy.units.core]\n"
     ]
    },
    {
     "name": "stdout",
     "output_type": "stream",
     "text": [
      "- load full table\n"
     ]
    }
   ],
   "source": [
    "# see if thumbstack works given all the new functions:\n",
    "import sys\n",
    "sys.path.append('../src/')\n",
    "import thumbstack\n",
    "from thumbstack import *\n",
    "\n",
    "# note: import my_functions from src (easier than jumping between directories)\n",
    "from my_functions import cutting, mapping, masking\n",
    "\n",
    "#from my_functions import massage\n",
    "import numpy as np\n",
    "\n",
    "imap=mapping('act_dr5.01_s08s18_AA_f150_night_map.fits.txt')\n",
    "\n",
    "new_map=masking('act_dr5.01_s08s18_AA_f150_night_map.fits.txt')\n",
    "'''\n",
    "cmap = cmbMap('act_dr5.01_s08s18_AA_f150_night_map.fits.txt',\n",
    "              pathMask=new_map,\n",
    "              # pathMask=pathMask,\n",
    "              # \"act_dr5.01_s08s18_AA_f150_daynight_ivar.fits\",\n",
    "              pathHit=None,\n",
    "              name='that_test')\n",
    "'''\n",
    "my_dict={'LOGM': [6,9], 'LOGSFR': [-10,0]}\n",
    "my_data='FujiBGSPhysProp_v1.1'\n",
    "\n",
    "#item=massage(cutting(my_data, my_dict), 'this_test')\n",
    "item=TableReader(cutting(my_data, my_dict))"
   ]
  },
  {
   "cell_type": "code",
   "execution_count": 2,
   "id": "cd9f70f7",
   "metadata": {},
   "outputs": [
    {
     "name": "stdout",
     "output_type": "stream",
     "text": [
      "- Thumbstack: test\n"
     ]
    },
    {
     "ename": "AttributeError",
     "evalue": "'TableReader' object has no attribute 'Mvir'",
     "output_type": "error",
     "traceback": [
      "\u001b[0;31m---------------------------------------------------------------------------\u001b[0m",
      "\u001b[0;31mAttributeError\u001b[0m                            Traceback (most recent call last)",
      "Cell \u001b[0;32mIn[2], line 27\u001b[0m\n\u001b[1;32m     24\u001b[0m nProc\u001b[38;5;241m=\u001b[39m\u001b[38;5;241m64\u001b[39m\n\u001b[1;32m     25\u001b[0m save\u001b[38;5;241m=\u001b[39m\u001b[38;5;28;01mTrue\u001b[39;00m\n\u001b[0;32m---> 27\u001b[0m ts \u001b[38;5;241m=\u001b[39m \u001b[43mThumbStack\u001b[49m\u001b[43m(\u001b[49m\u001b[43mcatalog\u001b[49m\u001b[43m,\u001b[49m\u001b[43m \u001b[49m\n\u001b[1;32m     28\u001b[0m \u001b[43m                \u001b[49m\u001b[43mimap\u001b[49m\u001b[43m,\u001b[49m\u001b[43m \u001b[49m\n\u001b[1;32m     29\u001b[0m \u001b[43m                \u001b[49m\u001b[43mnew_map\u001b[49m\u001b[43m,\u001b[49m\u001b[43m \u001b[49m\n\u001b[1;32m     30\u001b[0m \u001b[43m                \u001b[49m\u001b[38;5;66;43;03m#cmap.hit(), \u001b[39;49;00m\n\u001b[1;32m     31\u001b[0m \u001b[43m                \u001b[49m\u001b[43mcatalog\u001b[49m\u001b[38;5;241;43m.\u001b[39;49m\u001b[43mname\u001b[49m\u001b[43m \u001b[49m\u001b[38;5;241;43m+\u001b[39;49m\u001b[43m \u001b[49m\u001b[38;5;124;43m'\u001b[39;49m\u001b[38;5;124;43m_act_test1\u001b[39;49m\u001b[38;5;124;43m'\u001b[39;49m\u001b[43m,\u001b[49m\n\u001b[1;32m     32\u001b[0m \u001b[43m                \u001b[49m\u001b[43mnameLong\u001b[49m\u001b[38;5;241;43m=\u001b[39;49m\u001b[38;5;28;43;01mNone\u001b[39;49;00m\u001b[43m,\u001b[49m\u001b[43m \u001b[49m\n\u001b[1;32m     33\u001b[0m \u001b[43m                \u001b[49m\u001b[43msave\u001b[49m\u001b[38;5;241;43m=\u001b[39;49m\u001b[43msave\u001b[49m\u001b[43m,\u001b[49m\u001b[43m \u001b[49m\n\u001b[1;32m     34\u001b[0m \u001b[43m                \u001b[49m\u001b[43mnProc\u001b[49m\u001b[38;5;241;43m=\u001b[39;49m\u001b[43mnProc\u001b[49m\u001b[43m,\u001b[49m\n\u001b[1;32m     35\u001b[0m \u001b[43m                \u001b[49m\u001b[43mfilterTypes\u001b[49m\u001b[38;5;241;43m=\u001b[39;49m\u001b[43mfilterType\u001b[49m\u001b[43m,\u001b[49m\n\u001b[1;32m     36\u001b[0m \u001b[43m                \u001b[49m\u001b[43mdoMBins\u001b[49m\u001b[38;5;241;43m=\u001b[39;49m\u001b[38;5;28;43;01mFalse\u001b[39;49;00m\u001b[43m,\u001b[49m\u001b[43m \u001b[49m\n\u001b[1;32m     37\u001b[0m \u001b[43m                \u001b[49m\u001b[43mdoBootstrap\u001b[49m\u001b[38;5;241;43m=\u001b[39;49m\u001b[38;5;28;43;01mTrue\u001b[39;49;00m\u001b[43m,\u001b[49m\n\u001b[1;32m     38\u001b[0m \u001b[43m                \u001b[49m\u001b[38;5;66;43;03m# doStackedMap=True,\u001b[39;49;00m\n\u001b[1;32m     39\u001b[0m \u001b[43m                \u001b[49m\u001b[43mdoVShuffle\u001b[49m\u001b[38;5;241;43m=\u001b[39;49m\u001b[38;5;28;43;01mFalse\u001b[39;49;00m\u001b[43m,\u001b[49m\u001b[43m \u001b[49m\n\u001b[1;32m     40\u001b[0m \u001b[43m                \u001b[49m\u001b[38;5;66;43;03m#cmbNu=cmap.nu, \u001b[39;49;00m\n\u001b[1;32m     41\u001b[0m \u001b[43m                \u001b[49m\u001b[38;5;66;43;03m#cmbUnitLatex=cmap.unitLatex,\u001b[39;49;00m\n\u001b[1;32m     42\u001b[0m \u001b[43m                \u001b[49m\u001b[43mrApMinArcmin\u001b[49m\u001b[38;5;241;43m=\u001b[39;49m\u001b[38;5;241;43m1.\u001b[39;49m\u001b[43m,\u001b[49m\n\u001b[1;32m     43\u001b[0m \u001b[43m                \u001b[49m\u001b[43mpathOut\u001b[49m\u001b[38;5;241;43m=\u001b[39;49m\u001b[38;5;124;43m'\u001b[39;49m\u001b[38;5;124;43m'\u001b[39;49m\u001b[43m)\u001b[49m\n",
      "File \u001b[0;32m~/research/ThumbStack/jupyter_note/../src/thumbstack.py:121\u001b[0m, in \u001b[0;36mThumbStack.__init__\u001b[0;34m(self, Catalog, cmbMap, cmbMask, cmbHit, name, nameLong, save, nProc, filterTypes, doStackedMap, doMBins, doVShuffle, doBootstrap, cmbNu, cmbUnitLatex, pathOut, rApMinArcmin, rApMaxArcmin, rApInnerRad)\u001b[0m\n\u001b[1;32m    118\u001b[0m \u001b[38;5;28mprint\u001b[39m(\u001b[38;5;124m\"\u001b[39m\u001b[38;5;124m- Thumbstack: \u001b[39m\u001b[38;5;124m\"\u001b[39m\u001b[38;5;241m+\u001b[39m\u001b[38;5;28mstr\u001b[39m(\u001b[38;5;28mself\u001b[39m\u001b[38;5;241m.\u001b[39mname))\n\u001b[1;32m    120\u001b[0m \u001b[38;5;28mself\u001b[39m\u001b[38;5;241m.\u001b[39mloadAPRadii()\n\u001b[0;32m--> 121\u001b[0m \u001b[38;5;28;43mself\u001b[39;49m\u001b[38;5;241;43m.\u001b[39;49m\u001b[43mloadMMaxBins\u001b[49m\u001b[43m(\u001b[49m\u001b[43m)\u001b[49m\n\u001b[1;32m    123\u001b[0m \u001b[38;5;28;01mif\u001b[39;00m save:\n\u001b[1;32m    124\u001b[0m     \u001b[38;5;28mself\u001b[39m\u001b[38;5;241m.\u001b[39msaveOverlapFlag(nProc\u001b[38;5;241m=\u001b[39m\u001b[38;5;28mself\u001b[39m\u001b[38;5;241m.\u001b[39mnProc)\n",
      "File \u001b[0;32m~/research/ThumbStack/jupyter_note/../src/thumbstack.py:214\u001b[0m, in \u001b[0;36mThumbStack.loadMMaxBins\u001b[0;34m(self, test)\u001b[0m\n\u001b[1;32m    207\u001b[0m \u001b[38;5;250m        \u001b[39m\u001b[38;5;124;03m'''Choose the mMax values to have the same number of galaxies\u001b[39;00m\n\u001b[1;32m    208\u001b[0m \u001b[38;5;124;03m        added in the sample for each mMax increment.\u001b[39;00m\n\u001b[1;32m    209\u001b[0m \u001b[38;5;124;03m        '''\u001b[39;00m\n\u001b[1;32m    210\u001b[0m \u001b[38;5;66;03m#      self.MMax = np.interp(np.linspace(0, self.Catalog.nObj, self.nMMax+1),\u001b[39;00m\n\u001b[1;32m    211\u001b[0m \u001b[38;5;66;03m#                           np.arange(self.Catalog.nObj),\u001b[39;00m\n\u001b[1;32m    212\u001b[0m \u001b[38;5;66;03m#                           np.sort(self.Catalog.Mvir))[1:]\u001b[39;00m\n\u001b[0;32m--> 214\u001b[0m         \u001b[38;5;28mself\u001b[39m\u001b[38;5;241m.\u001b[39mMMax \u001b[38;5;241m=\u001b[39m np\u001b[38;5;241m.\u001b[39mlogspace(np\u001b[38;5;241m.\u001b[39mlog10(\u001b[38;5;28;43mself\u001b[39;49m\u001b[38;5;241;43m.\u001b[39;49m\u001b[43mCatalog\u001b[49m\u001b[38;5;241;43m.\u001b[39;49m\u001b[43mMvir\u001b[49m\u001b[38;5;241m.\u001b[39mmin(\n\u001b[1;32m    215\u001b[0m         )\u001b[38;5;241m*\u001b[39m\u001b[38;5;241m1.1\u001b[39m), np\u001b[38;5;241m.\u001b[39mlog10(\u001b[38;5;28mself\u001b[39m\u001b[38;5;241m.\u001b[39mCatalog\u001b[38;5;241m.\u001b[39mMvir\u001b[38;5;241m.\u001b[39mmax()), \u001b[38;5;28mself\u001b[39m\u001b[38;5;241m.\u001b[39mnMMax)\n\u001b[1;32m    217\u001b[0m         \u001b[38;5;28;01mif\u001b[39;00m test:\n\u001b[1;32m    218\u001b[0m             \u001b[38;5;28mprint\u001b[39m(\u001b[38;5;124m\"\u001b[39m\u001b[38;5;124mChecking the mMax bins:\u001b[39m\u001b[38;5;124m\"\u001b[39m)\n",
      "\u001b[0;31mAttributeError\u001b[0m: 'TableReader' object has no attribute 'Mvir'"
     ]
    }
   ],
   "source": [
    "#import sys\n",
    "#sys.path.append('../src/')\n",
    "\n",
    "from importlib import reload\n",
    "#import universe\n",
    "#reload(universe)\n",
    "#from universe import *\n",
    "\n",
    "import mass_conversion\n",
    "reload(mass_conversion)\n",
    "from mass_conversion import *\n",
    "\n",
    "#import catalog\n",
    "#reload(catalog)\n",
    "#from catalog import *\n",
    "\n",
    "#import thumbstack\n",
    "#reload(thumbstack)\n",
    "#from thumbstack import *\n",
    "\n",
    "catalog = item\n",
    "#u = UnivMariana()\n",
    "filterType = 'diskring'\n",
    "nProc=64\n",
    "save=True\n",
    "\n",
    "ts = ThumbStack(catalog, \n",
    "                imap, \n",
    "                new_map, \n",
    "                #cmap.hit(), \n",
    "                catalog.name + '_act_test1',\n",
    "                nameLong=None, \n",
    "                save=save, \n",
    "                nProc=nProc,\n",
    "                filterTypes=filterType,\n",
    "                doMBins=False, \n",
    "                doBootstrap=True,\n",
    "                # doStackedMap=True,\n",
    "                doVShuffle=False, \n",
    "                #cmbNu=cmap.nu, \n",
    "                #cmbUnitLatex=cmap.unitLatex,\n",
    "                rApMinArcmin=1.,\n",
    "                pathOut='')"
   ]
  }
 ],
 "metadata": {
  "kernelspec": {
   "display_name": "Python 3 (ipykernel)",
   "language": "python",
   "name": "python3"
  },
  "language_info": {
   "codemirror_mode": {
    "name": "ipython",
    "version": 3
   },
   "file_extension": ".py",
   "mimetype": "text/x-python",
   "name": "python",
   "nbconvert_exporter": "python",
   "pygments_lexer": "ipython3",
   "version": "3.8.16"
  }
 },
 "nbformat": 4,
 "nbformat_minor": 5
}
