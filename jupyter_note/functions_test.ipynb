{
 "cells": [
  {
   "cell_type": "code",
   "execution_count": 2,
   "id": "981dd20f",
   "metadata": {},
   "outputs": [],
   "source": [
    "# local import\n",
    "from my_functions import cutting, massage, mapping, masking\n",
    "import my_functions"
   ]
  },
  {
   "cell_type": "code",
   "execution_count": 7,
   "id": "0a7c76f9",
   "metadata": {},
   "outputs": [
    {
     "name": "stderr",
     "output_type": "stream",
     "text": [
      "WARNING: UnitsWarning: 'log(solMass)' did not parse as fits unit: 'log' is not a recognized function If this is meant to be a custom unit, define it with 'u.def_unit'. To have it recognized inside a file reader or other code, enable it with 'u.add_enabled_units'. For details, see https://docs.astropy.org/en/latest/units/combining_and_defining.html [astropy.units.core]\n",
      "WARNING: UnitsWarning: 'log(solMass/yr)' did not parse as fits unit: 'log' is not a recognized function If this is meant to be a custom unit, define it with 'u.def_unit'. To have it recognized inside a file reader or other code, enable it with 'u.add_enabled_units'. For details, see https://docs.astropy.org/en/latest/units/combining_and_defining.html [astropy.units.core]\n",
      "WARNING: UnitsWarning: 'nanomaggy' did not parse as fits unit: At col 0, Unit 'nanomaggy' not supported by the FITS standard.  If this is meant to be a custom unit, define it with 'u.def_unit'. To have it recognized inside a file reader or other code, enable it with 'u.add_enabled_units'. For details, see https://docs.astropy.org/en/latest/units/combining_and_defining.html [astropy.units.core]\n",
      "WARNING: UnitsWarning: 'nanomaggy^-2' did not parse as fits unit: At col 0, Unit 'nanomaggy' not supported by the FITS standard.  If this is meant to be a custom unit, define it with 'u.def_unit'. To have it recognized inside a file reader or other code, enable it with 'u.add_enabled_units'. For details, see https://docs.astropy.org/en/latest/units/combining_and_defining.html [astropy.units.core]\n"
     ]
    },
    {
     "name": "stdout",
     "output_type": "stream",
     "text": [
      "Min:  -9.9658977026794\n",
      "Max:  -0.0008482402851721889\n"
     ]
    }
   ],
   "source": [
    "# test cutting\n",
    "my_dict={'LOGM': [6,9], 'LOGSFR': [-10,0]}\n",
    "my_data='FujiBGSPhysProp_v1.1'\n",
    "#cutting(my_data, my_dict)\n",
    "\n",
    "# check that it worked (you can change the key to whatever param)\n",
    "print('Min: ', cutting(my_data, my_dict)['LOGSFR'].min())\n",
    "print('Max: ', cutting(my_data, my_dict)['LOGSFR'].max())"
   ]
  },
  {
   "cell_type": "code",
   "execution_count": 4,
   "id": "10baa783",
   "metadata": {},
   "outputs": [
    {
     "name": "stderr",
     "output_type": "stream",
     "text": [
      "WARNING: UnitsWarning: 'log(solMass)' did not parse as fits unit: 'log' is not a recognized function If this is meant to be a custom unit, define it with 'u.def_unit'. To have it recognized inside a file reader or other code, enable it with 'u.add_enabled_units'. For details, see https://docs.astropy.org/en/latest/units/combining_and_defining.html [astropy.units.core]\n",
      "WARNING: UnitsWarning: 'log(solMass/yr)' did not parse as fits unit: 'log' is not a recognized function If this is meant to be a custom unit, define it with 'u.def_unit'. To have it recognized inside a file reader or other code, enable it with 'u.add_enabled_units'. For details, see https://docs.astropy.org/en/latest/units/combining_and_defining.html [astropy.units.core]\n",
      "WARNING: UnitsWarning: 'nanomaggy' did not parse as fits unit: At col 0, Unit 'nanomaggy' not supported by the FITS standard.  If this is meant to be a custom unit, define it with 'u.def_unit'. To have it recognized inside a file reader or other code, enable it with 'u.add_enabled_units'. For details, see https://docs.astropy.org/en/latest/units/combining_and_defining.html [astropy.units.core]\n",
      "WARNING: UnitsWarning: 'nanomaggy^-2' did not parse as fits unit: At col 0, Unit 'nanomaggy' not supported by the FITS standard.  If this is meant to be a custom unit, define it with 'u.def_unit'. To have it recognized inside a file reader or other code, enable it with 'u.add_enabled_units'. For details, see https://docs.astropy.org/en/latest/units/combining_and_defining.html [astropy.units.core]\n"
     ]
    },
    {
     "name": "stdout",
     "output_type": "stream",
     "text": [
      "- read input catalog from this_test.txt\n",
      "- add halo masses\n",
      "- add integrated tau\n",
      "- add integrated kSZ\n",
      "- add integrated y\n",
      "- write full catalog to ../output/catalog/this_test/catalog.txt\n",
      "- load full catalog from ../output/catalog/this_test/catalog.txt\n",
      "- load full catalog from ../output/catalog/this_test/catalog.txt\n"
     ]
    }
   ],
   "source": [
    "# test massage\n",
    "item=massage(cutting(my_data, my_dict), 'this_test')"
   ]
  },
  {
   "cell_type": "code",
   "execution_count": 4,
   "id": "17f65080",
   "metadata": {},
   "outputs": [],
   "source": [
    "# test mapping\n",
    "\n",
    "imap=mapping('act_dr5.01_s08s18_AA_f150_night_map.fits.txt')\n",
    "from pixell import enplot\n",
    "def eshow(x,**kwargs): \n",
    "    ''' Define a function to help us plot the maps neatly '''\n",
    "    plots = enplot.get_plots(x, **kwargs)\n",
    "    enplot.show(plots, method = \"ipython\")\n",
    "    \n",
    "# add \"color\", \"min\", \"max\", \"range\" etc keys here to adjust your plot\n",
    "keys = {\"downgrade\": 8, \"ticks\": 10, \"colorbar\": True}  # def color is planck\n",
    "keys_ex = {\"downgrade\": 8, \"ticks\": 10, \"colorbar\": True, 'color': 'planck', \n",
    "           'min': -200, 'max': 100}  \n",
    "\n",
    "eshow(imap, **keys) "
   ]
  },
  {
   "cell_type": "code",
   "execution_count": 2,
   "id": "c12a6e06",
   "metadata": {},
   "outputs": [],
   "source": [
    "# test masking\n",
    "new_map=masking('act_dr5.01_s08s18_AA_f150_night_map.fits.txt')\n",
    "\n",
    "from pixell import enplot\n",
    "def eshow(x,**kwargs): \n",
    "    ''' Define a function to help us plot the maps neatly '''\n",
    "    plots = enplot.get_plots(x, **kwargs)\n",
    "    enplot.show(plots, method = \"ipython\")\n",
    "    \n",
    "# add \"color\", \"min\", \"max\", \"range\" etc keys here to adjust your plot\n",
    "keys = {\"downgrade\": 8, \"ticks\": 10, \"colorbar\": True}  # def color is planck\n",
    "keys_ex = {\"downgrade\": 8, \"ticks\": 10, \"colorbar\": True, 'color': 'planck', \n",
    "           'min': -200, 'max': 100}  \n",
    "\n",
    "eshow(new_map, **keys)"
   ]
  },
  {
   "cell_type": "code",
   "execution_count": 1,
   "id": "7368db05",
   "metadata": {},
   "outputs": [
    {
     "name": "stdout",
     "output_type": "stream",
     "text": [
      "- Map: Importing CMB map\n",
      "- Map: Remove polarization\n",
      "- Map: Saving map as act_test2_map.fits\n",
      "- Map: Creation Done\n",
      "- Mask: Importing CMB Map\n",
      "- Mask: Remove Polarization and have all int>1 become 1\n",
      "- Mask: Importing Planck mask\n",
      "- Mask: Changing Planck mask to pixell friendly\n",
      "- Mask: Saving mask as act_test2_mask.fits\n",
      "- Mask: Creation Done\n"
     ]
    }
   ],
   "source": [
    "# see if thumbstack works given all the new functions:\n",
    "import sys\n",
    "sys.path.append('../src/')\n",
    "import thumbstack\n",
    "from thumbstack import *\n",
    "\n",
    "# note: import my_functions from src (easier than jumping between directories)\n",
    "from my_functions import cutting, mapping, masking\n",
    "\n",
    "#from my_functions import massage\n",
    "import numpy as np\n",
    "\n",
    "imap=mapping('act_dr5.01_s08s18_AA_f150_night_map.fits.txt', save=True, save_name='act_test2_map')\n",
    "\n",
    "new_map=masking('act_dr5.01_s08s18_AA_f150_night_map.fits.txt', 'gal60_mask.fits', save=True, save_name='act_test2_mask')\n",
    "\n",
    "#my_dict={'LOGM': [6,9], 'LOGSFR': [-10,0]}\n",
    "my_dict={'LOGM': [6,6.5], 'LOGSFR': [-1.5,0]}\n",
    "my_data='FujiBGSPhysProp_v1.1'\n",
    "\n",
    "#item=massage(cutting(my_data, my_dict), 'this_test')\n",
    "#item=TableReader(cutting(my_data, my_dict))"
   ]
  },
  {
   "cell_type": "code",
   "execution_count": 1,
   "id": "cd9f70f7",
   "metadata": {},
   "outputs": [
    {
     "name": "stderr",
     "output_type": "stream",
     "text": [
      "WARNING: UnitsWarning: 'log(solMass)' did not parse as fits unit: 'log' is not a recognized function If this is meant to be a custom unit, define it with 'u.def_unit'. To have it recognized inside a file reader or other code, enable it with 'u.add_enabled_units'. For details, see https://docs.astropy.org/en/latest/units/combining_and_defining.html [astropy.units.core]\n",
      "WARNING: UnitsWarning: 'log(solMass/yr)' did not parse as fits unit: 'log' is not a recognized function If this is meant to be a custom unit, define it with 'u.def_unit'. To have it recognized inside a file reader or other code, enable it with 'u.add_enabled_units'. For details, see https://docs.astropy.org/en/latest/units/combining_and_defining.html [astropy.units.core]\n",
      "WARNING: UnitsWarning: 'nanomaggy' did not parse as fits unit: At col 0, Unit 'nanomaggy' not supported by the FITS standard.  If this is meant to be a custom unit, define it with 'u.def_unit'. To have it recognized inside a file reader or other code, enable it with 'u.add_enabled_units'. For details, see https://docs.astropy.org/en/latest/units/combining_and_defining.html [astropy.units.core]\n",
      "WARNING: UnitsWarning: 'nanomaggy^-2' did not parse as fits unit: At col 0, Unit 'nanomaggy' not supported by the FITS standard.  If this is meant to be a custom unit, define it with 'u.def_unit'. To have it recognized inside a file reader or other code, enable it with 'u.add_enabled_units'. For details, see https://docs.astropy.org/en/latest/units/combining_and_defining.html [astropy.units.core]\n"
     ]
    },
    {
     "name": "stdout",
     "output_type": "stream",
     "text": [
      "- Property boundaries applied\n",
      "- Property boundaries applied\n",
      "- load full table\n",
      "- Thumbstack: act_test4\n",
      "Evaluate all filters on all objects\n",
      "took 0.3558838168780009 min\n",
      "- compute all stacked profiles and their cov\n",
      "Computing all stacked profiles (and cov) took 0.8004392345746358 min\n",
      "- load stacked profiles and their cov\n",
      "- plot all stacked profiles\n",
      "- compute all SNR and significances\n",
      "- compute SNR and significances for diskring tsz_uniformweight \n"
     ]
    },
    {
     "data": {
      "text/plain": [
       "<Figure size 640x480 with 0 Axes>"
      ]
     },
     "metadata": {},
     "output_type": "display_data"
    }
   ],
   "source": [
    "import sys\n",
    "sys.path.append('../src/')\n",
    "\n",
    "from pixell import enmap\n",
    "\n",
    "mapped = enmap.read_map('act_test2_map')\n",
    "masked = enmap.read_map('act_test2_mask')\n",
    "my_dict={'LOGM': [6,6.5], 'LOGSFR': [-1.5,0]}\n",
    "my_data='FujiBGSPhysProp_v1.1'\n",
    "\n",
    "from my_functions import cutting\n",
    "\n",
    "from importlib import reload\n",
    "#import universe\n",
    "#reload(universe)\n",
    "#from universe import *\n",
    "\n",
    "import mass_conversion\n",
    "reload(mass_conversion)\n",
    "from mass_conversion import *\n",
    "\n",
    "#import catalog\n",
    "#reload(catalog)\n",
    "#from catalog import *\n",
    "\n",
    "import thumbstack\n",
    "#reload(thumbstack)\n",
    "from thumbstack import *\n",
    "\n",
    "ts = ThumbStack(cutting(my_data, my_dict), \n",
    "                mapped, \n",
    "                masked, \n",
    "                name='act_test4',\n",
    "                nameLong=None, \n",
    "                save=True, \n",
    "                nProc=32,\n",
    "                filterType='ringring2',\n",
    "                #doMBins=False, \n",
    "                doBootstrap=True,\n",
    "                # doStackedMap=True,\n",
    "                #doVShuffle=False, \n",
    "                #cmbNu=cmap.nu, \n",
    "                #cmbUnitLatex=cmap.unitLatex,\n",
    "                pathOut='../') #pathOut goes to my ThumbStack directory"
   ]
  },
  {
   "cell_type": "code",
   "execution_count": 3,
   "id": "ff2d3aaa-d339-4e92-a940-f08e0e77c321",
   "metadata": {},
   "outputs": [
    {
     "data": {
      "text/html": [
       "<div><i>Table length=9</i>\n",
       "<table id=\"table140522616811968\" class=\"table-striped table-bordered table-condensed\">\n",
       "<thead><tr><th>R</th><th>T</th><th>error</th></tr></thead>\n",
       "<thead><tr><th>float64</th><th>float64</th><th>float64</th></tr></thead>\n",
       "<tr><td>1.0</td><td>40.57755891226443</td><td>15.54643466882718</td></tr>\n",
       "<tr><td>1.625</td><td>88.14782773840301</td><td>52.53309785282838</td></tr>\n",
       "<tr><td>2.25</td><td>197.7191040283804</td><td>73.86228680142</td></tr>\n",
       "<tr><td>2.875</td><td>195.17939175985055</td><td>119.71389809799777</td></tr>\n",
       "<tr><td>3.5</td><td>195.1132672608994</td><td>168.56708450336578</td></tr>\n",
       "<tr><td>4.125</td><td>141.75359911441367</td><td>209.53056976723326</td></tr>\n",
       "<tr><td>4.75</td><td>11.186512424332578</td><td>228.45930629868667</td></tr>\n",
       "<tr><td>5.375</td><td>-157.52658894272952</td><td>284.13893038660575</td></tr>\n",
       "<tr><td>6.0</td><td>-306.5893292966299</td><td>354.0361314114843</td></tr>\n",
       "</table></div>"
      ],
      "text/plain": [
       "<Table length=9>\n",
       "   R             T                error       \n",
       "float64       float64            float64      \n",
       "------- ------------------- ------------------\n",
       "    1.0   40.57755891226443  15.54643466882718\n",
       "  1.625   88.14782773840301  52.53309785282838\n",
       "   2.25   197.7191040283804     73.86228680142\n",
       "  2.875  195.17939175985055 119.71389809799777\n",
       "    3.5   195.1132672608994 168.56708450336578\n",
       "  4.125  141.75359911441367 209.53056976723326\n",
       "   4.75  11.186512424332578 228.45930629868667\n",
       "  5.375 -157.52658894272952 284.13893038660575\n",
       "    6.0  -306.5893292966299  354.0361314114843"
      ]
     },
     "execution_count": 3,
     "metadata": {},
     "output_type": "execute_result"
    }
   ],
   "source": [
    "data=Table.read('figures/thumbstack/act_test3/diskring_tsz_uniformweight.fits', format='fits')\n",
    "data"
   ]
  },
  {
   "cell_type": "code",
   "execution_count": 2,
   "id": "9974f6fa-4850-4708-9938-8fc2a3bc552e",
   "metadata": {},
   "outputs": [
    {
     "name": "stderr",
     "output_type": "stream",
     "text": [
      "WARNING: UnitsWarning: 'log(solMass)' did not parse as fits unit: 'log' is not a recognized function If this is meant to be a custom unit, define it with 'u.def_unit'. To have it recognized inside a file reader or other code, enable it with 'u.add_enabled_units'. For details, see https://docs.astropy.org/en/latest/units/combining_and_defining.html [astropy.units.core]\n",
      "WARNING: UnitsWarning: 'log(solMass/yr)' did not parse as fits unit: 'log' is not a recognized function If this is meant to be a custom unit, define it with 'u.def_unit'. To have it recognized inside a file reader or other code, enable it with 'u.add_enabled_units'. For details, see https://docs.astropy.org/en/latest/units/combining_and_defining.html [astropy.units.core]\n",
      "WARNING: UnitsWarning: 'nanomaggy' did not parse as fits unit: At col 0, Unit 'nanomaggy' not supported by the FITS standard.  If this is meant to be a custom unit, define it with 'u.def_unit'. To have it recognized inside a file reader or other code, enable it with 'u.add_enabled_units'. For details, see https://docs.astropy.org/en/latest/units/combining_and_defining.html [astropy.units.core]\n",
      "WARNING: UnitsWarning: 'nanomaggy^-2' did not parse as fits unit: At col 0, Unit 'nanomaggy' not supported by the FITS standard.  If this is meant to be a custom unit, define it with 'u.def_unit'. To have it recognized inside a file reader or other code, enable it with 'u.add_enabled_units'. For details, see https://docs.astropy.org/en/latest/units/combining_and_defining.html [astropy.units.core]\n"
     ]
    },
    {
     "data": {
      "text/plain": [
       "426267"
      ]
     },
     "execution_count": 2,
     "metadata": {},
     "output_type": "execute_result"
    }
   ],
   "source": [
    "from astropy.table import Table\n",
    "thing=Table.read('FujiBGSPhysProp_v1.1.fits', format='fits')\n",
    "len(thing)"
   ]
  },
  {
   "cell_type": "code",
   "execution_count": 70,
   "id": "8c67f4bb-8db3-4605-a0ff-7b5a9704ec5d",
   "metadata": {},
   "outputs": [
    {
     "name": "stdout",
     "output_type": "stream",
     "text": [
      "- Property boundaries applied\n"
     ]
    },
    {
     "data": {
      "text/plain": [
       "270.2764778957322"
      ]
     },
     "execution_count": 70,
     "metadata": {},
     "output_type": "execute_result"
    }
   ],
   "source": [
    "from my_functions import cutting\n",
    "\n",
    "my_dict={'LOGM': [6,6.5], 'LOGSFR': [-1.5,0]}\n",
    "my_data='FujiBGSPhysProp_v1.1'\n",
    "cutting(my_data, my_dict)['RA'].max()"
   ]
  },
  {
   "cell_type": "code",
   "execution_count": 68,
   "id": "2e98e76d-f876-4507-9a50-254e2fc568b8",
   "metadata": {},
   "outputs": [
    {
     "name": "stderr",
     "output_type": "stream",
     "text": [
      "WARNING: UnitsWarning: 'log(solMass)' did not parse as fits unit: 'log' is not a recognized function If this is meant to be a custom unit, define it with 'u.def_unit'. To have it recognized inside a file reader or other code, enable it with 'u.add_enabled_units'. For details, see https://docs.astropy.org/en/latest/units/combining_and_defining.html [astropy.units.core]\n",
      "WARNING: UnitsWarning: 'log(solMass/yr)' did not parse as fits unit: 'log' is not a recognized function If this is meant to be a custom unit, define it with 'u.def_unit'. To have it recognized inside a file reader or other code, enable it with 'u.add_enabled_units'. For details, see https://docs.astropy.org/en/latest/units/combining_and_defining.html [astropy.units.core]\n",
      "WARNING: UnitsWarning: 'nanomaggy' did not parse as fits unit: At col 0, Unit 'nanomaggy' not supported by the FITS standard.  If this is meant to be a custom unit, define it with 'u.def_unit'. To have it recognized inside a file reader or other code, enable it with 'u.add_enabled_units'. For details, see https://docs.astropy.org/en/latest/units/combining_and_defining.html [astropy.units.core]\n",
      "WARNING: UnitsWarning: 'nanomaggy^-2' did not parse as fits unit: At col 0, Unit 'nanomaggy' not supported by the FITS standard.  If this is meant to be a custom unit, define it with 'u.def_unit'. To have it recognized inside a file reader or other code, enable it with 'u.add_enabled_units'. For details, see https://docs.astropy.org/en/latest/units/combining_and_defining.html [astropy.units.core]\n"
     ]
    },
    {
     "data": {
      "text/html": [
       "<div><i>Table length=5</i>\n",
       "<table id=\"table140554956693024\" class=\"table-striped table-bordered table-condensed\">\n",
       "<thead><tr><th>n_galaxies</th><th>RA_min</th><th>RA_max</th><th>LOGM_min</th><th>LOGM_max</th><th>LOGSFR_min</th><th>LOGSFR_max</th><th>AGNLUM_min</th><th>AGNLUM_max</th></tr></thead>\n",
       "<thead><tr><th>int64</th><th>float64</th><th>float64</th><th>float64</th><th>float64</th><th>float64</th><th>float64</th><th>float64</th><th>float64</th></tr></thead>\n",
       "<tr><td>85254</td><td>2.4135933394132487</td><td>149.39235452732646</td><td>4.314297592227383</td><td>13.138921044094747</td><td>-25.135321291401723</td><td>3.555474311573235</td><td>1.25916009903467e+21</td><td>8.213239150406978e+40</td></tr>\n",
       "<tr><td>85254</td><td>149.39241037965164</td><td>181.33180714785743</td><td>4.916750173181314</td><td>12.629670889487581</td><td>-24.990578114178568</td><td>4.274934366575584</td><td>3180720932.304336</td><td>9.997376927217544e+40</td></tr>\n",
       "<tr><td>85253</td><td>181.33202201602631</td><td>210.43707551487242</td><td>4.444649764600156</td><td>12.265495598667647</td><td>-26.852317353228255</td><td>4.070663343669675</td><td>3.038670574451414e+19</td><td>1.0111045750143736e+41</td></tr>\n",
       "<tr><td>85253</td><td>210.4374650776045</td><td>235.4572925760824</td><td>4.917915507662218</td><td>12.087313182088096</td><td>-27.2325828217146</td><td>4.083387950135478</td><td>78128090498391.45</td><td>6.579411099158795e+40</td></tr>\n",
       "<tr><td>85253</td><td>235.4573075165681</td><td>357.8065633418584</td><td>5.012098823384374</td><td>12.033564654792158</td><td>-28.223261274806394</td><td>4.089956434890958</td><td>230563.7007796219</td><td>4.390343883668819e+40</td></tr>\n",
       "</table></div>"
      ],
      "text/plain": [
       "<Table length=5>\n",
       "n_galaxies       RA_min       ...       AGNLUM_min            AGNLUM_max      \n",
       "  int64         float64       ...        float64               float64        \n",
       "---------- ------------------ ... --------------------- ----------------------\n",
       "     85254 2.4135933394132487 ...  1.25916009903467e+21  8.213239150406978e+40\n",
       "     85254 149.39241037965164 ...     3180720932.304336  9.997376927217544e+40\n",
       "     85253 181.33202201602631 ... 3.038670574451414e+19 1.0111045750143736e+41\n",
       "     85253  210.4374650776045 ...     78128090498391.45  6.579411099158795e+40\n",
       "     85253  235.4573075165681 ...     230563.7007796219  4.390343883668819e+40"
      ]
     },
     "execution_count": 68,
     "metadata": {},
     "output_type": "execute_result"
    }
   ],
   "source": [
    "import sys\n",
    "sys.path.append('../src/')\n",
    "\n",
    "from my_functions import binning\n",
    "\n",
    "binning('FujiBGSPhysProp_v1.1', 5, 'RA', tabled=True)"
   ]
  }
 ],
 "metadata": {
  "kernelspec": {
   "display_name": "Python 3 (ipykernel)",
   "language": "python",
   "name": "python3"
  },
  "language_info": {
   "codemirror_mode": {
    "name": "ipython",
    "version": 3
   },
   "file_extension": ".py",
   "mimetype": "text/x-python",
   "name": "python",
   "nbconvert_exporter": "python",
   "pygments_lexer": "ipython3",
   "version": "3.8.16"
  }
 },
 "nbformat": 4,
 "nbformat_minor": 5
}
